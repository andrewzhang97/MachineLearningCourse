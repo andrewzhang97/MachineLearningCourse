{
 "cells": [
  {
   "cell_type": "code",
   "execution_count": 1,
   "metadata": {},
   "outputs": [],
   "source": [
    "import numpy as np\n",
    "import scipy.io as sio\n",
    "import matplotlib.pyplot as plt"
   ]
  },
  {
   "cell_type": "code",
   "execution_count": 2,
   "metadata": {},
   "outputs": [],
   "source": [
    "data1=sio.loadmat('PA_1_matlab/poly_data.mat')"
   ]
  },
  {
   "cell_type": "code",
   "execution_count": 3,
   "metadata": {
    "scrolled": true
   },
   "outputs": [
    {
     "name": "stdout",
     "output_type": "stream",
     "text": [
      "{'sampx': array([[-1.31701448,  0.93763982, -1.08750007, -1.61368873, -1.2664458 ,\n",
      "        -1.15450337,  0.26177809, -0.29568377, -1.55716341,  0.75451085,\n",
      "         1.06393532,  1.56086716,  1.49433277, -0.74917179,  0.66964579,\n",
      "        -1.26324901,  0.57392856, -1.98265409,  1.53266188, -0.55170207,\n",
      "        -0.45675826, -0.73604465,  1.29749965, -0.92340095,  0.40030965,\n",
      "         0.00431016,  0.44082691,  0.97782642, -1.67139471,  0.86918266,\n",
      "         0.35288361, -1.08510231, -1.31458641,  1.74614486, -0.54335475,\n",
      "        -0.16332908, -1.07176633, -1.17663724,  0.25782398,  1.24760952,\n",
      "         0.57320232,  1.8113091 , -1.32787735, -1.63461874, -1.0371066 ,\n",
      "         1.34941838, -0.32533439,  0.10497248,  0.27242295, -1.38741825]]), 'sampy': array([[  6.47965192],\n",
      "       [  1.09919175],\n",
      "       [  4.75243053],\n",
      "       [ 16.56235455],\n",
      "       [  4.17810578],\n",
      "       [  3.36120385],\n",
      "       [  4.23118462],\n",
      "       [ -0.97410879],\n",
      "       [ 10.94580799],\n",
      "       [  1.14359713],\n",
      "       [ -0.37652906],\n",
      "       [ -3.26503797],\n",
      "       [  0.85582896],\n",
      "       [  2.09168256],\n",
      "       [  3.42754876],\n",
      "       [  3.70698418],\n",
      "       [  0.08245344],\n",
      "       [ 29.45766743],\n",
      "       [ -3.17956125],\n",
      "       [  1.31539133],\n",
      "       [ -1.04609201],\n",
      "       [ -1.53583514],\n",
      "       [ -0.65911162],\n",
      "       [  5.06620104],\n",
      "       [  1.65465833],\n",
      "       [ -2.40523045],\n",
      "       [  2.0633614 ],\n",
      "       [  2.06179902],\n",
      "       [ 14.61024387],\n",
      "       [  2.6361631 ],\n",
      "       [  2.84261831],\n",
      "       [  2.57038974],\n",
      "       [  0.57427209],\n",
      "       [ -7.39930808],\n",
      "       [  2.06860606],\n",
      "       [  1.27846582],\n",
      "       [  1.67050761],\n",
      "       [  3.51350844],\n",
      "       [ -2.86425815],\n",
      "       [  0.05188772],\n",
      "       [  2.42364808],\n",
      "       [-11.7391293 ],\n",
      "       [  4.88182033],\n",
      "       [ 13.74338877],\n",
      "       [  6.06959807],\n",
      "       [ -1.00978876],\n",
      "       [ -0.33102658],\n",
      "       [  2.92825467],\n",
      "       [ -0.06573705],\n",
      "       [  6.57644372]]), 'polyy': array([[ 33.13444357],\n",
      "       [ 30.39822583],\n",
      "       [ 27.85027291],\n",
      "       [ 25.48045523],\n",
      "       [ 23.27903265],\n",
      "       [ 21.23664648],\n",
      "       [ 19.34431153],\n",
      "       [ 17.59340811],\n",
      "       [ 15.97567405],\n",
      "       [ 14.48319671],\n",
      "       [ 13.10840498],\n",
      "       [ 11.84406134],\n",
      "       [ 10.68325383],\n",
      "       [  9.61938812],\n",
      "       [  8.64617946],\n",
      "       [  7.75764474],\n",
      "       [  6.94809449],\n",
      "       [  6.21212493],\n",
      "       [  5.54460993],\n",
      "       [  4.94069305],\n",
      "       [  4.39577959],\n",
      "       [  3.90552855],\n",
      "       [  3.46584469],\n",
      "       [  3.07287052],\n",
      "       [  2.72297832],\n",
      "       [  2.41276218],\n",
      "       [  2.13902999],\n",
      "       [  1.89879546],\n",
      "       [  1.68927013],\n",
      "       [  1.50785542],\n",
      "       [  1.35213462],\n",
      "       [  1.21986488],\n",
      "       [  1.10896929],\n",
      "       [  1.01752884],\n",
      "       [  0.94377448],\n",
      "       [  0.88607907],\n",
      "       [  0.8429495 ],\n",
      "       [  0.81301859],\n",
      "       [  0.7950372 ],\n",
      "       [  0.78786619],\n",
      "       [  0.79046846],\n",
      "       [  0.80190097],\n",
      "       [  0.82130673],\n",
      "       [  0.84790685],\n",
      "       [  0.88099252],\n",
      "       [  0.91991706],\n",
      "       [  0.96408793],\n",
      "       [  1.01295872],\n",
      "       [  1.06602119],\n",
      "       [  1.12279729],\n",
      "       [  1.18283115],\n",
      "       [  1.24568113],\n",
      "       [  1.31091181],\n",
      "       [  1.37808601],\n",
      "       [  1.44675683],\n",
      "       [  1.51645964],\n",
      "       [  1.58670409],\n",
      "       [  1.65696615],\n",
      "       [  1.72668012],\n",
      "       [  1.79523065],\n",
      "       [  1.86194473],\n",
      "       [  1.92608373],\n",
      "       [  1.98683543],\n",
      "       [  2.04330598],\n",
      "       [  2.09451201],\n",
      "       [  2.13937252],\n",
      "       [  2.17670103],\n",
      "       [  2.2051975 ],\n",
      "       [  2.22344037],\n",
      "       [  2.22987861],\n",
      "       [  2.2228237 ],\n",
      "       [  2.20044165],\n",
      "       [  2.16074503],\n",
      "       [  2.10158498],\n",
      "       [  2.02064323],\n",
      "       [  1.9154241 ],\n",
      "       [  1.78324654],\n",
      "       [  1.62123613],\n",
      "       [  1.4263171 ],\n",
      "       [  1.19520434],\n",
      "       [  0.92439543],\n",
      "       [  0.61016266],\n",
      "       [  0.24854501],\n",
      "       [ -0.16465979],\n",
      "       [ -0.63390326],\n",
      "       [ -1.16389417],\n",
      "       [ -1.75960649],\n",
      "       [ -2.42628742],\n",
      "       [ -3.16946533],\n",
      "       [ -3.99495776],\n",
      "       [ -4.90887942],\n",
      "       [ -5.91765014],\n",
      "       [ -7.02800287],\n",
      "       [ -8.2469917 ],\n",
      "       [ -9.58199978],\n",
      "       [-11.04074733],\n",
      "       [-12.63129965],\n",
      "       [-14.36207506],\n",
      "       [-16.24185294],\n",
      "       [-18.27978163]]), 'polyx': array([[-2.        , -1.95959596, -1.91919192, -1.87878788, -1.83838384,\n",
      "        -1.7979798 , -1.75757576, -1.71717172, -1.67676768, -1.63636364,\n",
      "        -1.5959596 , -1.55555556, -1.51515152, -1.47474747, -1.43434343,\n",
      "        -1.39393939, -1.35353535, -1.31313131, -1.27272727, -1.23232323,\n",
      "        -1.19191919, -1.15151515, -1.11111111, -1.07070707, -1.03030303,\n",
      "        -0.98989899, -0.94949495, -0.90909091, -0.86868687, -0.82828283,\n",
      "        -0.78787879, -0.74747475, -0.70707071, -0.66666667, -0.62626263,\n",
      "        -0.58585859, -0.54545455, -0.50505051, -0.46464646, -0.42424242,\n",
      "        -0.38383838, -0.34343434, -0.3030303 , -0.26262626, -0.22222222,\n",
      "        -0.18181818, -0.14141414, -0.1010101 , -0.06060606, -0.02020202,\n",
      "         0.02020202,  0.06060606,  0.1010101 ,  0.14141414,  0.18181818,\n",
      "         0.22222222,  0.26262626,  0.3030303 ,  0.34343434,  0.38383838,\n",
      "         0.42424242,  0.46464646,  0.50505051,  0.54545455,  0.58585859,\n",
      "         0.62626263,  0.66666667,  0.70707071,  0.74747475,  0.78787879,\n",
      "         0.82828283,  0.86868687,  0.90909091,  0.94949495,  0.98989899,\n",
      "         1.03030303,  1.07070707,  1.11111111,  1.15151515,  1.19191919,\n",
      "         1.23232323,  1.27272727,  1.31313131,  1.35353535,  1.39393939,\n",
      "         1.43434343,  1.47474747,  1.51515152,  1.55555556,  1.5959596 ,\n",
      "         1.63636364,  1.67676768,  1.71717172,  1.75757576,  1.7979798 ,\n",
      "         1.83838384,  1.87878788,  1.91919192,  1.95959596,  2.        ]]), '__header__': 'MATLAB 5.0 MAT-file, Platform: PCWIN, Created on: Thu Sep 13 17:24:52 2012', '__globals__': [], 'thtrue': array([[ 1.15243484],\n",
      "       [ 1.4862926 ],\n",
      "       [ 0.92950599],\n",
      "       [-1.11344191],\n",
      "       [ 0.15980451],\n",
      "       [-0.61788008]]), '__version__': '1.0'}\n"
     ]
    }
   ],
   "source": [
    "print data1"
   ]
  },
  {
   "cell_type": "code",
   "execution_count": 4,
   "metadata": {},
   "outputs": [],
   "source": [
    "sampx=data1['sampx']\n",
    "sampy=data1['sampy']\n",
    "polyy=data1['polyy']\n",
    "polyx=data1['polyx']\n",
    "thtrue=data1['thtrue']"
   ]
  },
  {
   "cell_type": "code",
   "execution_count": 5,
   "metadata": {},
   "outputs": [
    {
     "name": "stdout",
     "output_type": "stream",
     "text": [
      "(6, 1)\n",
      "(1, 50)\n",
      "(50, 1)\n",
      "(1, 100)\n",
      "(100, 1)\n",
      "(6,)\n",
      "(50,)\n"
     ]
    }
   ],
   "source": [
    "print thtrue.shape\n",
    "print sampx.shape\n",
    "print sampy.shape\n",
    "print polyx.shape\n",
    "print polyy.shape\n",
    "\n",
    "print thtrue.T[0].shape\n",
    "print sampx[0].shape"
   ]
  },
  {
   "cell_type": "code",
   "execution_count": 6,
   "metadata": {},
   "outputs": [
    {
     "name": "stdout",
     "output_type": "stream",
     "text": [
      "(6, 50)\n",
      "[[3.99387518e-02]\n",
      " [1.04428499e+00]\n",
      " [2.31546163e+00]\n",
      " [8.20659425e+00]\n",
      " [1.60924284e+00]\n",
      " [3.35012367e-01]\n",
      " [7.00108956e+00]\n",
      " [3.23905922e+00]\n",
      " [8.95946328e-01]\n",
      " [1.17041886e+00]\n",
      " [4.76954668e+00]\n",
      " [6.59412414e-05]\n",
      " [8.58139537e+00]\n",
      " [7.51179440e-01]\n",
      " [1.55857336e+00]\n",
      " [2.85751611e+00]\n",
      " [3.99020102e+00]\n",
      " [6.14226088e+00]\n",
      " [1.94411401e-01]\n",
      " [2.17779483e-01]\n",
      " [3.38160393e+00]\n",
      " [7.41062496e+00]\n",
      " [1.10974241e+00]\n",
      " [9.52322854e+00]\n",
      " [2.82344986e-02]\n",
      " [1.27027277e+01]\n",
      " [3.05318934e-02]\n",
      " [2.11531881e-04]\n",
      " [1.34538286e+00]\n",
      " [1.90182690e-01]\n",
      " [1.20951226e+00]\n",
      " [4.06236581e-01]\n",
      " [3.20711510e+01]\n",
      " [2.41446000e-01]\n",
      " [1.50681993e+00]\n",
      " [1.14889191e-01]\n",
      " [1.99402658e+00]\n",
      " [4.76988292e-01]\n",
      " [1.97367101e+01]\n",
      " [5.75986406e-01]\n",
      " [1.18712206e-01]\n",
      " [2.85594306e+00]\n",
      " [2.53035898e+00]\n",
      " [4.59761990e-01]\n",
      " [1.08278520e+01]\n",
      " [7.91601375e-01]\n",
      " [1.30115807e+00]\n",
      " [2.59478612e+00]\n",
      " [2.78721886e+00]\n",
      " [1.09273701e+00]]\n",
      "[[ 6.15769274e-01]\n",
      " [ 1.10406633e+00]\n",
      " [ 1.33022515e+00]\n",
      " [-6.93228415e-01]\n",
      " [ 9.17835000e-04]\n",
      " [-6.86117508e-01]]\n",
      "(6, 1)\n"
     ]
    },
    {
     "data": {
      "image/png": "[encoded data removed]",
      "text/plain": [
       "<Figure size 432x288 with 1 Axes>"
      ]
     },
     "metadata": {
      "needs_background": "light"
     },
     "output_type": "display_data"
    }
   ],
   "source": [
    "def polyfunc(sampx,thtrue):\n",
    "    m=len(sampx[0])\n",
    "    n=len(thtrue.T[0])\n",
    "    X=np.zeros((n,m))\n",
    "    for j in range(m):\n",
    "        for i in range(n):\n",
    "            X[i][j]=np.power(sampx[0][j],i)\n",
    "    polyresA=np.dot(thtrue.T,X)\n",
    "    print X.shape\n",
    "    return polyresA,X\n",
    "polyfunc,Phi=polyfunc(sampx,thtrue)\n",
    "\n",
    "def LSfunc(polyfunc,sampy):\n",
    "    res=np.power(sampy-polyfunc.T,2)\n",
    "    return res\n",
    "\n",
    "LS= LSfunc(polyfunc,sampy)\n",
    "print LS\n",
    "\n",
    "def paraestimate(Phi,sampy):\n",
    "    A=np.linalg.inv(np.dot(Phi,Phi.T))\n",
    "    theta_ls=np.dot(np.dot(A,Phi),sampy)\n",
    "    return theta_ls\n",
    "print paraestimate(Phi,sampy)\n",
    "theta_real=paraestimate(Phi,sampy)\n",
    "print theta_real.shape\n",
    "\n",
    "x=np.linspace(-2,2,100)\n",
    "y=np.linspace(-20,40,100)\n",
    "f=theta_real[0][0]+theta_real[1][0]*x+theta_real[2][0]*np.power(x,2)+theta_real[3][0]*np.power(x,3)+theta_real[4][0]*np.power(x,4)+theta_real[5][0]*np.power(x,5)\n",
    "fig,ax=plt.subplots()\n",
    "ax.scatter(data1['sampx'],data1['sampy'],c='r',marker='o',label='samples')\n",
    "ax.legend()\n",
    "ax.set(xlabel='x')\n",
    "ax.plot(x,f,c='green')\n",
    "plt.show()"
   ]
  },
  {
   "cell_type": "code",
   "execution_count": 7,
   "metadata": {},
   "outputs": [
    {
     "name": "stdout",
     "output_type": "stream",
     "text": [
      "[[ 0.68185088]\n",
      " [ 0.8032859 ]\n",
      " [ 1.17035187]\n",
      " [-0.43660814]\n",
      " [ 0.04726588]\n",
      " [-0.73411837]]\n",
      "(6, 1)\n"
     ]
    },
    {
     "data": {
      "image/png": "[encoded data removed]",
      "text/plain": [
       "<Figure size 432x288 with 1 Axes>"
      ]
     },
     "metadata": {
      "needs_background": "light"
     },
     "output_type": "display_data"
    },
    {
     "name": "stdout",
     "output_type": "stream",
     "text": [
      "(6, 50)\n"
     ]
    }
   ],
   "source": [
    "#this is regularized fuc below \n",
    "def LSfuncReg(polyfunc,sampy,thtrue,lmb=1):\n",
    "    res=np.power(sampy-polyfunc.T,2)+np.dot(lmb,np.power(thtrue,2))\n",
    "    return res\n",
    "\n",
    "def paraestimateReg(Phi,sampy,lmb=1):\n",
    "    A=np.linalg.inv(np.dot(Phi,Phi.T)+lmb*np.eye(6))\n",
    "    theta_ls=np.dot(np.dot(A,Phi),sampy)\n",
    "    return theta_ls\n",
    "print paraestimateReg(Phi,sampy)\n",
    "theta_real_reg=paraestimateReg(Phi,sampy,lmb=1)\n",
    "print theta_real_reg.shape\n",
    "\n",
    "x=np.linspace(-2,2,100)\n",
    "y=np.linspace(-20,40,100)\n",
    "f=theta_real_reg[0][0]+theta_real_reg[1][0]*x+theta_real_reg[2][0]*np.power(x,2)+theta_real_reg[3][0]*np.power(x,3)+theta_real_reg[4][0]*np.power(x,4)+theta_real_reg[5][0]*np.power(x,5)\n",
    "fig,ax=plt.subplots()\n",
    "ax.scatter(data1['sampx'],data1['sampy'],c='r',marker='x',label='samples')\n",
    "ax.legend()\n",
    "ax.set(xlabel='x')\n",
    "ax.plot(x,f,c='green')\n",
    "plt.show()\n",
    "print Phi.shape"
   ]
  },
  {
   "cell_type": "code",
   "execution_count": 8,
   "metadata": {},
   "outputs": [
    {
     "name": "stdout",
     "output_type": "stream",
     "text": [
      "[[   50.            -7.13846373    59.56833439   -15.02897815\n",
      "    120.96530399   -34.17811531   -50.             7.13846373\n",
      "    -59.56833439    15.02897815  -120.96530399    34.17811531]\n",
      " [   -7.13846373    59.56833439   -15.02897815   120.96530399\n",
      "    -34.17811531   297.39820191     7.13846373   -59.56833439\n",
      "     15.02897815  -120.96530399    34.17811531  -297.39820191]\n",
      " [   59.56833439   -15.02897815   120.96530399   -34.17811531\n",
      "    297.39820191   -97.89296838   -59.56833439    15.02897815\n",
      "   -120.96530399    34.17811531  -297.39820191    97.89296838]\n",
      " [  -15.02897815   120.96530399   -34.17811531   297.39820191\n",
      "    -97.89296838   821.47877846    15.02897815  -120.96530399\n",
      "     34.17811531  -297.39820191    97.89296838  -821.47877846]\n",
      " [  120.96530399   -34.17811531   297.39820191   -97.89296838\n",
      "    821.47877846  -339.00343069  -120.96530399    34.17811531\n",
      "   -297.39820191    97.89296838  -821.47877846   339.00343069]\n",
      " [  -34.17811531   297.39820191   -97.89296838   821.47877846\n",
      "   -339.00343069  2464.58543787    34.17811531  -297.39820191\n",
      "     97.89296838  -821.47877846   339.00343069 -2464.58543787]\n",
      " [  -50.             7.13846373   -59.56833439    15.02897815\n",
      "   -120.96530399    34.17811531    50.            -7.13846373\n",
      "     59.56833439   -15.02897815   120.96530399   -34.17811531]\n",
      " [    7.13846373   -59.56833439    15.02897815  -120.96530399\n",
      "     34.17811531  -297.39820191    -7.13846373    59.56833439\n",
      "    -15.02897815   120.96530399   -34.17811531   297.39820191]\n",
      " [  -59.56833439    15.02897815  -120.96530399    34.17811531\n",
      "   -297.39820191    97.89296838    59.56833439   -15.02897815\n",
      "    120.96530399   -34.17811531   297.39820191   -97.89296838]\n",
      " [   15.02897815  -120.96530399    34.17811531  -297.39820191\n",
      "     97.89296838  -821.47877846   -15.02897815   120.96530399\n",
      "    -34.17811531   297.39820191   -97.89296838   821.47877846]\n",
      " [ -120.96530399    34.17811531  -297.39820191    97.89296838\n",
      "   -821.47877846   339.00343069   120.96530399   -34.17811531\n",
      "    297.39820191   -97.89296838   821.47877846  -339.00343069]\n",
      " [   34.17811531  -297.39820191    97.89296838  -821.47877846\n",
      "    339.00343069 -2464.58543787   -34.17811531   297.39820191\n",
      "    -97.89296838   821.47877846  -339.00343069  2464.58543787]]\n",
      "[[  136.12616677]\n",
      " [ -246.55824773]\n",
      " [  272.13073315]\n",
      " [ -691.05095774]\n",
      " [  733.57073603]\n",
      " [-2083.69697842]\n",
      " [ -136.12616677]\n",
      " [  246.55824773]\n",
      " [ -272.13073315]\n",
      " [  691.05095774]\n",
      " [ -733.57073603]\n",
      " [ 2083.69697842]]\n",
      "[[ -135.12616677]\n",
      " [  247.55824773]\n",
      " [ -271.13073315]\n",
      " [  692.05095774]\n",
      " [ -732.57073603]\n",
      " [ 2084.69697842]\n",
      " [  137.12616677]\n",
      " [ -245.55824773]\n",
      " [  273.13073315]\n",
      " [ -690.05095774]\n",
      " [  734.57073603]\n",
      " [-2082.69697842]]\n",
      "[[ 6.24923038e-01]\n",
      " [ 5.90137405e-01]\n",
      " [ 1.31226040e+00]\n",
      " [-1.88350187e-01]\n",
      " [-3.88709067e-15]\n",
      " [-7.92692117e-01]]\n"
     ]
    },
    {
     "data": {
      "image/png": "[encoded data removed]",
      "text/plain": [
       "<Figure size 432x288 with 1 Axes>"
      ]
     },
     "metadata": {
      "needs_background": "light"
     },
     "output_type": "display_data"
    }
   ],
   "source": [
    "#Lasso \n",
    "\n",
    "def Lasso(Phi,sampy,thtrue,lmb=1):\n",
    "    res=np.power(sampy-Phi.T,2)+np.dot(lmb,np.linalg.norm(thtrue,ord=1,axis=1,keepdims=False))#x_norm=np.linalg.norm(x, ord=None, axis=None, keepdims=False)\n",
    "    return res\n",
    "import scipy.optimize as opt\n",
    "\n",
    "def paraestimateLasso(Phi,sampy,lmb=1):\n",
    "    H=np.hstack((np.vstack((np.dot(Phi,Phi.T),np.dot(-Phi,Phi.T))),np.vstack((np.dot(-Phi,Phi.T),np.dot(Phi,Phi.T)))))\n",
    "    fa=np.vstack((np.dot(Phi,sampy),-np.dot(Phi,sampy)))\n",
    "    f=lmb*np.ones((12,1))-fa\n",
    "    x_ans=np.zeros((12,1))\n",
    "    fun=lambda x: float(0.5*np.dot((np.dot(x.T,H)),x)+np.dot(f.T,x))\n",
    "    cons=({'type': 'ineq', 'fun': lambda x: x})\n",
    "    x_ans_true=opt.minimize(fun,x_ans,constraints=cons,method=\"SLSQP\")# these 3 lines use Opt way to get the min of function\n",
    "    \n",
    "    print H\n",
    "    print fa\n",
    "    print f\n",
    "    theta_plus=x_ans_true.x[0:6]\n",
    "    theta_sub=x_ans_true.x[6:12]\n",
    "    theta=theta_plus-theta_sub\n",
    "    theta=np.expand_dims(theta, axis=1)\n",
    "    return theta\n",
    "\n",
    "theta_lasso=paraestimateLasso(Phi,sampy,lmb=1)\n",
    "print theta_lasso\n",
    "\n",
    "\n",
    "x=np.linspace(-2,2,100)\n",
    "y=np.linspace(-20,40,100)\n",
    "f=theta_lasso[0][0]+theta_lasso[1][0]*x+theta_lasso[2][0]*np.power(x,2)+theta_lasso[3][0]*np.power(x,3)+theta_lasso[4][0]*np.power(x,4)+theta_lasso[5][0]*np.power(x,5)\n",
    "fig,ax=plt.subplots()\n",
    "ax.scatter(data1['sampx'],data1['sampy'],c='r',marker='o',label='samples')\n",
    "ax.legend()\n",
    "ax.set(xlabel='x')\n",
    "ax.plot(x,f,c='green')\n",
    "plt.show()\n"
   ]
  },
  {
   "cell_type": "code",
   "execution_count": 9,
   "metadata": {},
   "outputs": [
    {
     "name": "stdout",
     "output_type": "stream",
     "text": [
      "(6, 1)\n"
     ]
    },
    {
     "data": {
      "image/png": "[encoded data removed]",
      "text/plain": [
       "<Figure size 432x288 with 1 Axes>"
      ]
     },
     "metadata": {
      "needs_background": "light"
     },
     "output_type": "display_data"
    },
    {
     "name": "stdout",
     "output_type": "stream",
     "text": [
      "(1, 50)\n",
      "1\n"
     ]
    }
   ],
   "source": [
    "def ArrayToList(array):\n",
    "    list=[]\n",
    "    for i in range(len(array)):\n",
    "        list.append(float(array[i]))\n",
    "    return list\n",
    "\n",
    "def paraestimateRobustreg(Phi,sampy,lmb=1):\n",
    "    m=len(sampy)\n",
    "    k=len(Phi)\n",
    "    temp1=np.row_stack((-Phi.T,Phi.T))\n",
    "    temp2=np.row_stack((-np.eye(m),-np.eye(m)))\n",
    "    A=np.column_stack((temp1,temp2))\n",
    "    b=np.row_stack((-sampy,sampy))\n",
    "    f=np.row_stack((np.zeros((k,1)),np.ones((m,1))))\n",
    "    X=np.zeros((m+k, 1))\n",
    "    B=ArrayToList(b)\n",
    "    fun=lambda x:np.dot(f.T,x)\n",
    "    cons=({'type': 'ineq', 'fun': lambda x:B-np.dot(A, x)})#B should be list then can get constraint\n",
    "    x_ans=opt.minimize(fun,X,constraints=cons, method=\"SLSQP\")\n",
    "    \n",
    "    theta=x_ans.x[0:k]\n",
    "    theta=np.expand_dims(theta, axis=1)\n",
    "    return theta\n",
    "theta_rr=paraestimateRobustreg(Phi,sampy,lmb=1)\n",
    "print theta_rr.shape\n",
    "\n",
    "x=np.linspace(-2,2,100)\n",
    "y=np.linspace(-20,40,100)\n",
    "f=theta_rr[0][0]+theta_rr[1][0]*x+theta_rr[2][0]*np.power(x,2)+theta_rr[3][0]*np.power(x,3)+theta_rr[4][0]*np.power(x,4)+theta_rr[5][0]*np.power(x,5)\n",
    "fig,ax=plt.subplots()\n",
    "ax.scatter(data1['sampx'],data1['sampy'],c='r',marker='o',label='samples')\n",
    "ax.legend()\n",
    "ax.set(xlabel='x')\n",
    "ax.plot(x,f,c='green')\n",
    "plt.show()\n",
    "print polyfunc.shape\n",
    "print len(polyx)"
   ]
  },
  {
   "cell_type": "code",
   "execution_count": 10,
   "metadata": {},
   "outputs": [
    {
     "name": "stdout",
     "output_type": "stream",
     "text": [
      "(6, 6)\n",
      "(6, 1)\n",
      "(100, 1)\n",
      "(100, 6)\n",
      "[[ 1.00000000e+00  1.00000000e+00  1.00000000e+00  1.00000000e+00\n",
      "   1.00000000e+00  1.00000000e+00]\n",
      " [-2.00000000e+00 -1.95959596e+00 -1.91919192e+00 -1.87878788e+00\n",
      "  -1.83838384e+00 -1.79797980e+00]\n",
      " [ 4.00000000e+00  3.84001632e+00  3.68329762e+00  3.52984389e+00\n",
      "   3.37965514e+00  3.23273135e+00]\n",
      " [-8.00000000e+00 -7.52488047e+00 -7.06895503e+00 -6.63182792e+00\n",
      "  -6.21310338e+00 -5.81238567e+00]\n",
      " [ 1.60000000e+01  1.47457254e+01  1.35666814e+01  1.24597979e+01\n",
      "   1.14220688e+01  1.04505520e+01]\n",
      " [-3.20000000e+01 -2.88956639e+01 -2.60370653e+01 -2.34093173e+01\n",
      "  -2.09981468e+01 -1.87898814e+01]\n",
      " [ 6.40000000e+01  5.66238262e+01  4.99701253e+01  4.39811416e+01\n",
      "   3.86026537e+01  3.37838271e+01]\n",
      " [-1.28000000e+02 -1.10959821e+02 -9.59022606e+01 -8.26312357e+01\n",
      "  -7.09664946e+01 -6.07426387e+01]\n",
      " [ 2.56000000e+02  2.17436417e+02  1.84054844e+02  1.55246564e+02\n",
      "   1.30463657e+02  1.09214037e+02]\n",
      " [-5.12000000e+02 -4.26087524e+02 -3.53236569e+02 -2.91675363e+02\n",
      "  -2.39842278e+02 -1.96364633e+02]\n",
      " [ 1.02400000e+03  8.34959390e+02  6.77928768e+02  5.47996136e+02\n",
      "   4.40922168e+02  3.53059642e+02]\n",
      " [-2.04800000e+03 -1.63618305e+03 -1.30107541e+03 -1.02956850e+03\n",
      "  -8.10584187e+02 -6.34794105e+02]\n",
      " [ 4.09600000e+03  3.20625769e+03  2.49701342e+03  1.93434081e+03\n",
      "   1.49016487e+03  1.14134698e+03]\n",
      " [-8.19200000e+03 -6.28296961e+03 -4.79224798e+03 -3.63421608e+03\n",
      "  -2.73949501e+03 -2.05211881e+03]\n",
      " [ 1.63840000e+04  1.23120819e+04  9.19724359e+03  6.82792111e+03\n",
      "   5.03624336e+03  3.68966816e+03]\n",
      " [-3.27680000e+04 -2.41267059e+04 -1.76512756e+04 -1.28282154e+04\n",
      "  -9.25854839e+03 -6.63394880e+03]\n",
      " [ 6.55360000e+04  4.72785954e+04  3.38761855e+04  2.41014956e+04\n",
      "   1.70207657e+04  1.19277059e+04]\n",
      " [-1.31072000e+05 -9.26469445e+04 -6.50149014e+04 -4.52815979e+04\n",
      "  -3.12907006e+04 -2.14457743e+04]\n",
      " [ 2.62144000e+05  1.81550578e+05  1.24776073e+05  8.50745172e+04\n",
      "   5.75243183e+04  3.85590689e+04]\n",
      " [-5.24288000e+05 -3.55765779e+05 -2.39469232e+05 -1.59836972e+05\n",
      "  -1.05751777e+05 -6.93284270e+04]\n",
      " [ 1.04857600e+06  6.97157183e+05  4.59587414e+05  3.00299765e+05\n",
      "   1.94412358e+05  1.24651111e+05]\n",
      " [-2.09715200e+06 -1.36614640e+06 -8.82036452e+05 -5.64199559e+05\n",
      "  -3.57404537e+05 -2.24120180e+05]\n",
      " [ 4.19430400e+06  2.67709497e+06  1.69279723e+06  1.06001129e+06\n",
      "   6.57046724e+05  4.02963555e+05]\n",
      " [-8.38860800e+06 -5.24602448e+06 -3.24880277e+06 -1.99153637e+06\n",
      "  -1.20790408e+06 -7.24520332e+05]\n",
      " [ 1.67772160e+07  1.02800884e+07  6.23507601e+06  3.74167439e+06\n",
      "   2.22059134e+06  1.30267292e+06]\n",
      " [-3.35544320e+07 -2.01448196e+07 -1.19663075e+07 -7.02981248e+06\n",
      "  -4.08229923e+06 -2.34217959e+06]\n",
      " [ 6.71088640e+07  3.94757072e+07  2.29656407e+07  1.32075265e+07\n",
      "   7.50483292e+06  4.21119159e+06]\n",
      " [-1.34217728e+08 -7.73564363e+07 -4.40754720e+07 -2.48141407e+07\n",
      "  -1.37967636e+07 -7.57163741e+06]\n",
      " [ 2.68435456e+08  1.51587360e+08  8.45892897e+07  4.66205067e+07\n",
      "   2.53637471e+07  1.36136511e+07]\n",
      " [-5.36870912e+08 -2.97049978e+08 -1.62343081e+08 -8.75900429e+07\n",
      "  -4.66283028e+07 -2.44770696e+07]\n",
      " [ 1.07374182e+09  5.82097937e+08  3.11567529e+08  1.64563111e+08\n",
      "   8.57207183e+07  4.40092767e+07]\n",
      " [-2.14748365e+09 -1.14067677e+09 -5.97957885e+08 -3.09179178e+08\n",
      "  -1.57587583e+08 -7.91277905e+07]\n",
      " [ 4.29496730e+09  2.23526558e+09  1.14759594e+09  5.80882092e+08\n",
      "   2.89706466e+08  1.42270169e+08]\n",
      " [-8.58993459e+09 -4.38021740e+09 -2.20245686e+09 -1.09135423e+09\n",
      "  -5.32591685e+08 -2.55798889e+08]\n",
      " [ 1.71798692e+10  8.58345632e+09  4.22693740e+09  2.05042311e+09\n",
      "   9.79107946e+08  4.59921235e+08]\n",
      " [-3.43597384e+10 -1.68201063e+10 -8.11230410e+09 -3.85231008e+09\n",
      "  -1.79997622e+09 -8.26929090e+08]\n",
      " [ 6.87194767e+10  3.29606124e+10  1.55690685e+10  7.23767348e+09\n",
      "   3.30904720e+09  1.48680180e+09]\n",
      " [-1.37438953e+11 -6.45894829e+10 -2.98800304e+10 -1.35980532e+10\n",
      "  -6.08329889e+09 -2.67323960e+09]\n",
      " [ 2.74877907e+11  1.26569290e+11  5.73455129e+10  2.55478575e+10\n",
      "   1.11834384e+10  4.80643079e+09]\n",
      " [-5.49755814e+11 -2.48024669e+11 -1.10057045e+11 -4.79990051e+10\n",
      "  -2.05594524e+10 -8.64186546e+09]\n",
      " [ 1.09951163e+12  4.86028138e+11  2.11220591e+11  9.01799489e+10\n",
      "   3.77961649e+10  1.55378995e+10]\n",
      " [-2.19902326e+12 -9.52418776e+11 -4.05372852e+11 -1.69428995e+11\n",
      "  -6.94838588e+10 -2.79368294e+10]\n",
      " [ 4.39804651e+12  1.86635599e+12  7.77988302e+11  3.18321142e+11\n",
      "   1.27738003e+11  5.02298549e+10]\n",
      " [-8.79609302e+12 -3.65730365e+12 -1.49310886e+12 -5.98057903e+11\n",
      "  -2.34831480e+11 -9.03122644e+10]\n",
      " [ 1.75921860e+13  7.16683745e+12  2.86556246e+12  1.12362394e+12\n",
      "   4.31710398e+11  1.62379627e+11]\n",
      " [-3.51843721e+13 -1.40441057e+13 -5.49956432e+12 -2.11105104e+12\n",
      "  -7.93649419e+11 -2.91955289e+11]\n",
      " [ 7.03687442e+13  2.75207728e+13  1.05547194e+13  3.96621710e+12\n",
      "   1.45903226e+12  5.24929711e+11]\n",
      " [-1.40737488e+14 -5.39295952e+13 -2.02565322e+13 -7.45168061e+12\n",
      "  -2.68226133e+12 -9.43813016e+11]\n",
      " [ 2.81474977e+14  1.05680217e+14  3.88761729e+13  1.40001272e+13\n",
      "   4.93102589e+12  1.69695674e+12]\n",
      " [-5.62949953e+14 -2.07090526e+14 -7.46108369e+13 -2.63032693e+13\n",
      "  -9.06511830e+12 -3.05109393e+12]\n",
      " [ 1.12589991e+15  4.05813758e+14  1.43192515e+14  4.94182635e+13\n",
      "   1.66651670e+13  5.48580525e+12]\n",
      " [-2.25179981e+15 -7.95231001e+14 -2.74813918e+14 -9.28464345e+13\n",
      "  -3.06369736e+13 -9.86336701e+12]\n",
      " [ 4.50359963e+15  1.55833146e+15  5.27420651e+14  1.74438756e+14\n",
      "   5.63225172e+13  1.77341346e+13]\n",
      " [-9.00719925e+15 -3.05370002e+15 -1.01222145e+15 -3.27733420e+14\n",
      "  -1.03542405e+14 -3.18856158e+13]\n",
      " [ 1.80143985e+16  5.98401823e+15  1.94264723e+15  6.15741577e+14\n",
      "   1.90350685e+14  5.73296930e+13]\n",
      " [-3.60287970e+16 -1.17262579e+16 -3.72831287e+15 -1.15684781e+15\n",
      "  -3.49937622e+14 -1.03077630e+14]\n",
      " [ 7.20575940e+16  2.29787277e+16  7.15534792e+15  2.17347164e+15\n",
      "   6.43319669e+14  1.85331496e+14]\n",
      " [-1.44115188e+17 -4.50290219e+16 -1.37324859e+16 -4.08349218e+15\n",
      "  -1.18266848e+15 -3.33222286e+14]\n",
      " [ 2.88230376e+17  8.82386895e+16  2.63552760e+16  7.67201561e+15\n",
      "   2.17419862e+15  5.99126939e+14]\n",
      " [-5.76460752e+17 -1.72912179e+17 -5.05808327e+16 -1.44140899e+16\n",
      "  -3.99701161e+15 -1.07721813e+15]\n",
      " [ 1.15292150e+18  3.38838008e+17  9.70743254e+16  2.70810175e+16\n",
      "   7.34804155e+15  1.93681644e+15]\n",
      " [-2.30584301e+18 -6.63985592e+17 -1.86304261e+17 -5.08794874e+16\n",
      "  -1.35085208e+16 -3.48235683e+15]\n",
      " [ 4.61168602e+18  1.30114348e+18  3.57553632e+17  9.55917641e+16\n",
      "   2.48338464e+16  6.26120723e+15]\n",
      " [-9.22337204e+18 -2.54971551e+18 -6.86214041e+17 -1.79596648e+17\n",
      "  -4.56541418e+16 -1.12575241e+16]\n",
      " [ 1.84467441e+19  4.99641221e+18  1.31697644e+18  3.37424005e+17\n",
      "   8.39298364e+16  2.02408009e+16]\n",
      " [-3.68934881e+19 -9.79094919e+18 -2.52753055e+18 -6.33948130e+17\n",
      "  -1.54295255e+17 -3.63925512e+16]\n",
      " [ 7.37869763e+19  1.91863045e+19  4.85081620e+18  1.19105406e+18\n",
      "   2.83653903e+17  6.54330718e+16]\n",
      " [-1.47573953e+20 -3.75974047e+19 -9.30964726e+18 -2.23773794e+18\n",
      "  -5.21464751e+17 -1.17647341e+17]\n",
      " [ 2.95147905e+20  7.36757224e+19  1.78669998e+19  4.20423491e+18\n",
      "   9.58652370e+17  2.11527543e+17]\n",
      " [-5.90295810e+20 -1.44374648e+20 -3.42902016e+19 -7.89886559e+18\n",
      "  -1.76237102e+18 -3.80322249e+17]\n",
      " [ 1.18059162e+21  2.82915977e+20  6.58094778e+19  1.48402929e+19\n",
      "   3.23991441e+18  6.83811720e+17]\n",
      " [-2.36118324e+21 -5.54401005e+20 -1.26301018e+20 -2.78817625e+19\n",
      "  -5.95620628e+18 -1.22947966e+18]\n",
      " [ 4.72236648e+21  1.08640197e+21  2.42395893e+20  5.23839174e+19\n",
      "   1.09497934e+19  2.21057959e+18]\n",
      " [-9.44473297e+21 -2.12890891e+21 -4.65204240e+20 -9.84182690e+19\n",
      "  -2.01299232e+19 -3.97457744e+18]\n",
      " [ 1.88894659e+22  4.17180130e+21  8.92816217e+20  1.84907051e+20\n",
      "   3.70065254e+19  7.14620994e+18]\n",
      " [-3.77789319e+22 -8.17504496e+21 -1.71348567e+21 -3.47401126e+20\n",
      "  -6.80321982e+19 -1.28487411e+19]\n",
      " [ 7.55578637e+22  1.60197851e+22  3.28850785e+21  6.52693024e+20\n",
      "   1.25069294e+20  2.31017769e+19]\n",
      " [-1.51115727e+23 -3.13923061e+22 -6.31127769e+21 -1.22627174e+21\n",
      "  -2.29925368e+20 -4.15365282e+19]\n",
      " [ 3.02231455e+23  6.15162362e+22  1.21125531e+22  2.30390449e+21\n",
      "   4.22691081e+20  7.46818386e+19]\n",
      " [-6.04462910e+23 -1.20546968e+23 -2.32463141e+22 -4.32854782e+21\n",
      "  -7.77068452e+20 -1.34276437e+20]\n",
      " [ 1.20892582e+24  2.36223351e+23  4.46141382e+22  8.13242318e+21\n",
      "   1.42855008e+21  2.41426321e+20]\n",
      " [-2.41785164e+24 -4.62902325e+23 -8.56230935e+22 -1.52790981e+22\n",
      "  -2.62622339e+21 -4.34079648e+20]\n",
      " [ 4.83570328e+24  9.07101525e+23  1.64327149e+23  2.87061843e+22\n",
      "   4.82800663e+21  7.80466438e+20]\n",
      " [-9.67140656e+24 -1.77755248e+24 -3.15375337e+23 -5.39328311e+22\n",
      "  -8.87572936e+21 -1.40326289e+21]\n",
      " [ 1.93428131e+25  3.48328467e+24  6.05265798e+23  1.01328349e+23\n",
      "   1.63169974e+22  2.52303833e+21]\n",
      " [-3.86856262e+25 -6.82583056e+24 -1.16162123e+24 -1.90374475e+23\n",
      "  -2.99969043e+22 -4.53637194e+21]\n",
      " [ 7.73712525e+25  1.33758700e+25  2.22937408e+24  3.57673255e+23\n",
      "   5.51458241e+22  8.15630511e+21]\n",
      " [-1.54742505e+26 -2.62113008e+25 -4.27859671e+24 -6.71992177e+23\n",
      "  -1.01379192e+23 -1.46648718e+22]\n",
      " [ 3.09485010e+26  5.13635591e+25  8.21144823e+24  1.26253076e+24\n",
      "   1.86373868e+23  2.63671432e+22]\n",
      " [-6.18970020e+26 -1.00651823e+26 -1.57593451e+25 -2.37202748e+24\n",
      "  -3.42626706e+23 -4.74075909e+22]\n",
      " [ 1.23794004e+27  1.97236905e+26  3.02452078e+25  4.45653648e+24\n",
      "   6.29879400e+23  8.52378907e+22]\n",
      " [-2.47588008e+27 -3.86504643e+26 -5.80463583e+25 -8.37288672e+24\n",
      "  -1.15796011e+24 -1.53256005e+23]\n",
      " [ 4.95176016e+27  7.57392937e+26  1.11402102e+26  1.57308781e+25\n",
      "   2.12877515e+24  2.75551202e+23]\n",
      " [-9.90352031e+27 -1.48418414e+27 -2.13802014e+26 -2.95549831e+25\n",
      "  -3.91350583e+24 -4.95435494e+23]\n",
      " [ 1.98070406e+28  2.90840124e+27  4.10327097e+26  5.55275439e+25\n",
      "   7.19452587e+24  8.90783010e+23]\n",
      " [-3.96140813e+28 -5.69929132e+27 -7.87496448e+26 -1.04324476e+26\n",
      "  -1.32263001e+25 -1.60160986e+24]\n",
      " [ 7.92281625e+28  1.11683082e+28  1.51135682e+27  1.96003562e+26\n",
      "   2.43150163e+25  2.87966216e+24]\n",
      " [-1.58456325e+29 -2.18853717e+28 -2.90058380e+27 -3.68249116e+26\n",
      "  -4.47003330e+25 -5.17757440e+24]\n",
      " [ 3.16912650e+29  4.28864860e+28  5.56677698e+27  6.91861976e+26\n",
      "   8.21763698e+25  9.30917417e+24]\n",
      " [-6.33825300e+29 -8.40401846e+28 -1.06837134e+28 -1.29986189e+27\n",
      "  -1.51071710e+26 -1.67377071e+25]]\n"
     ]
    },
    {
     "data": {
      "image/png": "[encoded data removed]",
      "text/plain": [
       "<Figure size 432x288 with 1 Axes>"
      ]
     },
     "metadata": {
      "needs_background": "light"
     },
     "output_type": "display_data"
    }
   ],
   "source": [
    "#BR \n",
    "#Prestior Sigma\n",
    "polyX=np.zeros((100,6))\n",
    "for i in range(100):\n",
    "    for j in range(6):\n",
    "        polyX[i][j]=np.power(polyx[0][j],i)\n",
    "            \n",
    "            \n",
    "def esitmatesigma(Phi,alpha=1,sigma_square=5):\n",
    "    temp=(1/float(sigma_square))*np.dot(Phi,Phi.T)\n",
    "    m=len(Phi)\n",
    "    SIGMA=np.linalg.inv(temp+(1/float(alpha))*np.eye(m))\n",
    "    return SIGMA\n",
    "\n",
    "def estimatemju(sampy,Phi,SIGMA,sigma_square=5):\n",
    "    mju=(1/float(sigma_square))*np.dot(np.dot(SIGMA,Phi),sampy)\n",
    "    return mju\n",
    "\n",
    "def gaussianpredictedsigma(SIGMA,polyx_l):\n",
    "    polyphi=np.zeros((1,6))\n",
    "    for i in range(6):\n",
    "        polyphi[0][i]=np.power(polyx_l,i)\n",
    "    res=np.dot(np.dot(polyphi,SIGMA),polyphi.T)\n",
    "    return res\n",
    "\n",
    "SIGMA=esitmatesigma(Phi,alpha=1,sigma_square=5)\n",
    "mju=estimatemju(sampy,Phi,SIGMA,sigma_square=5)\n",
    "print SIGMA.shape\n",
    "print mju.shape\n",
    "sigmapredict=np.zeros((100,1))\n",
    "for i in range(100):\n",
    "    sigmapredict[i][0]=gaussianpredictedsigma(SIGMA,polyx[0][i])\n",
    "print sigmapredict.shape\n",
    "print polyX.shape\n",
    "print polyX\n",
    "\n",
    "x=np.linspace(-2,2,100)\n",
    "y=np.linspace(-20,40,100)\n",
    "f=mju[0][0]+mju[1][0]*x+mju[2][0]*np.power(x,2)+mju[3][0]*np.power(x,3)+mju[4][0]*np.power(x,4)+mju[5][0]*np.power(x,5)\n",
    "fig,ax=plt.subplots()\n",
    "ax.scatter(data1['sampx'],data1['sampy'],c='r',marker='o',label='samples')\n",
    "ax.legend()\n",
    "ax.set(xlabel='x')\n",
    "ax.plot(x,f,c='green')\n",
    "plt.show()\n"
   ]
  },
  {
   "cell_type": "code",
   "execution_count": 11,
   "metadata": {},
   "outputs": [
    {
     "name": "stdout",
     "output_type": "stream",
     "text": [
      "0.4086438835698429\n",
      "0.7680463152279735\n"
     ]
    },
    {
     "data": {
      "image/png": "[encoded data removed]",
      "text/plain": [
       "<Figure size 432x288 with 1 Axes>"
      ]
     },
     "metadata": {
      "needs_background": "light"
     },
     "output_type": "display_data"
    },
    {
     "data": {
      "text/plain": [
       "\"#LS\\ndef lsmse(theta_real,polyx,polyy):\\n    \\n    x=np.linspace(-2,2,100)\\n    y=np.linspace(-20,40,100)\\n    f=theta_real[0][0]+theta_real[1][0]*x+theta_real[2][0]*np.power(x,2)+theta_real[3][0]*np.power(x,3)+theta_real[4][0]*np.power(x,4)+theta_real[5][0]*np.power(x,5)\\n    fig,ax=plt.subplots()\\n    ax.scatter(data1['polyx'],data1['polyy'],c='r',marker='o',label='samples')\\n    ax.legend()\\n    ax.set(xlabel='x')\\n    ax.plot(x,f,c='green')\\n    plt.show()\\n\""
      ]
     },
     "execution_count": 11,
     "metadata": {},
     "output_type": "execute_result"
    }
   ],
   "source": [
    "####the second part\n",
    "def meansquareerror(polyy,f_l):\n",
    "    sum=0\n",
    "    m=len(polyy)\n",
    "    for i in range(m):\n",
    "        error=f_l[i][0]-polyy[i][0]\n",
    "        sum+=np.power(error,2)\n",
    "    mse=sum/m\n",
    "    return mse\n",
    "f_ls=theta_real[0][0]+theta_real[1][0]*polyx+theta_real[2][0]*np.power(polyx,2)+theta_real[3][0]*np.power(polyx,3)+theta_real[4][0]*np.power(polyx,4)+theta_real[5][0]*np.power(polyx,5)\n",
    "f_RLS=theta_real_reg[0][0]+theta_real_reg[1][0]*polyx+theta_real_reg[2][0]*np.power(polyx,2)+theta_real_reg[3][0]*np.power(polyx,3)+theta_real_reg[4][0]*np.power(polyx,4)+theta_real_reg[5][0]*np.power(polyx,5)\n",
    "f_lasso=theta_lasso[0][0]+theta_lasso[1][0]*polyx+theta_lasso[2][0]*np.power(polyx,2)+theta_lasso[3][0]*np.power(polyx,3)+theta_lasso[4][0]*np.power(polyx,4)+theta_lasso[5][0]*np.power(polyx,5)\n",
    "f_rr=theta_rr[0][0]+theta_rr[1][0]*polyx+theta_rr[2][0]*np.power(polyx,2)+theta_rr[3][0]*np.power(polyx,3)+theta_rr[4][0]*np.power(polyx,4)+theta_rr[5][0]*np.power(polyx,5)\n",
    "\n",
    "mse_ls=meansquareerror(polyy,f_ls.T)\n",
    "mse_rls=meansquareerror(polyy,f_RLS.T)\n",
    "mse_lasso=meansquareerror(polyy,f_lasso.T)\n",
    "mse_rr=meansquareerror(polyy,f_rr.T)\n",
    "print mse_ls\n",
    "\n",
    "\n",
    "print mse_rr\n",
    "\n",
    "x=np.linspace(-2,2,100)\n",
    "y=np.linspace(-20,40,100)\n",
    "f=theta_real[0][0]+theta_real[1][0]*x+theta_real[2][0]*np.power(x,2)+theta_real[3][0]*np.power(x,3)+theta_real[4][0]*np.power(x,4)+theta_real[5][0]*np.power(x,5)\n",
    "fig,ax=plt.subplots()\n",
    "ax.scatter(data1['polyx'],data1['polyy'],c='r',marker='o',label='samples')\n",
    "ax.legend()\n",
    "ax.set(xlabel='x')\n",
    "ax.plot(x,f,c='green')\n",
    "plt.show()\n",
    "\n",
    "\n",
    "'''#LS\n",
    "def lsmse(theta_real,polyx,polyy):\n",
    "    \n",
    "    x=np.linspace(-2,2,100)\n",
    "    y=np.linspace(-20,40,100)\n",
    "    f=theta_real[0][0]+theta_real[1][0]*x+theta_real[2][0]*np.power(x,2)+theta_real[3][0]*np.power(x,3)+theta_real[4][0]*np.power(x,4)+theta_real[5][0]*np.power(x,5)\n",
    "    fig,ax=plt.subplots()\n",
    "    ax.scatter(data1['polyx'],data1['polyy'],c='r',marker='o',label='samples')\n",
    "    ax.legend()\n",
    "    ax.set(xlabel='x')\n",
    "    ax.plot(x,f,c='green')\n",
    "    plt.show()\n",
    "'''\n",
    "\n"
   ]
  },
  {
   "cell_type": "code",
   "execution_count": 12,
   "metadata": {},
   "outputs": [
    {
     "data": {
      "image/png": "[encoded data removed]",
      "text/plain": [
       "<Figure size 432x288 with 1 Axes>"
      ]
     },
     "metadata": {
      "needs_background": "light"
     },
     "output_type": "display_data"
    },
    {
     "name": "stdout",
     "output_type": "stream",
     "text": [
      "0.40863257088369376\n"
     ]
    },
    {
     "data": {
      "text/plain": [
       "'\\n    \\ndef MeanSquareError(f_l, polyy):        # mean-square error\\n    sum = 0\\n    n = len(polyy)\\n    for i in range(n):\\n        error = f_l[i]-polyy[i]\\n        sum += (error**2)\\n    avr = sum/n\\n    return avr '"
      ]
     },
     "execution_count": 12,
     "metadata": {},
     "output_type": "execute_result"
    }
   ],
   "source": [
    "x=np.linspace(-2,2,100)\n",
    "y=np.linspace(-20,40,100)\n",
    "f=theta_real_reg[0][0]+theta_real_reg[1][0]*x+theta_real_reg[2][0]*np.power(x,2)+theta_real_reg[3][0]*np.power(x,3)+theta_real_reg[4][0]*np.power(x,4)+theta_real_reg[5][0]*np.power(x,5)\n",
    "fig,ax=plt.subplots()\n",
    "ax.scatter(data1['polyx'],data1['polyy'],c='r',marker='x',label='samples')\n",
    "ax.legend()\n",
    "ax.set(xlabel='x')\n",
    "ax.plot(x,f,c='green')\n",
    "plt.show()  \n",
    "print mse_rls\n",
    "'''\n",
    "    \n",
    "def MeanSquareError(f_l, polyy):        # mean-square error\n",
    "    sum = 0\n",
    "    n = len(polyy)\n",
    "    for i in range(n):\n",
    "        error = f_l[i]-polyy[i]\n",
    "        sum += (error**2)\n",
    "    avr = sum/n\n",
    "    return avr '''"
   ]
  },
  {
   "cell_type": "code",
   "execution_count": 13,
   "metadata": {},
   "outputs": [
    {
     "data": {
      "image/png": "[encoded data removed]",
      "text/plain": [
       "<Figure size 432x288 with 1 Axes>"
      ]
     },
     "metadata": {
      "needs_background": "light"
     },
     "output_type": "display_data"
    },
    {
     "name": "stdout",
     "output_type": "stream",
     "text": [
      "0.4753546180612807\n"
     ]
    }
   ],
   "source": [
    "x=np.linspace(-2,2,100)\n",
    "y=np.linspace(-20,40,100)\n",
    "f=theta_lasso[0][0]+theta_lasso[1][0]*x+theta_lasso[2][0]*np.power(x,2)+theta_lasso[3][0]*np.power(x,3)+theta_lasso[4][0]*np.power(x,4)+theta_lasso[5][0]*np.power(x,5)\n",
    "fig,ax=plt.subplots()\n",
    "ax.scatter(data1['polyx'],data1['polyy'],c='r',marker='o',label='samples')\n",
    "ax.legend()\n",
    "ax.set(xlabel='x')\n",
    "ax.plot(x,f,c='green')\n",
    "plt.show()\n",
    "print mse_lasso"
   ]
  },
  {
   "cell_type": "code",
   "execution_count": 14,
   "metadata": {},
   "outputs": [
    {
     "data": {
      "image/png": "[encoded data removed]",
      "text/plain": [
       "<Figure size 432x288 with 1 Axes>"
      ]
     },
     "metadata": {
      "needs_background": "light"
     },
     "output_type": "display_data"
    },
    {
     "name": "stdout",
     "output_type": "stream",
     "text": [
      "0.7680463152279735\n"
     ]
    }
   ],
   "source": [
    "x=np.linspace(-2,2,100)\n",
    "y=np.linspace(-20,40,100)\n",
    "f=theta_rr[0][0]+theta_rr[1][0]*x+theta_rr[2][0]*np.power(x,2)+theta_rr[3][0]*np.power(x,3)+theta_rr[4][0]*np.power(x,4)+theta_rr[5][0]*np.power(x,5)\n",
    "fig,ax=plt.subplots()\n",
    "ax.scatter(data1['polyx'],data1['polyy'],c='r',marker='o',label='samples')\n",
    "ax.legend()\n",
    "ax.set(xlabel='x')\n",
    "ax.plot(x,f,c='green')\n",
    "plt.show()\n",
    "print mse_rr"
   ]
  },
  {
   "cell_type": "code",
   "execution_count": 15,
   "metadata": {},
   "outputs": [
    {
     "name": "stdout",
     "output_type": "stream",
     "text": [
      "0.45915793875299415\n",
      "(1, 100)\n"
     ]
    },
    {
     "data": {
      "image/png": "[encoded data removed]",
      "text/plain": [
       "<Figure size 432x288 with 1 Axes>"
      ]
     },
     "metadata": {
      "needs_background": "light"
     },
     "output_type": "display_data"
    }
   ],
   "source": [
    "#for BR\n",
    "def esitmatesigma(Phi,alpha=1,sigma_square=5):\n",
    "    temp=(1/float(sigma_square))*np.dot(Phi,Phi.T)\n",
    "    m=len(Phi)\n",
    "    SIGMA=np.linalg.inv(temp+(1/float(alpha))*np.eye(m))\n",
    "    return SIGMA\n",
    "\n",
    "def estimatemju(sampy,Phi,SIGMA,sigma_square=5):\n",
    "    mju=(1/float(sigma_square))*np.dot(np.dot(SIGMA,Phi),sampy)\n",
    "    return mju\n",
    "\n",
    "\n",
    "SIGMA=esitmatesigma(Phi,alpha=1,sigma_square=5)\n",
    "mju=estimatemju(sampy,Phi,SIGMA,sigma_square=5)\n",
    "f_BR=mju[0][0]+mju[1][0]*polyx+mju[2][0]*np.power(polyx,2)+mju[3][0]*np.power(polyx,3)+mju[4][0]*np.power(polyx,4)+mju[5][0]*np.power(polyx,5)\n",
    "mse_BR=meansquareerror(polyy,f_BR.T)\n",
    "print mse_BR\n",
    "\n",
    "print f_BR.shape\n",
    "f_plus=np.zeros((1,100))\n",
    "f_sub=np.zeros((1,100))\n",
    "for i in range(100):\n",
    "    f_plus[0][i]=f_BR[0][i]+sigmapredict.T[0][i]\n",
    "    f_sub[0][i]=f_BR[0][i]-sigmapredict.T[0][i]\n",
    "\n",
    "f_plus=f_plus.squeeze()\n",
    "f_sub=f_sub.squeeze()\n",
    "\n",
    "\n",
    " \n",
    "\n",
    "x=np.linspace(-2,2,100)\n",
    "y=np.linspace(-20,40,100)\n",
    "f=mju[0][0]+mju[1][0]*x+mju[2][0]*np.power(x,2)+mju[3][0]*np.power(x,3)+mju[4][0]*np.power(x,4)+mju[5][0]*np.power(x,5)\n",
    "fig,ax=plt.subplots()\n",
    "ax.scatter(data1['polyx'],data1['polyy'],c='r',marker='o',label='samples')\n",
    "ax.legend()\n",
    "ax.set(xlabel='x')\n",
    "ax.plot(x,f,c='green')\n",
    "ax.plot(x,f_plus,c='blue')\n",
    "ax.plot(x,f_sub,c='brown')\n",
    "plt.savefig('test2.jpg',dpi=1600)\n",
    "\n",
    "\n"
   ]
  },
  {
   "cell_type": "code",
   "execution_count": 16,
   "metadata": {},
   "outputs": [
    {
     "name": "stdout",
     "output_type": "stream",
     "text": [
      "[32 27 37 22 29]\n",
      "[[ 1.          1.          1.          1.          1.        ]\n",
      " [-1.31458641  0.97782642 -1.17663724  1.29749965  0.86918266]\n",
      " [ 1.72813744  0.9561445   1.38447521  1.68350534  0.75547849]\n",
      " [-2.271786    0.93494335 -1.62902509  2.18434759  0.6566488 ]\n",
      " [ 2.98645901  0.91421231  1.9167716   2.83419023  0.57074775]\n",
      " [-3.92595844  0.89394095 -2.25534485  3.67736082  0.49608404]]\n"
     ]
    }
   ],
   "source": [
    "#part3\n",
    "\n",
    "#subset\n",
    "\n",
    "\n",
    "\n",
    "\n",
    "def randomlist(sampx,sampy,percent,total):\n",
    "    number=int(percent*0.01*total)\n",
    "    rlist=np.random.randint(0,total-1,size=number)\n",
    "    print rlist\n",
    "    sampx_newtmp=[]\n",
    "    sampy_newtmp=[]\n",
    "    for e in rlist:\n",
    "        sampx_newtmp.append(sampx[0][e])\n",
    "        sampy_newtmp.append(sampy[e][0])\n",
    "    sampx_new=np.zeros((1,number))\n",
    "    sampy_new=np.zeros((number,1))\n",
    "    for i in range(number):\n",
    "        sampx_new[0][i]=sampx_newtmp[i]\n",
    "        sampy_new[i][0]=sampy_newtmp[i]\n",
    "    m=len(sampx_new[0])\n",
    "    n=len(thtrue.T[0])\n",
    "    Phi_new=np.zeros((n,m))\n",
    "    for j in range(m):\n",
    "        for i in range(n):\n",
    "            Phi_new[i][j]=np.power(sampx_new[0][j],i)\n",
    "    return sampx_new,sampy_new,Phi_new\n",
    "\n",
    "sampx_new,sampy_new,Phi_new=randomlist(sampx,sampy,10,50)\n",
    "#print sampx_new\n",
    "#print sampy_new\n",
    "print Phi_new\n"
   ]
  },
  {
   "cell_type": "code",
   "execution_count": 20,
   "metadata": {},
   "outputs": [
    {
     "name": "stdout",
     "output_type": "stream",
     "text": [
      "[23 32  5  0 46]\n",
      "[[ 1.00000000e+00  1.00000000e+00  1.00000000e+00  1.00000000e+00\n",
      "   1.00000000e+00]\n",
      " [-9.23400945e-01 -1.31458641e+00 -1.15450337e+00 -1.31701448e+00\n",
      "  -3.25334386e-01]\n",
      " [ 8.52669306e-01  1.72813744e+00  1.33287804e+00  1.73452714e+00\n",
      "   1.05842463e-01]\n",
      " [-7.87355643e-01 -2.27178600e+00 -1.53881220e+00 -2.28439736e+00\n",
      "  -3.44341927e-02]\n",
      " [ 7.27044946e-01  2.98645901e+00  1.77656388e+00  3.00858440e+00\n",
      "   1.12026269e-02]\n",
      " [-6.71353990e-01 -3.92595844e+00 -2.05104899e+00 -3.96234922e+00\n",
      "  -3.64459976e-03]]\n",
      "100\n",
      "860596224345.7578\n"
     ]
    },
    {
     "data": {
      "image/png": "[encoded data removed]",
      "text/plain": [
       "<Figure size 432x288 with 1 Axes>"
      ]
     },
     "metadata": {
      "needs_background": "light"
     },
     "output_type": "display_data"
    },
    {
     "name": "stdout",
     "output_type": "stream",
     "text": [
      "100\n"
     ]
    }
   ],
   "source": [
    "sampx_new,sampy_new,Phi_new=randomlist(sampx,sampy,10,50)\n",
    "#print sampx_new\n",
    "#print sampy_new\n",
    "print Phi_new\n",
    "print len(polyy)\n",
    "theta_real_case1=paraestimate(Phi_new,sampy_new)\n",
    "f_ls=theta_real_case1[0][0]+theta_real_case1[1][0]*polyx+theta_real_case1[2][0]*np.power(polyx,2)+theta_real_case1[3][0]*np.power(polyx,3)+theta_real_case1[4][0]*np.power(polyx,4)+theta_real_case1[5][0]*np.power(polyx,5)\n",
    "mse_ls=meansquareerror(polyy,f_ls.T)\n",
    "print mse_ls\n",
    "x=np.linspace(-2,2,100)\n",
    "y=np.linspace(-20,40,100)\n",
    "f=theta_real_case1[0][0]+theta_real_case1[1][0]*x+theta_real_case1[2][0]*np.power(x,2)+theta_real_case1[3][0]*np.power(x,3)+theta_real_case1[4][0]*np.power(x,4)+theta_real_case1[5][0]*np.power(x,5)\n",
    "fig,ax=plt.subplots()\n",
    "ax.scatter(data1['polyx'],data1['polyy'],c='r',marker='o',label='samples')\n",
    "ax.legend()\n",
    "ax.set(xlabel='x')\n",
    "ax.plot(x,f,c='green')\n",
    "plt.show()\n",
    "print len(polyy)"
   ]
  },
  {
   "cell_type": "code",
   "execution_count": 23,
   "metadata": {},
   "outputs": [
    {
     "name": "stdout",
     "output_type": "stream",
     "text": [
      "[38 47  0 47 23 28 46 46 10 25 35  2]\n",
      "[[ 1.00000000e+00  1.00000000e+00  1.00000000e+00  1.00000000e+00\n",
      "   1.00000000e+00  1.00000000e+00  1.00000000e+00  1.00000000e+00\n",
      "   1.00000000e+00  1.00000000e+00  1.00000000e+00  1.00000000e+00]\n",
      " [ 2.57823979e-01  1.04972477e-01 -1.31701448e+00  1.04972477e-01\n",
      "  -9.23400945e-01 -1.67139471e+00 -3.25334386e-01 -3.25334386e-01\n",
      "   1.06393532e+00  4.31015808e-03 -1.63329075e-01 -1.08750007e+00]\n",
      " [ 6.64732040e-02  1.10192210e-02  1.73452714e+00  1.10192210e-02\n",
      "   8.52669306e-01  2.79356026e+00  1.05842463e-01  1.05842463e-01\n",
      "   1.13195836e+00  1.85774627e-05  2.66763868e-02  1.18265640e+00]\n",
      " [ 1.71383859e-02  1.15671492e-03 -2.28439736e+00  1.15671492e-03\n",
      "  -7.87355643e-01 -4.66914183e+00 -3.44341927e-02 -3.44341927e-02\n",
      "   1.20433047e+00  8.00718010e-08 -4.35702958e-03 -1.28613892e+00]\n",
      " [ 4.41868685e-03  1.21423230e-04  3.00858440e+00  1.21423230e-04\n",
      "   7.27044946e-01  7.80397894e+00  1.12026269e-02  1.12026269e-02\n",
      "   1.28132972e+00  3.45122121e-10  7.11629612e-04  1.39867617e+00]\n",
      " [ 1.13924342e-03  1.27460973e-05 -3.96234922e+00  1.27460973e-05\n",
      "  -6.71353990e-01 -1.30435291e+01 -3.64459976e-03 -3.64459976e-03\n",
      "   1.36325195e+00  1.48753090e-12 -1.16229806e-04 -1.52106043e+00]]\n"
     ]
    },
    {
     "data": {
      "image/png": "[encoded data removed]",
      "text/plain": [
       "<Figure size 432x288 with 1 Axes>"
      ]
     },
     "metadata": {
      "needs_background": "light"
     },
     "output_type": "display_data"
    },
    {
     "name": "stdout",
     "output_type": "stream",
     "text": [
      "33.55793340714676\n"
     ]
    }
   ],
   "source": [
    "sampx_new,sampy_new,Phi_new=randomlist(sampx,sampy,25,50)\n",
    "#print sampx_new\n",
    "#print sampy_new\n",
    "print Phi_new\n",
    "\n",
    "theta_real_case1=paraestimate(Phi_new,sampy_new)\n",
    "x=np.linspace(-2,2,100)\n",
    "y=np.linspace(-20,40,100)\n",
    "f=theta_real_case1[0][0]+theta_real_case1[1][0]*x+theta_real_case1[2][0]*np.power(x,2)+theta_real_case1[3][0]*np.power(x,3)+theta_real_case1[4][0]*np.power(x,4)+theta_real_case1[5][0]*np.power(x,5)\n",
    "fig,ax=plt.subplots()\n",
    "ax.scatter(data1['polyx'],data1['polyy'],c='r',marker='o',label='samples')\n",
    "ax.legend()\n",
    "ax.set(xlabel='x')\n",
    "ax.plot(x,f,c='green')\n",
    "plt.show()\n",
    "f_ls=theta_real_case1[0][0]+theta_real_case1[1][0]*polyx+theta_real_case1[2][0]*np.power(polyx,2)+theta_real_case1[3][0]*np.power(polyx,3)+theta_real_case1[4][0]*np.power(polyx,4)+theta_real_case1[5][0]*np.power(polyx,5)\n",
    "mse_ls=meansquareerror(polyy,f_ls.T)\n",
    "print mse_ls"
   ]
  },
  {
   "cell_type": "code",
   "execution_count": 26,
   "metadata": {},
   "outputs": [
    {
     "name": "stdout",
     "output_type": "stream",
     "text": [
      "[25 41  4  0 47 40 21 25 43 48 25  5 29 16 39  3 46  6 17 13  1 29 24 19\n",
      " 19]\n",
      "[[ 1.00000000e+00  1.00000000e+00  1.00000000e+00  1.00000000e+00\n",
      "   1.00000000e+00  1.00000000e+00  1.00000000e+00  1.00000000e+00\n",
      "   1.00000000e+00  1.00000000e+00  1.00000000e+00  1.00000000e+00\n",
      "   1.00000000e+00  1.00000000e+00  1.00000000e+00  1.00000000e+00\n",
      "   1.00000000e+00  1.00000000e+00  1.00000000e+00  1.00000000e+00\n",
      "   1.00000000e+00  1.00000000e+00  1.00000000e+00  1.00000000e+00\n",
      "   1.00000000e+00]\n",
      " [ 4.31015808e-03  1.81130910e+00 -1.26644580e+00 -1.31701448e+00\n",
      "   1.04972477e-01  5.73202315e-01 -7.36044654e-01  4.31015808e-03\n",
      "  -1.63461874e+00  2.72422954e-01  4.31015808e-03 -1.15450337e+00\n",
      "   8.69182655e-01  5.73928562e-01  1.24760952e+00 -1.61368873e+00\n",
      "  -3.25334386e-01  2.61778087e-01 -1.98265409e+00 -7.49171795e-01\n",
      "   9.37639823e-01  8.69182655e-01  4.00309651e-01 -5.51702074e-01\n",
      "  -5.51702074e-01]\n",
      " [ 1.85774627e-05  3.28084067e+00  1.60388496e+00  1.73452714e+00\n",
      "   1.10192210e-02  3.28560894e-01  5.41761733e-01  1.85774627e-05\n",
      "   2.67197841e+00  7.42142657e-02  1.85774627e-05  1.33287804e+00\n",
      "   7.55478488e-01  3.29393995e-01  1.55652951e+00  2.60399131e+00\n",
      "   1.05842463e-01  6.85277671e-02  3.93091725e+00  5.61258378e-01\n",
      "   8.79168437e-01  7.55478488e-01  1.60247817e-01  3.04375178e-01\n",
      "   3.04375178e-01]\n",
      " [ 8.00718010e-08  5.94261658e+00 -2.03123336e+00 -2.28439736e+00\n",
      "   1.15671492e-03  1.88331865e-01 -3.98760827e-01  8.00718010e-08\n",
      "  -4.36766598e+00  2.02176695e-02  8.00718010e-08 -1.53881220e+00\n",
      "   6.56648798e-01  1.89048622e-01  1.94194104e+00 -4.20203142e+00\n",
      "  -3.44341927e-02  1.79390678e-02 -7.79364918e+00 -4.20478946e-01\n",
      "   8.24343337e-01  6.56648798e-01  6.41487477e-02 -1.67924417e-01\n",
      "  -1.67924417e-01]\n",
      " [ 3.45122121e-10  1.07639155e+01  2.57244695e+00  3.00858440e+00\n",
      "   1.21423230e-04  1.07952261e-01  2.93505775e-01  3.45122121e-10\n",
      "   7.13946865e+00  5.50775723e-03  3.45122121e-10  1.77656388e+00\n",
      "   5.70747746e-01  1.08500404e-01  2.42278413e+00  6.78077074e+00\n",
      "   1.12026269e-02  4.69605486e-03  1.54521104e+01  3.15010967e-01\n",
      "   7.72937141e-01  5.70747746e-01  2.56793628e-02  9.26442493e-02\n",
      "   9.26442493e-02]\n",
      " [ 1.48753090e-12  1.94967782e+01 -3.25786463e+00 -3.96234922e+00\n",
      "   1.27460973e-05  6.18784860e-02 -2.16033357e-01  1.48753090e-12\n",
      "  -1.16703092e+01  1.50043949e-03  1.48753090e-12 -2.05104899e+00\n",
      "   4.96084041e-01  6.22714807e-02  3.02268854e+00 -1.09420533e+01\n",
      "  -3.64459976e-03  1.22932426e-03 -3.06361900e+01 -2.35997331e-01\n",
      "   7.24736644e-01  4.96084041e-01  1.02796968e-02 -5.11120245e-02\n",
      "  -5.11120245e-02]]\n"
     ]
    },
    {
     "data": {
      "image/png": "[encoded data removed]",
      "text/plain": [
       "<Figure size 432x288 with 1 Axes>"
      ]
     },
     "metadata": {
      "needs_background": "light"
     },
     "output_type": "display_data"
    },
    {
     "name": "stdout",
     "output_type": "stream",
     "text": [
      "0.9421968282683112\n"
     ]
    }
   ],
   "source": [
    "sampx_new,sampy_new,Phi_new=randomlist(sampx,sampy,50,50)\n",
    "#print sampx_new\n",
    "#print sampy_new\n",
    "print Phi_new\n",
    "\n",
    "theta_real_case1=paraestimate(Phi_new,sampy_new)\n",
    "x=np.linspace(-2,2,100)\n",
    "y=np.linspace(-20,40,100)\n",
    "f=theta_real_case1[0][0]+theta_real_case1[1][0]*x+theta_real_case1[2][0]*np.power(x,2)+theta_real_case1[3][0]*np.power(x,3)+theta_real_case1[4][0]*np.power(x,4)+theta_real_case1[5][0]*np.power(x,5)\n",
    "fig,ax=plt.subplots()\n",
    "ax.scatter(data1['polyx'],data1['polyy'],c='r',marker='o',label='samples')\n",
    "ax.legend()\n",
    "ax.set(xlabel='x')\n",
    "ax.plot(x,f,c='green')\n",
    "plt.show()\n",
    "f_ls=theta_real_case1[0][0]+theta_real_case1[1][0]*polyx+theta_real_case1[2][0]*np.power(polyx,2)+theta_real_case1[3][0]*np.power(polyx,3)+theta_real_case1[4][0]*np.power(polyx,4)+theta_real_case1[5][0]*np.power(polyx,5)\n",
    "mse_ls=meansquareerror(polyy,f_ls.T)\n",
    "print mse_ls"
   ]
  },
  {
   "cell_type": "code",
   "execution_count": 30,
   "metadata": {},
   "outputs": [
    {
     "name": "stdout",
     "output_type": "stream",
     "text": [
      "[14  7  8 36 35 16 32 47 39 13 10 32 45 43 22 19 48 41 36 36 35  9 17 13\n",
      " 25 35 19 14 32 37 11 26 11 23 16 12 34]\n",
      "[[ 1.00000000e+00  1.00000000e+00  1.00000000e+00  1.00000000e+00\n",
      "   1.00000000e+00  1.00000000e+00  1.00000000e+00  1.00000000e+00\n",
      "   1.00000000e+00  1.00000000e+00  1.00000000e+00  1.00000000e+00\n",
      "   1.00000000e+00  1.00000000e+00  1.00000000e+00  1.00000000e+00\n",
      "   1.00000000e+00  1.00000000e+00  1.00000000e+00  1.00000000e+00\n",
      "   1.00000000e+00  1.00000000e+00  1.00000000e+00  1.00000000e+00\n",
      "   1.00000000e+00  1.00000000e+00  1.00000000e+00  1.00000000e+00\n",
      "   1.00000000e+00  1.00000000e+00  1.00000000e+00  1.00000000e+00\n",
      "   1.00000000e+00  1.00000000e+00  1.00000000e+00  1.00000000e+00\n",
      "   1.00000000e+00]\n",
      " [ 6.69645788e-01 -2.95683772e-01 -1.55716341e+00 -1.07176633e+00\n",
      "  -1.63329075e-01  5.73928562e-01 -1.31458641e+00  1.04972477e-01\n",
      "   1.24760952e+00 -7.49171795e-01  1.06393532e+00 -1.31458641e+00\n",
      "   1.34941838e+00 -1.63461874e+00  1.29749965e+00 -5.51702074e-01\n",
      "   2.72422954e-01  1.81130910e+00 -1.07176633e+00 -1.07176633e+00\n",
      "  -1.63329075e-01  7.54510855e-01 -1.98265409e+00 -7.49171795e-01\n",
      "   4.31015808e-03 -1.63329075e-01 -5.51702074e-01  6.69645788e-01\n",
      "  -1.31458641e+00 -1.17663724e+00  1.56086716e+00  4.40826907e-01\n",
      "   1.56086716e+00 -9.23400945e-01  5.73928562e-01  1.49433277e+00\n",
      "  -5.43354753e-01]\n",
      " [ 4.48425481e-01  8.74288933e-02  2.42475790e+00  1.14868306e+00\n",
      "   2.66763868e-02  3.29393995e-01  1.72813744e+00  1.10192210e-02\n",
      "   1.55652951e+00  5.61258378e-01  1.13195836e+00  1.72813744e+00\n",
      "   1.82092996e+00  2.67197841e+00  1.68350534e+00  3.04375178e-01\n",
      "   7.42142657e-02  3.28084067e+00  1.14868306e+00  1.14868306e+00\n",
      "   2.66763868e-02  5.69286630e-01  3.93091725e+00  5.61258378e-01\n",
      "   1.85774627e-05  2.66763868e-02  3.04375178e-01  4.48425481e-01\n",
      "   1.72813744e+00  1.38447521e+00  2.43630629e+00  1.94328362e-01\n",
      "   2.43630629e+00  8.52669306e-01  3.29393995e-01  2.23303042e+00\n",
      "   2.95234387e-01]\n",
      " [ 3.00286234e-01 -2.58513050e-02 -3.77574428e+00 -1.23111982e+00\n",
      "  -4.35702958e-03  1.89048622e-01 -2.27178600e+00  1.15671492e-03\n",
      "   1.94194104e+00 -4.20478946e-01  1.20433047e+00 -2.27178600e+00\n",
      "   2.45719635e+00 -4.36766598e+00  2.18434759e+00 -1.67924417e-01\n",
      "   2.02176695e-02  5.94261658e+00 -1.23111982e+00 -1.23111982e+00\n",
      "  -4.35702958e-03  4.29532942e-01 -7.79364918e+00 -4.20478946e-01\n",
      "   8.00718010e-08 -4.35702958e-03 -1.67924417e-01  3.00286234e-01\n",
      "  -2.27178600e+00 -1.62902509e+00  3.80275047e+00  8.56651708e-02\n",
      "   3.80275047e+00 -7.87355643e-01  1.89048622e-01  3.33689053e+00\n",
      "  -1.60417008e-01]\n",
      " [ 2.01085412e-01  7.64381138e-03  5.87945085e+00  1.31947277e+00\n",
      "   7.11629612e-04  1.08500404e-01  2.98645901e+00  1.21423230e-04\n",
      "   2.42278413e+00  3.15010967e-01  1.28132972e+00  2.98645901e+00\n",
      "   3.31578591e+00  7.13946865e+00  2.83419023e+00  9.26442493e-02\n",
      "   5.50775723e-03  1.07639155e+01  1.31947277e+00  1.31947277e+00\n",
      "   7.11629612e-04  3.24087267e-01  1.54521104e+01  3.15010967e-01\n",
      "   3.45122121e-10  7.11629612e-04  9.26442493e-02  2.01085412e-01\n",
      "   2.98645901e+00  1.91677160e+00  5.93558832e+00  3.77635123e-02\n",
      "   5.93558832e+00  7.27044946e-01  1.08500404e-01  4.98642486e+00\n",
      "   8.71633435e-02]\n",
      " [ 1.34655999e-01 -2.26015098e-03 -9.15526576e+00 -1.41416648e+00\n",
      "  -1.16229806e-04  6.22714807e-02 -3.92595844e+00  1.27460973e-05\n",
      "   3.02268854e+00 -2.35997331e-01  1.36325195e+00 -3.92595844e+00\n",
      "   4.47438244e+00 -1.16703092e+01  3.67736082e+00 -5.11120245e-02\n",
      "   1.50043949e-03  1.94967782e+01 -1.41416648e+00 -1.41416648e+00\n",
      "  -1.16229806e-04  2.44527361e-01 -3.06361900e+01 -2.35997331e-01\n",
      "   1.48753090e-12 -1.16229806e-04 -5.11120245e-02  1.34655999e-01\n",
      "  -3.92595844e+00 -2.25534485e+00  9.26466488e+00  1.66471723e-02\n",
      "   9.26466488e+00 -6.71353990e-01  6.22714807e-02  7.45137806e+00\n",
      "  -4.73606169e-02]]\n"
     ]
    },
    {
     "data": {
      "image/png": "[encoded data removed]",
      "text/plain": [
       "<Figure size 432x288 with 1 Axes>"
      ]
     },
     "metadata": {
      "needs_background": "light"
     },
     "output_type": "display_data"
    },
    {
     "name": "stdout",
     "output_type": "stream",
     "text": [
      "2.527248806966241\n"
     ]
    }
   ],
   "source": [
    "sampx_new,sampy_new,Phi_new=randomlist(sampx,sampy,75,50)\n",
    "#print sampx_new\n",
    "#print sampy_new\n",
    "print Phi_new\n",
    "\n",
    "theta_real_case1=paraestimate(Phi_new,sampy_new)\n",
    "x=np.linspace(-2,2,100)\n",
    "y=np.linspace(-20,40,100)\n",
    "f=theta_real_case1[0][0]+theta_real_case1[1][0]*x+theta_real_case1[2][0]*np.power(x,2)+theta_real_case1[3][0]*np.power(x,3)+theta_real_case1[4][0]*np.power(x,4)+theta_real_case1[5][0]*np.power(x,5)\n",
    "fig,ax=plt.subplots()\n",
    "ax.scatter(data1['polyx'],data1['polyy'],c='r',marker='o',label='samples')\n",
    "ax.legend()\n",
    "ax.set(xlabel='x')\n",
    "ax.plot(x,f,c='green')\n",
    "plt.show()\n",
    "f_ls=theta_real_case1[0][0]+theta_real_case1[1][0]*polyx+theta_real_case1[2][0]*np.power(polyx,2)+theta_real_case1[3][0]*np.power(polyx,3)+theta_real_case1[4][0]*np.power(polyx,4)+theta_real_case1[5][0]*np.power(polyx,5)\n",
    "mse_ls=meansquareerror(polyy,f_ls.T)\n",
    "print mse_ls"
   ]
  },
  {
   "cell_type": "code",
   "execution_count": 33,
   "metadata": {},
   "outputs": [
    {
     "name": "stdout",
     "output_type": "stream",
     "text": [
      "[46 32 10  6  9]\n",
      "[[ 1.00000000e+00  1.00000000e+00  1.00000000e+00  1.00000000e+00\n",
      "   1.00000000e+00]\n",
      " [-3.25334386e-01 -1.31458641e+00  1.06393532e+00  2.61778087e-01\n",
      "   7.54510855e-01]\n",
      " [ 1.05842463e-01  1.72813744e+00  1.13195836e+00  6.85277671e-02\n",
      "   5.69286630e-01]\n",
      " [-3.44341927e-02 -2.27178600e+00  1.20433047e+00  1.79390678e-02\n",
      "   4.29532942e-01]\n",
      " [ 1.12026269e-02  2.98645901e+00  1.28132972e+00  4.69605486e-03\n",
      "   3.24087267e-01]\n",
      " [-3.64459976e-03 -3.92595844e+00  1.36325195e+00  1.22932426e-03\n",
      "   2.44527361e-01]]\n"
     ]
    },
    {
     "data": {
      "image/png": "[encoded data removed]",
      "text/plain": [
       "<Figure size 432x288 with 1 Axes>"
      ]
     },
     "metadata": {
      "needs_background": "light"
     },
     "output_type": "display_data"
    },
    {
     "name": "stdout",
     "output_type": "stream",
     "text": [
      "46.522874090329594\n"
     ]
    }
   ],
   "source": [
    "sampx_new,sampy_new,Phi_new=randomlist(sampx,sampy,10,50)\n",
    "#print sampx_new\n",
    "#print sampy_new\n",
    "print Phi_new\n",
    "\n",
    "theta_real_reg_case1=paraestimateReg(Phi_new,sampy_new,lmb=1)\n",
    "x=np.linspace(-2,2,100)\n",
    "y=np.linspace(-20,40,100)\n",
    "f=theta_real_reg_case1[0][0]+theta_real_reg_case1[1][0]*x+theta_real_reg_case1[2][0]*np.power(x,2)+theta_real_reg_case1[3][0]*np.power(x,3)+theta_real_reg_case1[4][0]*np.power(x,4)+theta_real_reg_case1[5][0]*np.power(x,5)\n",
    "fig,ax=plt.subplots()\n",
    "ax.scatter(data1['polyx'],data1['polyy'],c='r',marker='o',label='samples')\n",
    "ax.legend()\n",
    "ax.set(xlabel='x')\n",
    "ax.plot(x,f,c='green')\n",
    "plt.show()\n",
    "f_lr=theta_real_reg_case1[0][0]+theta_real_reg_case1[1][0]*polyx+theta_real_reg_case1[2][0]*np.power(polyx,2)+theta_real_reg_case1[3][0]*np.power(polyx,3)+theta_real_reg_case1[4][0]*np.power(polyx,4)+theta_real_reg_case1[5][0]*np.power(polyx,5)\n",
    "mse_lr=meansquareerror(polyy,f_lr.T)\n",
    "print mse_lr"
   ]
  },
  {
   "cell_type": "code",
   "execution_count": null,
   "metadata": {},
   "outputs": [],
   "source": []
  },
  {
   "cell_type": "code",
   "execution_count": 36,
   "metadata": {},
   "outputs": [
    {
     "name": "stdout",
     "output_type": "stream",
     "text": [
      "[36 29 44 37  3  0 11 33 24 20 24 34]\n",
      "[[ 1.00000000e+00  1.00000000e+00  1.00000000e+00  1.00000000e+00\n",
      "   1.00000000e+00  1.00000000e+00  1.00000000e+00  1.00000000e+00\n",
      "   1.00000000e+00  1.00000000e+00  1.00000000e+00  1.00000000e+00]\n",
      " [-1.07176633e+00  8.69182655e-01 -1.03710660e+00 -1.17663724e+00\n",
      "  -1.61368873e+00 -1.31701448e+00  1.56086716e+00  1.74614486e+00\n",
      "   4.00309651e-01 -4.56758258e-01  4.00309651e-01 -5.43354753e-01]\n",
      " [ 1.14868306e+00  7.55478488e-01  1.07559009e+00  1.38447521e+00\n",
      "   2.60399131e+00  1.73452714e+00  2.43630629e+00  3.04902187e+00\n",
      "   1.60247817e-01  2.08628106e-01  1.60247817e-01  2.95234387e-01]\n",
      " [-1.23111982e+00  6.56648798e-01 -1.11550158e+00 -1.62902509e+00\n",
      "  -4.20203142e+00 -2.28439736e+00  3.80275047e+00  5.32403386e+00\n",
      "   6.41487477e-02 -9.52926105e-02  6.41487477e-02 -1.60417008e-01]\n",
      " [ 1.31947277e+00  5.70747746e-01  1.15689405e+00  1.91677160e+00\n",
      "   6.78077074e+00  3.00858440e+00  5.93558832e+00  9.29653436e+00\n",
      "   2.56793628e-02  4.35256868e-02  2.56793628e-02  8.71633435e-02]\n",
      " [-1.41416648e+00  4.96084041e-01 -1.19982245e+00 -2.25534485e+00\n",
      "  -1.09420533e+01 -3.96234922e+00  9.26466488e+00  1.62330957e+01\n",
      "   1.02796968e-02 -1.98807169e-02  1.02796968e-02 -4.73606169e-02]]\n"
     ]
    },
    {
     "data": {
      "image/png": "[encoded data removed]",
      "text/plain": [
       "<Figure size 432x288 with 1 Axes>"
      ]
     },
     "metadata": {
      "needs_background": "light"
     },
     "output_type": "display_data"
    },
    {
     "name": "stdout",
     "output_type": "stream",
     "text": [
      "3.958684639837711\n"
     ]
    }
   ],
   "source": [
    "sampx_new,sampy_new,Phi_new=randomlist(sampx,sampy,25,50)\n",
    "#print sampx_new\n",
    "#print sampy_new\n",
    "print Phi_new\n",
    "\n",
    "theta_real_reg_case1=paraestimateReg(Phi_new,sampy_new,lmb=1)\n",
    "x=np.linspace(-2,2,100)\n",
    "y=np.linspace(-20,40,100)\n",
    "f=theta_real_reg_case1[0][0]+theta_real_reg_case1[1][0]*x+theta_real_reg_case1[2][0]*np.power(x,2)+theta_real_reg_case1[3][0]*np.power(x,3)+theta_real_reg_case1[4][0]*np.power(x,4)+theta_real_reg_case1[5][0]*np.power(x,5)\n",
    "fig,ax=plt.subplots()\n",
    "ax.scatter(data1['polyx'],data1['polyy'],c='r',marker='o',label='samples')\n",
    "ax.legend()\n",
    "ax.set(xlabel='x')\n",
    "ax.plot(x,f,c='green')\n",
    "plt.show()\n",
    "f_lr=theta_real_reg_case1[0][0]+theta_real_reg_case1[1][0]*polyx+theta_real_reg_case1[2][0]*np.power(polyx,2)+theta_real_reg_case1[3][0]*np.power(polyx,3)+theta_real_reg_case1[4][0]*np.power(polyx,4)+theta_real_reg_case1[5][0]*np.power(polyx,5)\n",
    "mse_lr=meansquareerror(polyy,f_lr.T)\n",
    "print mse_lr"
   ]
  },
  {
   "cell_type": "code",
   "execution_count": 39,
   "metadata": {},
   "outputs": [
    {
     "name": "stdout",
     "output_type": "stream",
     "text": [
      "[28  9 32  1 44 20 11 35 46 15 33 30 41 41  6 42 47 27 29  5 33 30 19 27\n",
      " 19]\n",
      "[[ 1.00000000e+00  1.00000000e+00  1.00000000e+00  1.00000000e+00\n",
      "   1.00000000e+00  1.00000000e+00  1.00000000e+00  1.00000000e+00\n",
      "   1.00000000e+00  1.00000000e+00  1.00000000e+00  1.00000000e+00\n",
      "   1.00000000e+00  1.00000000e+00  1.00000000e+00  1.00000000e+00\n",
      "   1.00000000e+00  1.00000000e+00  1.00000000e+00  1.00000000e+00\n",
      "   1.00000000e+00  1.00000000e+00  1.00000000e+00  1.00000000e+00\n",
      "   1.00000000e+00]\n",
      " [-1.67139471e+00  7.54510855e-01 -1.31458641e+00  9.37639823e-01\n",
      "  -1.03710660e+00 -4.56758258e-01  1.56086716e+00 -1.63329075e-01\n",
      "  -3.25334386e-01 -1.26324901e+00  1.74614486e+00  3.52883614e-01\n",
      "   1.81130910e+00  1.81130910e+00  2.61778087e-01 -1.32787735e+00\n",
      "   1.04972477e-01  9.77826418e-01  8.69182655e-01 -1.15450337e+00\n",
      "   1.74614486e+00  3.52883614e-01 -5.51702074e-01  9.77826418e-01\n",
      "  -5.51702074e-01]\n",
      " [ 2.79356026e+00  5.69286630e-01  1.72813744e+00  8.79168437e-01\n",
      "   1.07559009e+00  2.08628106e-01  2.43630629e+00  2.66763868e-02\n",
      "   1.05842463e-01  1.59579806e+00  3.04902187e+00  1.24526845e-01\n",
      "   3.28084067e+00  3.28084067e+00  6.85277671e-02  1.76325826e+00\n",
      "   1.10192210e-02  9.56144504e-01  7.55478488e-01  1.33287804e+00\n",
      "   3.04902187e+00  1.24526845e-01  3.04375178e-01  9.56144504e-01\n",
      "   3.04375178e-01]\n",
      " [-4.66914183e+00  4.29532942e-01 -2.27178600e+00  8.24343337e-01\n",
      "  -1.11550158e+00 -9.52926105e-02  3.80275047e+00 -4.35702958e-03\n",
      "  -3.44341927e-02 -2.01589031e+00  5.32403386e+00  4.39434831e-02\n",
      "   5.94261658e+00  5.94261658e+00  1.79390678e-02 -2.34139070e+00\n",
      "   1.15671492e-03  9.34943355e-01  6.56648798e-01 -1.53881220e+00\n",
      "   5.32403386e+00  4.39434831e-02 -1.67924417e-01  9.34943355e-01\n",
      "  -1.67924417e-01]\n",
      " [ 7.80397894e+00  3.24087267e-01  2.98645901e+00  7.72937141e-01\n",
      "   1.15689405e+00  4.35256868e-02  5.93558832e+00  7.11629612e-04\n",
      "   1.12026269e-02  2.54657143e+00  9.29653436e+00  1.55069351e-02\n",
      "   1.07639155e+01  1.07639155e+01  4.69605486e-03  3.10907968e+00\n",
      "   1.21423230e-04  9.14212312e-01  5.70747746e-01  1.77656388e+00\n",
      "   9.29653436e+00  1.55069351e-02  9.26442493e-02  9.14212312e-01\n",
      "   9.26442493e-02]\n",
      " [-1.30435291e+01  2.44527361e-01 -3.92595844e+00  7.24736644e-01\n",
      "  -1.19982245e+00 -1.98807169e-02  9.26466488e+00 -1.16229806e-04\n",
      "  -3.64459976e-03 -3.21695384e+00  1.62330957e+01  5.47214330e-03\n",
      "   1.94967782e+01  1.94967782e+01  1.22932426e-03 -4.12847648e+00\n",
      "   1.27460973e-05  8.93940950e-01  4.96084041e-01 -2.05104899e+00\n",
      "   1.62330957e+01  5.47214330e-03 -5.11120245e-02  8.93940950e-01\n",
      "  -5.11120245e-02]]\n"
     ]
    },
    {
     "data": {
      "image/png": "[encoded data removed]",
      "text/plain": [
       "<Figure size 432x288 with 1 Axes>"
      ]
     },
     "metadata": {
      "needs_background": "light"
     },
     "output_type": "display_data"
    },
    {
     "name": "stdout",
     "output_type": "stream",
     "text": [
      "0.8130136098820051\n"
     ]
    }
   ],
   "source": [
    "sampx_new,sampy_new,Phi_new=randomlist(sampx,sampy,50,50)\n",
    "#print sampx_new\n",
    "#print sampy_new\n",
    "print Phi_new\n",
    "\n",
    "theta_real_reg_case1=paraestimateReg(Phi_new,sampy_new,lmb=1)\n",
    "x=np.linspace(-2,2,100)\n",
    "y=np.linspace(-20,40,100)\n",
    "f=theta_real_reg_case1[0][0]+theta_real_reg_case1[1][0]*x+theta_real_reg_case1[2][0]*np.power(x,2)+theta_real_reg_case1[3][0]*np.power(x,3)+theta_real_reg_case1[4][0]*np.power(x,4)+theta_real_reg_case1[5][0]*np.power(x,5)\n",
    "fig,ax=plt.subplots()\n",
    "ax.scatter(data1['polyx'],data1['polyy'],c='r',marker='o',label='samples')\n",
    "ax.legend()\n",
    "ax.set(xlabel='x')\n",
    "ax.plot(x,f,c='green')\n",
    "plt.show()\n",
    "f_lr=theta_real_reg_case1[0][0]+theta_real_reg_case1[1][0]*polyx+theta_real_reg_case1[2][0]*np.power(polyx,2)+theta_real_reg_case1[3][0]*np.power(polyx,3)+theta_real_reg_case1[4][0]*np.power(polyx,4)+theta_real_reg_case1[5][0]*np.power(polyx,5)\n",
    "mse_lr=meansquareerror(polyy,f_lr.T)\n",
    "print mse_lr"
   ]
  },
  {
   "cell_type": "code",
   "execution_count": 42,
   "metadata": {},
   "outputs": [
    {
     "name": "stdout",
     "output_type": "stream",
     "text": [
      "[28 43  9 12  7 25 19 10 37 28 19 23 42 35 30 37 31 47 19  5 32 19 47  2\n",
      "  6 20 28 38 32 20 18 20 44 26 18 19 10]\n",
      "[[ 1.00000000e+00  1.00000000e+00  1.00000000e+00  1.00000000e+00\n",
      "   1.00000000e+00  1.00000000e+00  1.00000000e+00  1.00000000e+00\n",
      "   1.00000000e+00  1.00000000e+00  1.00000000e+00  1.00000000e+00\n",
      "   1.00000000e+00  1.00000000e+00  1.00000000e+00  1.00000000e+00\n",
      "   1.00000000e+00  1.00000000e+00  1.00000000e+00  1.00000000e+00\n",
      "   1.00000000e+00  1.00000000e+00  1.00000000e+00  1.00000000e+00\n",
      "   1.00000000e+00  1.00000000e+00  1.00000000e+00  1.00000000e+00\n",
      "   1.00000000e+00  1.00000000e+00  1.00000000e+00  1.00000000e+00\n",
      "   1.00000000e+00  1.00000000e+00  1.00000000e+00  1.00000000e+00\n",
      "   1.00000000e+00]\n",
      " [-1.67139471e+00 -1.63461874e+00  7.54510855e-01  1.49433277e+00\n",
      "  -2.95683772e-01  4.31015808e-03 -5.51702074e-01  1.06393532e+00\n",
      "  -1.17663724e+00 -1.67139471e+00 -5.51702074e-01 -9.23400945e-01\n",
      "  -1.32787735e+00 -1.63329075e-01  3.52883614e-01 -1.17663724e+00\n",
      "  -1.08510231e+00  1.04972477e-01 -5.51702074e-01 -1.15450337e+00\n",
      "  -1.31458641e+00 -5.51702074e-01  1.04972477e-01 -1.08750007e+00\n",
      "   2.61778087e-01 -4.56758258e-01 -1.67139471e+00  2.57823979e-01\n",
      "  -1.31458641e+00 -4.56758258e-01  1.53266188e+00 -4.56758258e-01\n",
      "  -1.03710660e+00  4.40826907e-01  1.53266188e+00 -5.51702074e-01\n",
      "   1.06393532e+00]\n",
      " [ 2.79356026e+00  2.67197841e+00  5.69286630e-01  2.23303042e+00\n",
      "   8.74288933e-02  1.85774627e-05  3.04375178e-01  1.13195836e+00\n",
      "   1.38447521e+00  2.79356026e+00  3.04375178e-01  8.52669306e-01\n",
      "   1.76325826e+00  2.66763868e-02  1.24526845e-01  1.38447521e+00\n",
      "   1.17744703e+00  1.10192210e-02  3.04375178e-01  1.33287804e+00\n",
      "   1.72813744e+00  3.04375178e-01  1.10192210e-02  1.18265640e+00\n",
      "   6.85277671e-02  2.08628106e-01  2.79356026e+00  6.64732040e-02\n",
      "   1.72813744e+00  2.08628106e-01  2.34905245e+00  2.08628106e-01\n",
      "   1.07559009e+00  1.94328362e-01  2.34905245e+00  3.04375178e-01\n",
      "   1.13195836e+00]\n",
      " [-4.66914183e+00 -4.36766598e+00  4.29532942e-01  3.33689053e+00\n",
      "  -2.58513050e-02  8.00718010e-08 -1.67924417e-01  1.20433047e+00\n",
      "  -1.62902509e+00 -4.66914183e+00 -1.67924417e-01 -7.87355643e-01\n",
      "  -2.34139070e+00 -4.35702958e-03  4.39434831e-02 -1.62902509e+00\n",
      "  -1.27765050e+00  1.15671492e-03 -1.67924417e-01 -1.53881220e+00\n",
      "  -2.27178600e+00 -1.67924417e-01  1.15671492e-03 -1.28613892e+00\n",
      "   1.79390678e-02 -9.52926105e-02 -4.66914183e+00  1.71383859e-02\n",
      "  -2.27178600e+00 -9.52926105e-02  3.60030316e+00 -9.52926105e-02\n",
      "  -1.11550158e+00  8.56651708e-02  3.60030316e+00 -1.67924417e-01\n",
      "   1.20433047e+00]\n",
      " [ 7.80397894e+00  7.13946865e+00  3.24087267e-01  4.98642486e+00\n",
      "   7.64381138e-03  3.45122121e-10  9.26442493e-02  1.28132972e+00\n",
      "   1.91677160e+00  7.80397894e+00  9.26442493e-02  7.27044946e-01\n",
      "   3.10907968e+00  7.11629612e-04  1.55069351e-02  1.91677160e+00\n",
      "   1.38638151e+00  1.21423230e-04  9.26442493e-02  1.77656388e+00\n",
      "   2.98645901e+00  9.26442493e-02  1.21423230e-04  1.39867617e+00\n",
      "   4.69605486e-03  4.35256868e-02  7.80397894e+00  4.41868685e-03\n",
      "   2.98645901e+00  4.35256868e-02  5.51804743e+00  4.35256868e-02\n",
      "   1.15689405e+00  3.77635123e-02  5.51804743e+00  9.26442493e-02\n",
      "   1.28132972e+00]\n",
      " [-1.30435291e+01 -1.16703092e+01  2.44527361e-01  7.45137806e+00\n",
      "  -2.26015098e-03  1.48753090e-12 -5.11120245e-02  1.36325195e+00\n",
      "  -2.25534485e+00 -1.30435291e+01 -5.11120245e-02 -6.71353990e-01\n",
      "  -4.12847648e+00 -1.16229806e-04  5.47214330e-03 -2.25534485e+00\n",
      "  -1.50436579e+00  1.27460973e-05 -5.11120245e-02 -2.05104899e+00\n",
      "  -3.92595844e+00 -5.11120245e-02  1.27460973e-05 -1.52106043e+00\n",
      "   1.22932426e-03 -1.98807169e-02 -1.30435291e+01  1.13924342e-03\n",
      "  -3.92595844e+00 -1.98807169e-02  8.45730097e+00 -1.98807169e-02\n",
      "  -1.19982245e+00  1.66471723e-02  8.45730097e+00 -5.11120245e-02\n",
      "   1.36325195e+00]]\n"
     ]
    },
    {
     "data": {
      "image/png": "[encoded data removed]",
      "text/plain": [
       "<Figure size 432x288 with 1 Axes>"
      ]
     },
     "metadata": {
      "needs_background": "light"
     },
     "output_type": "display_data"
    },
    {
     "name": "stdout",
     "output_type": "stream",
     "text": [
      "1.322816688208014\n"
     ]
    }
   ],
   "source": [
    "sampx_new,sampy_new,Phi_new=randomlist(sampx,sampy,75,50)\n",
    "#print sampx_new\n",
    "#print sampy_new\n",
    "print Phi_new\n",
    "\n",
    "theta_real_reg_case1=paraestimateReg(Phi_new,sampy_new,lmb=1)\n",
    "x=np.linspace(-2,2,100)\n",
    "y=np.linspace(-20,40,100)\n",
    "f=theta_real_reg_case1[0][0]+theta_real_reg_case1[1][0]*x+theta_real_reg_case1[2][0]*np.power(x,2)+theta_real_reg_case1[3][0]*np.power(x,3)+theta_real_reg_case1[4][0]*np.power(x,4)+theta_real_reg_case1[5][0]*np.power(x,5)\n",
    "fig,ax=plt.subplots()\n",
    "ax.scatter(data1['polyx'],data1['polyy'],c='r',marker='o',label='samples')\n",
    "ax.legend()\n",
    "ax.set(xlabel='x')\n",
    "ax.plot(x,f,c='green')\n",
    "plt.show()\n",
    "\n",
    "f_lr=theta_real_reg_case1[0][0]+theta_real_reg_case1[1][0]*polyx+theta_real_reg_case1[2][0]*np.power(polyx,2)+theta_real_reg_case1[3][0]*np.power(polyx,3)+theta_real_reg_case1[4][0]*np.power(polyx,4)+theta_real_reg_case1[5][0]*np.power(polyx,5)\n",
    "mse_lr=meansquareerror(polyy,f_lr.T)\n",
    "print mse_lr"
   ]
  },
  {
   "cell_type": "code",
   "execution_count": null,
   "metadata": {},
   "outputs": [],
   "source": []
  },
  {
   "cell_type": "code",
   "execution_count": 45,
   "metadata": {},
   "outputs": [
    {
     "name": "stdout",
     "output_type": "stream",
     "text": [
      "[38 21 20 20 29]\n",
      "[[ 5.         -0.52255454  1.78096964  0.08444114  0.95572358  0.24142849\n",
      "  -5.          0.52255454 -1.78096964 -0.08444114 -0.95572358 -0.24142849]\n",
      " [-0.52255454  1.78096964  0.08444114  0.95572358  0.24142849  0.60865293\n",
      "   0.52255454 -1.78096964 -0.08444114 -0.95572358 -0.24142849 -0.60865293]\n",
      " [ 1.78096964  0.08444114  0.95572358  0.24142849  0.60865293  0.24952259\n",
      "  -1.78096964 -0.08444114 -0.95572358 -0.24142849 -0.60865293 -0.24952259]\n",
      " [ 0.08444114  0.95572358  0.24142849  0.60865293  0.24952259  0.41570712\n",
      "  -0.08444114 -0.95572358 -0.24142849 -0.60865293 -0.24952259 -0.41570712]\n",
      " [ 0.95572358  0.24142849  0.60865293  0.24952259  0.41570712  0.2180062\n",
      "  -0.95572358 -0.24142849 -0.60865293 -0.24952259 -0.41570712 -0.2180062 ]\n",
      " [ 0.24142849  0.60865293  0.24952259  0.41570712  0.2180062   0.29356157\n",
      "  -0.24142849 -0.60865293 -0.24952259 -0.41570712 -0.2180062  -0.29356157]\n",
      " [-5.          0.52255454 -1.78096964 -0.08444114 -0.95572358 -0.24142849\n",
      "   5.         -0.52255454  1.78096964  0.08444114  0.95572358  0.24142849]\n",
      " [ 0.52255454 -1.78096964 -0.08444114 -0.95572358 -0.24142849 -0.60865293\n",
      "  -0.52255454  1.78096964  0.08444114  0.95572358  0.24142849  0.60865293]\n",
      " [-1.78096964 -0.08444114 -0.95572358 -0.24142849 -0.60865293 -0.24952259\n",
      "   1.78096964  0.08444114  0.95572358  0.24142849  0.60865293  0.24952259]\n",
      " [-0.08444114 -0.95572358 -0.24142849 -0.60865293 -0.24952259 -0.41570712\n",
      "   0.08444114  0.95572358  0.24142849  0.60865293  0.24952259  0.41570712]\n",
      " [-0.95572358 -0.24142849 -0.60865293 -0.24952259 -0.41570712 -0.2180062\n",
      "   0.95572358  0.24142849  0.60865293  0.24952259  0.41570712  0.2180062 ]\n",
      " [-0.24142849 -0.60865293 -0.24952259 -0.41570712 -0.2180062  -0.29356157\n",
      "   0.24142849  0.60865293  0.24952259  0.41570712  0.2180062   0.29356157]]\n",
      "[[-3.85611421]\n",
      " [ 3.63889838]\n",
      " [ 0.532623  ]\n",
      " [ 2.49374513]\n",
      " [ 0.95008766]\n",
      " [ 1.67788109]\n",
      " [ 3.85611421]\n",
      " [-3.63889838]\n",
      " [-0.532623  ]\n",
      " [-2.49374513]\n",
      " [-0.95008766]\n",
      " [-1.67788109]]\n",
      "[[ 4.85611421]\n",
      " [-2.63889838]\n",
      " [ 0.467377  ]\n",
      " [-1.49374513]\n",
      " [ 0.04991234]\n",
      " [-0.67788109]\n",
      " [-2.85611421]\n",
      " [ 4.63889838]\n",
      " [ 1.532623  ]\n",
      " [ 3.49374513]\n",
      " [ 1.95008766]\n",
      " [ 2.67788109]]\n"
     ]
    },
    {
     "data": {
      "image/png": "[encoded data removed]",
      "text/plain": [
       "<Figure size 432x288 with 1 Axes>"
      ]
     },
     "metadata": {
      "needs_background": "light"
     },
     "output_type": "display_data"
    },
    {
     "name": "stdout",
     "output_type": "stream",
     "text": [
      "270.3402156118475\n"
     ]
    }
   ],
   "source": [
    "#Lasso\n",
    "sampx_new,sampy_new,Phi_new=randomlist(sampx,sampy,10,50)\n",
    "#print sampx_new\n",
    "#print sampy_new\n",
    "theta_lasso_case1=paraestimateLasso(Phi_new,sampy_new,lmb=1)\n",
    "\n",
    "x=np.linspace(-2,2,100)\n",
    "y=np.linspace(-20,40,100)\n",
    "f=theta_lasso_case1[0][0]+theta_lasso_case1[1][0]*x+theta_lasso_case1[2][0]*np.power(x,2)+theta_lasso_case1[3][0]*np.power(x,3)+theta_lasso_case1[4][0]*np.power(x,4)+theta_lasso_case1[5][0]*np.power(x,5)\n",
    "fig,ax=plt.subplots()\n",
    "ax.scatter(data1['polyx'],data1['polyy'],c='r',marker='o',label='samples')\n",
    "ax.legend()\n",
    "ax.set(xlabel='x')\n",
    "ax.plot(x,f,c='green')\n",
    "plt.show()\n",
    "f_lasso=theta_lasso_case1[0][0]+theta_lasso_case1[1][0]*polyx+theta_lasso_case1[2][0]*np.power(polyx,2)+theta_lasso_case1[3][0]*np.power(polyx,3)+theta_lasso_case1[4][0]*np.power(polyx,4)+theta_lasso_case1[5][0]*np.power(polyx,5)\n",
    "mse_lasso=meansquareerror(polyy,f_lasso.T)\n",
    "print mse_lasso"
   ]
  },
  {
   "cell_type": "code",
   "execution_count": 48,
   "metadata": {},
   "outputs": [
    {
     "name": "stdout",
     "output_type": "stream",
     "text": [
      "[33  5  8 44 19 20 17 22  3 26  6  8]\n",
      "[[ 1.00000000e+00  1.00000000e+00  1.00000000e+00  1.00000000e+00\n",
      "   1.00000000e+00  1.00000000e+00  1.00000000e+00  1.00000000e+00\n",
      "   1.00000000e+00  1.00000000e+00  1.00000000e+00  1.00000000e+00]\n",
      " [ 1.74614486e+00 -1.15450337e+00 -1.55716341e+00 -1.03710660e+00\n",
      "  -5.51702074e-01 -4.56758258e-01 -1.98265409e+00  1.29749965e+00\n",
      "  -1.61368873e+00  4.40826907e-01  2.61778087e-01 -1.55716341e+00]\n",
      " [ 3.04902187e+00  1.33287804e+00  2.42475790e+00  1.07559009e+00\n",
      "   3.04375178e-01  2.08628106e-01  3.93091725e+00  1.68350534e+00\n",
      "   2.60399131e+00  1.94328362e-01  6.85277671e-02  2.42475790e+00]\n",
      " [ 5.32403386e+00 -1.53881220e+00 -3.77574428e+00 -1.11550158e+00\n",
      "  -1.67924417e-01 -9.52926105e-02 -7.79364918e+00  2.18434759e+00\n",
      "  -4.20203142e+00  8.56651708e-02  1.79390678e-02 -3.77574428e+00]\n",
      " [ 9.29653436e+00  1.77656388e+00  5.87945085e+00  1.15689405e+00\n",
      "   9.26442493e-02  4.35256868e-02  1.54521104e+01  2.83419023e+00\n",
      "   6.78077074e+00  3.77635123e-02  4.69605486e-03  5.87945085e+00]\n",
      " [ 1.62330957e+01 -2.05104899e+00 -9.15526576e+00 -1.19982245e+00\n",
      "  -5.11120245e-02 -1.98807169e-02 -3.06361900e+01  3.67736082e+00\n",
      "  -1.09420533e+01  1.66471723e-02  1.22932426e-03 -9.15526576e+00]]\n",
      "[[   12.            -6.16449045    19.30127911   -14.85271429\n",
      "     49.2345949    -43.28230604   -12.             6.16449045\n",
      "    -19.30127911    14.85271429   -49.2345949     43.28230604]\n",
      " [   -6.16449045    19.30127911   -14.85271429    49.2345949\n",
      "    -43.28230604   143.68446267     6.16449045   -19.30127911\n",
      "     14.85271429   -49.2345949     43.28230604  -143.68446267]\n",
      " [   19.30127911   -14.85271429    49.2345949    -43.28230604\n",
      "    143.68446267  -141.67472613   -19.30127911    14.85271429\n",
      "    -49.2345949     43.28230604  -143.68446267   141.67472613]\n",
      " [  -14.85271429    49.2345949    -43.28230604   143.68446267\n",
      "   -141.67472613   452.8471475     14.85271429   -49.2345949\n",
      "     43.28230604  -143.68446267   141.67472613  -452.8471475 ]\n",
      " [   49.2345949    -43.28230604   143.68446267  -141.67472613\n",
      "    452.8471475   -498.94819805   -49.2345949     43.28230604\n",
      "   -143.68446267   141.67472613  -452.8471475    498.94819805]\n",
      " [  -43.28230604   143.68446267  -141.67472613   452.8471475\n",
      "   -498.94819805  1508.62849105    43.28230604  -143.68446267\n",
      "    141.67472613  -452.8471475    498.94819805 -1508.62849105]\n",
      " [  -12.             6.16449045   -19.30127911    14.85271429\n",
      "    -49.2345949     43.28230604    12.            -6.16449045\n",
      "     19.30127911   -14.85271429    49.2345949    -43.28230604]\n",
      " [    6.16449045   -19.30127911    14.85271429   -49.2345949\n",
      "     43.28230604  -143.68446267    -6.16449045    19.30127911\n",
      "    -14.85271429    49.2345949    -43.28230604   143.68446267]\n",
      " [  -19.30127911    14.85271429   -49.2345949     43.28230604\n",
      "   -143.68446267   141.67472613    19.30127911   -14.85271429\n",
      "     49.2345949    -43.28230604   143.68446267  -141.67472613]\n",
      " [   14.85271429   -49.2345949     43.28230604  -143.68446267\n",
      "    141.67472613  -452.8471475    -14.85271429    49.2345949\n",
      "    -43.28230604   143.68446267  -141.67472613   452.8471475 ]\n",
      " [  -49.2345949     43.28230604  -143.68446267   141.67472613\n",
      "   -452.8471475    498.94819805    49.2345949    -43.28230604\n",
      "    143.68446267  -141.67472613   452.8471475   -498.94819805]\n",
      " [   43.28230604  -143.68446267   141.67472613  -452.8471475\n",
      "    498.94819805 -1508.62849105   -43.28230604   143.68446267\n",
      "   -141.67472613   452.8471475   -498.94819805  1508.62849105]]\n",
      "[[   75.84786552]\n",
      " [ -141.40115177]\n",
      " [  200.21700496]\n",
      " [ -434.48074682]\n",
      " [  638.71076685]\n",
      " [-1420.84121089]\n",
      " [  -75.84786552]\n",
      " [  141.40115177]\n",
      " [ -200.21700496]\n",
      " [  434.48074682]\n",
      " [ -638.71076685]\n",
      " [ 1420.84121089]]\n",
      "[[  -74.84786552]\n",
      " [  142.40115177]\n",
      " [ -199.21700496]\n",
      " [  435.48074682]\n",
      " [ -637.71076685]\n",
      " [ 1421.84121089]\n",
      " [   76.84786552]\n",
      " [ -140.40115177]\n",
      " [  201.21700496]\n",
      " [ -433.48074682]\n",
      " [  639.71076685]\n",
      " [-1419.84121089]]\n"
     ]
    },
    {
     "data": {
      "image/png": "[encoded data removed]",
      "text/plain": [
       "<Figure size 432x288 with 1 Axes>"
      ]
     },
     "metadata": {
      "needs_background": "light"
     },
     "output_type": "display_data"
    },
    {
     "name": "stdout",
     "output_type": "stream",
     "text": [
      "1.0257024988453387\n"
     ]
    }
   ],
   "source": [
    "#Lasso\n",
    "sampx_new,sampy_new,Phi_new=randomlist(sampx,sampy,25,50)\n",
    "#print sampx_new\n",
    "#print sampy_new\n",
    "print Phi_new\n",
    "theta_lasso_case1=paraestimateLasso(Phi_new,sampy_new,lmb=1)\n",
    "\n",
    "x=np.linspace(-2,2,100)\n",
    "y=np.linspace(-20,40,100)\n",
    "f=theta_lasso_case1[0][0]+theta_lasso_case1[1][0]*x+theta_lasso_case1[2][0]*np.power(x,2)+theta_lasso_case1[3][0]*np.power(x,3)+theta_lasso_case1[4][0]*np.power(x,4)+theta_lasso_case1[5][0]*np.power(x,5)\n",
    "fig,ax=plt.subplots()\n",
    "ax.scatter(data1['polyx'],data1['polyy'],c='r',marker='o',label='samples')\n",
    "ax.legend()\n",
    "ax.set(xlabel='x')\n",
    "ax.plot(x,f,c='green')\n",
    "plt.show()\n",
    "f_lasso=theta_lasso_case1[0][0]+theta_lasso_case1[1][0]*polyx+theta_lasso_case1[2][0]*np.power(polyx,2)+theta_lasso_case1[3][0]*np.power(polyx,3)+theta_lasso_case1[4][0]*np.power(polyx,4)+theta_lasso_case1[5][0]*np.power(polyx,5)\n",
    "mse_lasso=meansquareerror(polyy,f_lasso.T)\n",
    "print mse_lasso"
   ]
  },
  {
   "cell_type": "code",
   "execution_count": 51,
   "metadata": {},
   "outputs": [
    {
     "name": "stdout",
     "output_type": "stream",
     "text": [
      "[ 0  7 29 42 48 26 48 13 48 34 10 41 22 47 48 12 32 12  3 22 35 19 21  6\n",
      " 44]\n",
      "[[ 1.00000000e+00  1.00000000e+00  1.00000000e+00  1.00000000e+00\n",
      "   1.00000000e+00  1.00000000e+00  1.00000000e+00  1.00000000e+00\n",
      "   1.00000000e+00  1.00000000e+00  1.00000000e+00  1.00000000e+00\n",
      "   1.00000000e+00  1.00000000e+00  1.00000000e+00  1.00000000e+00\n",
      "   1.00000000e+00  1.00000000e+00  1.00000000e+00  1.00000000e+00\n",
      "   1.00000000e+00  1.00000000e+00  1.00000000e+00  1.00000000e+00\n",
      "   1.00000000e+00]\n",
      " [-1.31701448e+00 -2.95683772e-01  8.69182655e-01 -1.32787735e+00\n",
      "   2.72422954e-01  4.40826907e-01  2.72422954e-01 -7.49171795e-01\n",
      "   2.72422954e-01 -5.43354753e-01  1.06393532e+00  1.81130910e+00\n",
      "   1.29749965e+00  1.04972477e-01  2.72422954e-01  1.49433277e+00\n",
      "  -1.31458641e+00  1.49433277e+00 -1.61368873e+00  1.29749965e+00\n",
      "  -1.63329075e-01 -5.51702074e-01 -7.36044654e-01  2.61778087e-01\n",
      "  -1.03710660e+00]\n",
      " [ 1.73452714e+00  8.74288933e-02  7.55478488e-01  1.76325826e+00\n",
      "   7.42142657e-02  1.94328362e-01  7.42142657e-02  5.61258378e-01\n",
      "   7.42142657e-02  2.95234387e-01  1.13195836e+00  3.28084067e+00\n",
      "   1.68350534e+00  1.10192210e-02  7.42142657e-02  2.23303042e+00\n",
      "   1.72813744e+00  2.23303042e+00  2.60399131e+00  1.68350534e+00\n",
      "   2.66763868e-02  3.04375178e-01  5.41761733e-01  6.85277671e-02\n",
      "   1.07559009e+00]\n",
      " [-2.28439736e+00 -2.58513050e-02  6.56648798e-01 -2.34139070e+00\n",
      "   2.02176695e-02  8.56651708e-02  2.02176695e-02 -4.20478946e-01\n",
      "   2.02176695e-02 -1.60417008e-01  1.20433047e+00  5.94261658e+00\n",
      "   2.18434759e+00  1.15671492e-03  2.02176695e-02  3.33689053e+00\n",
      "  -2.27178600e+00  3.33689053e+00 -4.20203142e+00  2.18434759e+00\n",
      "  -4.35702958e-03 -1.67924417e-01 -3.98760827e-01  1.79390678e-02\n",
      "  -1.11550158e+00]\n",
      " [ 3.00858440e+00  7.64381138e-03  5.70747746e-01  3.10907968e+00\n",
      "   5.50775723e-03  3.77635123e-02  5.50775723e-03  3.15010967e-01\n",
      "   5.50775723e-03  8.71633435e-02  1.28132972e+00  1.07639155e+01\n",
      "   2.83419023e+00  1.21423230e-04  5.50775723e-03  4.98642486e+00\n",
      "   2.98645901e+00  4.98642486e+00  6.78077074e+00  2.83419023e+00\n",
      "   7.11629612e-04  9.26442493e-02  2.93505775e-01  4.69605486e-03\n",
      "   1.15689405e+00]\n",
      " [-3.96234922e+00 -2.26015098e-03  4.96084041e-01 -4.12847648e+00\n",
      "   1.50043949e-03  1.66471723e-02  1.50043949e-03 -2.35997331e-01\n",
      "   1.50043949e-03 -4.73606169e-02  1.36325195e+00  1.94967782e+01\n",
      "   3.67736082e+00  1.27460973e-05  1.50043949e-03  7.45137806e+00\n",
      "  -3.92595844e+00  7.45137806e+00 -1.09420533e+01  3.67736082e+00\n",
      "  -1.16229806e-04 -5.11120245e-02 -2.16033357e-01  1.22932426e-03\n",
      "  -1.19982245e+00]]\n",
      "[[  25.            1.5758015    24.29432065    5.63880712   46.16030284\n",
      "    18.92594333  -25.           -1.5758015   -24.29432065   -5.63880712\n",
      "   -46.16030284  -18.92594333]\n",
      " [   1.5758015    24.29432065    5.63880712   46.16030284   18.92594333\n",
      "   104.17145105   -1.5758015   -24.29432065   -5.63880712  -46.16030284\n",
      "   -18.92594333 -104.17145105]\n",
      " [  24.29432065    5.63880712   46.16030284   18.92594333  104.17145105\n",
      "    60.54780223  -24.29432065   -5.63880712  -46.16030284  -18.92594333\n",
      "  -104.17145105  -60.54780223]\n",
      " [   5.63880712   46.16030284   18.92594333  104.17145105   60.54780223\n",
      "   258.78090644   -5.63880712  -46.16030284  -18.92594333 -104.17145105\n",
      "   -60.54780223 -258.78090644]\n",
      " [  46.16030284   18.92594333  104.17145105   60.54780223  258.78090644\n",
      "   194.83661851  -46.16030284  -18.92594333 -104.17145105  -60.54780223\n",
      "  -258.78090644 -194.83661851]\n",
      " [  18.92594333  104.17145105   60.54780223  258.78090644  194.83661851\n",
      "   689.7542471   -18.92594333 -104.17145105  -60.54780223 -258.78090644\n",
      "  -194.83661851 -689.7542471 ]\n",
      " [ -25.           -1.5758015   -24.29432065   -5.63880712  -46.16030284\n",
      "   -18.92594333   25.            1.5758015    24.29432065    5.63880712\n",
      "    46.16030284   18.92594333]\n",
      " [  -1.5758015   -24.29432065   -5.63880712  -46.16030284  -18.92594333\n",
      "  -104.17145105    1.5758015    24.29432065    5.63880712   46.16030284\n",
      "    18.92594333  104.17145105]\n",
      " [ -24.29432065   -5.63880712  -46.16030284  -18.92594333 -104.17145105\n",
      "   -60.54780223   24.29432065    5.63880712   46.16030284   18.92594333\n",
      "   104.17145105   60.54780223]\n",
      " [  -5.63880712  -46.16030284  -18.92594333 -104.17145105  -60.54780223\n",
      "  -258.78090644    5.63880712   46.16030284   18.92594333  104.17145105\n",
      "    60.54780223  258.78090644]\n",
      " [ -46.16030284  -18.92594333 -104.17145105  -60.54780223 -258.78090644\n",
      "  -194.83661851   46.16030284   18.92594333  104.17145105   60.54780223\n",
      "   258.78090644  194.83661851]\n",
      " [ -18.92594333 -104.17145105  -60.54780223 -258.78090644 -194.83661851\n",
      "  -689.7542471    18.92594333  104.17145105   60.54780223  258.78090644\n",
      "   194.83661851  689.7542471 ]]\n",
      "[[  38.68569072]\n",
      " [ -67.27167437]\n",
      " [  37.15580408]\n",
      " [-170.10403059]\n",
      " [  35.77754493]\n",
      " [-457.0522129 ]\n",
      " [ -38.68569072]\n",
      " [  67.27167437]\n",
      " [ -37.15580408]\n",
      " [ 170.10403059]\n",
      " [ -35.77754493]\n",
      " [ 457.0522129 ]]\n",
      "[[ -37.68569072]\n",
      " [  68.27167437]\n",
      " [ -36.15580408]\n",
      " [ 171.10403059]\n",
      " [ -34.77754493]\n",
      " [ 458.0522129 ]\n",
      " [  39.68569072]\n",
      " [ -66.27167437]\n",
      " [  38.15580408]\n",
      " [-169.10403059]\n",
      " [  36.77754493]\n",
      " [-456.0522129 ]]\n"
     ]
    },
    {
     "data": {
      "image/png": "[encoded data removed]",
      "text/plain": [
       "<Figure size 432x288 with 1 Axes>"
      ]
     },
     "metadata": {
      "needs_background": "light"
     },
     "output_type": "display_data"
    },
    {
     "name": "stdout",
     "output_type": "stream",
     "text": [
      "6.174393533708821\n"
     ]
    }
   ],
   "source": [
    "#Lasso\n",
    "sampx_new,sampy_new,Phi_new=randomlist(sampx,sampy,50,50)\n",
    "#print sampx_new\n",
    "#print sampy_new\n",
    "print Phi_new\n",
    "theta_lasso_case1=paraestimateLasso(Phi_new,sampy_new,lmb=1)\n",
    "\n",
    "x=np.linspace(-2,2,100)\n",
    "y=np.linspace(-20,40,100)\n",
    "f=theta_lasso_case1[0][0]+theta_lasso_case1[1][0]*x+theta_lasso_case1[2][0]*np.power(x,2)+theta_lasso_case1[3][0]*np.power(x,3)+theta_lasso_case1[4][0]*np.power(x,4)+theta_lasso_case1[5][0]*np.power(x,5)\n",
    "fig,ax=plt.subplots()\n",
    "ax.scatter(data1['polyx'],data1['polyy'],c='r',marker='o',label='samples')\n",
    "ax.legend()\n",
    "ax.set(xlabel='x')\n",
    "ax.plot(x,f,c='green')\n",
    "plt.show()\n",
    "f_lasso=theta_lasso_case1[0][0]+theta_lasso_case1[1][0]*polyx+theta_lasso_case1[2][0]*np.power(polyx,2)+theta_lasso_case1[3][0]*np.power(polyx,3)+theta_lasso_case1[4][0]*np.power(polyx,4)+theta_lasso_case1[5][0]*np.power(polyx,5)\n",
    "mse_lasso=meansquareerror(polyy,f_lasso.T)\n",
    "print mse_lasso"
   ]
  },
  {
   "cell_type": "code",
   "execution_count": 54,
   "metadata": {},
   "outputs": [
    {
     "name": "stdout",
     "output_type": "stream",
     "text": [
      "[ 7 17 44 36 39 18 11 10  7 13 25 13 42 30 20 41 45 39 13 16 39 17 31  6\n",
      " 42 30 26 26 31 23 40 20 24  9  8  2 34]\n",
      "[[ 1.00000000e+00  1.00000000e+00  1.00000000e+00  1.00000000e+00\n",
      "   1.00000000e+00  1.00000000e+00  1.00000000e+00  1.00000000e+00\n",
      "   1.00000000e+00  1.00000000e+00  1.00000000e+00  1.00000000e+00\n",
      "   1.00000000e+00  1.00000000e+00  1.00000000e+00  1.00000000e+00\n",
      "   1.00000000e+00  1.00000000e+00  1.00000000e+00  1.00000000e+00\n",
      "   1.00000000e+00  1.00000000e+00  1.00000000e+00  1.00000000e+00\n",
      "   1.00000000e+00  1.00000000e+00  1.00000000e+00  1.00000000e+00\n",
      "   1.00000000e+00  1.00000000e+00  1.00000000e+00  1.00000000e+00\n",
      "   1.00000000e+00  1.00000000e+00  1.00000000e+00  1.00000000e+00\n",
      "   1.00000000e+00]\n",
      " [-2.95683772e-01 -1.98265409e+00 -1.03710660e+00 -1.07176633e+00\n",
      "   1.24760952e+00  1.53266188e+00  1.56086716e+00  1.06393532e+00\n",
      "  -2.95683772e-01 -7.49171795e-01  4.31015808e-03 -7.49171795e-01\n",
      "  -1.32787735e+00  3.52883614e-01 -4.56758258e-01  1.81130910e+00\n",
      "   1.34941838e+00  1.24760952e+00 -7.49171795e-01  5.73928562e-01\n",
      "   1.24760952e+00 -1.98265409e+00 -1.08510231e+00  2.61778087e-01\n",
      "  -1.32787735e+00  3.52883614e-01  4.40826907e-01  4.40826907e-01\n",
      "  -1.08510231e+00 -9.23400945e-01  5.73202315e-01 -4.56758258e-01\n",
      "   4.00309651e-01  7.54510855e-01 -1.55716341e+00 -1.08750007e+00\n",
      "  -5.43354753e-01]\n",
      " [ 8.74288933e-02  3.93091725e+00  1.07559009e+00  1.14868306e+00\n",
      "   1.55652951e+00  2.34905245e+00  2.43630629e+00  1.13195836e+00\n",
      "   8.74288933e-02  5.61258378e-01  1.85774627e-05  5.61258378e-01\n",
      "   1.76325826e+00  1.24526845e-01  2.08628106e-01  3.28084067e+00\n",
      "   1.82092996e+00  1.55652951e+00  5.61258378e-01  3.29393995e-01\n",
      "   1.55652951e+00  3.93091725e+00  1.17744703e+00  6.85277671e-02\n",
      "   1.76325826e+00  1.24526845e-01  1.94328362e-01  1.94328362e-01\n",
      "   1.17744703e+00  8.52669306e-01  3.28560894e-01  2.08628106e-01\n",
      "   1.60247817e-01  5.69286630e-01  2.42475790e+00  1.18265640e+00\n",
      "   2.95234387e-01]\n",
      " [-2.58513050e-02 -7.79364918e+00 -1.11550158e+00 -1.23111982e+00\n",
      "   1.94194104e+00  3.60030316e+00  3.80275047e+00  1.20433047e+00\n",
      "  -2.58513050e-02 -4.20478946e-01  8.00718010e-08 -4.20478946e-01\n",
      "  -2.34139070e+00  4.39434831e-02 -9.52926105e-02  5.94261658e+00\n",
      "   2.45719635e+00  1.94194104e+00 -4.20478946e-01  1.89048622e-01\n",
      "   1.94194104e+00 -7.79364918e+00 -1.27765050e+00  1.79390678e-02\n",
      "  -2.34139070e+00  4.39434831e-02  8.56651708e-02  8.56651708e-02\n",
      "  -1.27765050e+00 -7.87355643e-01  1.88331865e-01 -9.52926105e-02\n",
      "   6.41487477e-02  4.29532942e-01 -3.77574428e+00 -1.28613892e+00\n",
      "  -1.60417008e-01]\n",
      " [ 7.64381138e-03  1.54521104e+01  1.15689405e+00  1.31947277e+00\n",
      "   2.42278413e+00  5.51804743e+00  5.93558832e+00  1.28132972e+00\n",
      "   7.64381138e-03  3.15010967e-01  3.45122121e-10  3.15010967e-01\n",
      "   3.10907968e+00  1.55069351e-02  4.35256868e-02  1.07639155e+01\n",
      "   3.31578591e+00  2.42278413e+00  3.15010967e-01  1.08500404e-01\n",
      "   2.42278413e+00  1.54521104e+01  1.38638151e+00  4.69605486e-03\n",
      "   3.10907968e+00  1.55069351e-02  3.77635123e-02  3.77635123e-02\n",
      "   1.38638151e+00  7.27044946e-01  1.07952261e-01  4.35256868e-02\n",
      "   2.56793628e-02  3.24087267e-01  5.87945085e+00  1.39867617e+00\n",
      "   8.71633435e-02]\n",
      " [-2.26015098e-03 -3.06361900e+01 -1.19982245e+00 -1.41416648e+00\n",
      "   3.02268854e+00  8.45730097e+00  9.26466488e+00  1.36325195e+00\n",
      "  -2.26015098e-03 -2.35997331e-01  1.48753090e-12 -2.35997331e-01\n",
      "  -4.12847648e+00  5.47214330e-03 -1.98807169e-02  1.94967782e+01\n",
      "   4.47438244e+00  3.02268854e+00 -2.35997331e-01  6.22714807e-02\n",
      "   3.02268854e+00 -3.06361900e+01 -1.50436579e+00  1.22932426e-03\n",
      "  -4.12847648e+00  5.47214330e-03  1.66471723e-02  1.66471723e-02\n",
      "  -1.50436579e+00 -6.71353990e-01  6.18784860e-02 -1.98807169e-02\n",
      "   1.02796968e-02  2.44527361e-01 -9.15526576e+00 -1.52106043e+00\n",
      "  -4.73606169e-02]]\n",
      "[[   37.            -3.54747799    40.78114772    -8.70414389\n",
      "     86.27169282   -34.75049899   -37.             3.54747799\n",
      "    -40.78114772     8.70414389   -86.27169282    34.75049899]\n",
      " [   -3.54747799    40.78114772    -8.70414389    86.27169282\n",
      "    -34.75049899   237.39500294     3.54747799   -40.78114772\n",
      "      8.70414389   -86.27169282    34.75049899  -237.39500294]\n",
      " [   40.78114772    -8.70414389    86.27169282   -34.75049899\n",
      "    237.39500294  -156.46500738   -40.78114772     8.70414389\n",
      "    -86.27169282    34.75049899  -237.39500294   156.46500738]\n",
      " [   -8.70414389    86.27169282   -34.75049899   237.39500294\n",
      "   -156.46500738   753.07403484     8.70414389   -86.27169282\n",
      "     34.75049899  -237.39500294   156.46500738  -753.07403484]\n",
      " [   86.27169282   -34.75049899   237.39500294  -156.46500738\n",
      "    753.07403484  -686.38889407   -86.27169282    34.75049899\n",
      "   -237.39500294   156.46500738  -753.07403484   686.38889407]\n",
      " [  -34.75049899   237.39500294  -156.46500738   753.07403484\n",
      "   -686.38889407  2592.80097459    34.75049899  -237.39500294\n",
      "    156.46500738  -753.07403484   686.38889407 -2592.80097459]\n",
      " [  -37.             3.54747799   -40.78114772     8.70414389\n",
      "    -86.27169282    34.75049899    37.            -3.54747799\n",
      "     40.78114772    -8.70414389    86.27169282   -34.75049899]\n",
      " [    3.54747799   -40.78114772     8.70414389   -86.27169282\n",
      "     34.75049899  -237.39500294    -3.54747799    40.78114772\n",
      "     -8.70414389    86.27169282   -34.75049899   237.39500294]\n",
      " [  -40.78114772     8.70414389   -86.27169282    34.75049899\n",
      "   -237.39500294   156.46500738    40.78114772    -8.70414389\n",
      "     86.27169282   -34.75049899   237.39500294  -156.46500738]\n",
      " [    8.70414389   -86.27169282    34.75049899  -237.39500294\n",
      "    156.46500738  -753.07403484    -8.70414389    86.27169282\n",
      "    -34.75049899   237.39500294  -156.46500738   753.07403484]\n",
      " [  -86.27169282    34.75049899  -237.39500294   156.46500738\n",
      "   -753.07403484   686.38889407    86.27169282   -34.75049899\n",
      "    237.39500294  -156.46500738   753.07403484  -686.38889407]\n",
      " [   34.75049899  -237.39500294   156.46500738  -753.07403484\n",
      "    686.38889407 -2592.80097459   -34.75049899   237.39500294\n",
      "   -156.46500738   753.07403484  -686.38889407  2592.80097459]]\n",
      "[[  104.15543978]\n",
      " [ -199.53858584]\n",
      " [  250.89345514]\n",
      " [ -646.08013646]\n",
      " [  868.02233808]\n",
      " [-2265.02276621]\n",
      " [ -104.15543978]\n",
      " [  199.53858584]\n",
      " [ -250.89345514]\n",
      " [  646.08013646]\n",
      " [ -868.02233808]\n",
      " [ 2265.02276621]]\n",
      "[[ -103.15543978]\n",
      " [  200.53858584]\n",
      " [ -249.89345514]\n",
      " [  647.08013646]\n",
      " [ -867.02233808]\n",
      " [ 2266.02276621]\n",
      " [  105.15543978]\n",
      " [ -198.53858584]\n",
      " [  251.89345514]\n",
      " [ -645.08013646]\n",
      " [  869.02233808]\n",
      " [-2264.02276621]]\n"
     ]
    },
    {
     "data": {
      "image/png": "[encoded data removed]",
      "text/plain": [
       "<Figure size 432x288 with 1 Axes>"
      ]
     },
     "metadata": {
      "needs_background": "light"
     },
     "output_type": "display_data"
    },
    {
     "name": "stdout",
     "output_type": "stream",
     "text": [
      "0.8625807237990073\n"
     ]
    }
   ],
   "source": [
    "#Lasso\n",
    "sampx_new,sampy_new,Phi_new=randomlist(sampx,sampy,75,50)\n",
    "#print sampx_new\n",
    "#print sampy_new\n",
    "print Phi_new\n",
    "theta_lasso_case1=paraestimateLasso(Phi_new,sampy_new,lmb=1)\n",
    "\n",
    "x=np.linspace(-2,2,100)\n",
    "y=np.linspace(-20,40,100)\n",
    "f=theta_lasso_case1[0][0]+theta_lasso_case1[1][0]*x+theta_lasso_case1[2][0]*np.power(x,2)+theta_lasso_case1[3][0]*np.power(x,3)+theta_lasso_case1[4][0]*np.power(x,4)+theta_lasso_case1[5][0]*np.power(x,5)\n",
    "fig,ax=plt.subplots()\n",
    "ax.scatter(data1['polyx'],data1['polyy'],c='r',marker='o',label='samples')\n",
    "ax.legend()\n",
    "ax.set(xlabel='x')\n",
    "ax.plot(x,f,c='green')\n",
    "plt.show()\n",
    "f_lasso=theta_lasso_case1[0][0]+theta_lasso_case1[1][0]*polyx+theta_lasso_case1[2][0]*np.power(polyx,2)+theta_lasso_case1[3][0]*np.power(polyx,3)+theta_lasso_case1[4][0]*np.power(polyx,4)+theta_lasso_case1[5][0]*np.power(polyx,5)\n",
    "mse_lasso=meansquareerror(polyy,f_lasso.T)\n",
    "print mse_lasso"
   ]
  },
  {
   "cell_type": "code",
   "execution_count": 55,
   "metadata": {},
   "outputs": [
    {
     "name": "stdout",
     "output_type": "stream",
     "text": [
      "50\n",
      "6\n"
     ]
    }
   ],
   "source": [
    "##RR\n",
    "print len(sampy)\n",
    "print len(Phi)"
   ]
  },
  {
   "cell_type": "code",
   "execution_count": 58,
   "metadata": {},
   "outputs": [
    {
     "name": "stdout",
     "output_type": "stream",
     "text": [
      "[11 14  7 34 39]\n",
      "[[ 1.00000000e+00  1.00000000e+00  1.00000000e+00  1.00000000e+00\n",
      "   1.00000000e+00]\n",
      " [ 1.56086716e+00  6.69645788e-01 -2.95683772e-01 -5.43354753e-01\n",
      "   1.24760952e+00]\n",
      " [ 2.43630629e+00  4.48425481e-01  8.74288933e-02  2.95234387e-01\n",
      "   1.55652951e+00]\n",
      " [ 3.80275047e+00  3.00286234e-01 -2.58513050e-02 -1.60417008e-01\n",
      "   1.94194104e+00]\n",
      " [ 5.93558832e+00  2.01085412e-01  7.64381138e-03  8.71633435e-02\n",
      "   2.42278413e+00]\n",
      " [ 9.26466488e+00  1.34655999e-01 -2.26015098e-03 -4.73606169e-02\n",
      "   3.02268854e+00]]\n"
     ]
    },
    {
     "data": {
      "image/png": "[encoded data removed]",
      "text/plain": [
       "<Figure size 432x288 with 1 Axes>"
      ]
     },
     "metadata": {
      "needs_background": "light"
     },
     "output_type": "display_data"
    },
    {
     "name": "stdout",
     "output_type": "stream",
     "text": [
      "387.5332475861368\n"
     ]
    }
   ],
   "source": [
    "#RR\n",
    "sampx_new,sampy_new,Phi_new=randomlist(sampx,sampy,10,50)\n",
    "#print sampx_new\n",
    "#print sampy_new\n",
    "print Phi_new\n",
    "theta_rr_case1=paraestimateRobustreg(Phi_new,sampy_new,lmb=1)\n",
    "\n",
    "x=np.linspace(-2,2,100)\n",
    "y=np.linspace(-20,40,100)\n",
    "f=theta_rr_case1[0][0]+theta_rr_case1[1][0]*x+theta_rr_case1[2][0]*np.power(x,2)+theta_rr_case1[3][0]*np.power(x,3)+theta_rr_case1[4][0]*np.power(x,4)+theta_rr_case1[5][0]*np.power(x,5)\n",
    "fig,ax=plt.subplots()\n",
    "ax.scatter(data1['polyx'],data1['polyy'],c='r',marker='o',label='samples')\n",
    "ax.legend()\n",
    "ax.set(xlabel='x')\n",
    "ax.plot(x,f,c='green')\n",
    "plt.show()\n",
    "f_rr=theta_rr_case1[0][0]+theta_rr_case1[1][0]*polyx+theta_rr_case1[2][0]*np.power(polyx,2)+theta_rr_case1[3][0]*np.power(polyx,3)+theta_rr_case1[4][0]*np.power(polyx,4)+theta_rr_case1[5][0]*np.power(polyx,5)\n",
    "mse_rr=meansquareerror(polyy,f_rr.T)\n",
    "print mse_rr"
   ]
  },
  {
   "cell_type": "code",
   "execution_count": 61,
   "metadata": {},
   "outputs": [
    {
     "name": "stdout",
     "output_type": "stream",
     "text": [
      "[33  9 18 27 31 25  7 25 19  4 29  1]\n",
      "[[ 1.00000000e+00  1.00000000e+00  1.00000000e+00  1.00000000e+00\n",
      "   1.00000000e+00  1.00000000e+00  1.00000000e+00  1.00000000e+00\n",
      "   1.00000000e+00  1.00000000e+00  1.00000000e+00  1.00000000e+00]\n",
      " [ 1.74614486e+00  7.54510855e-01  1.53266188e+00  9.77826418e-01\n",
      "  -1.08510231e+00  4.31015808e-03 -2.95683772e-01  4.31015808e-03\n",
      "  -5.51702074e-01 -1.26644580e+00  8.69182655e-01  9.37639823e-01]\n",
      " [ 3.04902187e+00  5.69286630e-01  2.34905245e+00  9.56144504e-01\n",
      "   1.17744703e+00  1.85774627e-05  8.74288933e-02  1.85774627e-05\n",
      "   3.04375178e-01  1.60388496e+00  7.55478488e-01  8.79168437e-01]\n",
      " [ 5.32403386e+00  4.29532942e-01  3.60030316e+00  9.34943355e-01\n",
      "  -1.27765050e+00  8.00718010e-08 -2.58513050e-02  8.00718010e-08\n",
      "  -1.67924417e-01 -2.03123336e+00  6.56648798e-01  8.24343337e-01]\n",
      " [ 9.29653436e+00  3.24087267e-01  5.51804743e+00  9.14212312e-01\n",
      "   1.38638151e+00  3.45122121e-10  7.64381138e-03  3.45122121e-10\n",
      "   9.26442493e-02  2.57244695e+00  5.70747746e-01  7.72937141e-01]\n",
      " [ 1.62330957e+01  2.44527361e-01  8.45730097e+00  8.93940950e-01\n",
      "  -1.50436579e+00  1.48753090e-12 -2.26015098e-03  1.48753090e-12\n",
      "  -5.11120245e-02 -3.25786463e+00  4.96084041e-01  7.24736644e-01]]\n"
     ]
    },
    {
     "data": {
      "image/png": "[encoded data removed]",
      "text/plain": [
       "<Figure size 432x288 with 1 Axes>"
      ]
     },
     "metadata": {
      "needs_background": "light"
     },
     "output_type": "display_data"
    },
    {
     "name": "stdout",
     "output_type": "stream",
     "text": [
      "490.1939009447735\n"
     ]
    }
   ],
   "source": [
    "#RR\n",
    "sampx_new,sampy_new,Phi_new=randomlist(sampx,sampy,25,50)\n",
    "#print sampx_new\n",
    "#print sampy_new\n",
    "print Phi_new\n",
    "theta_rr_case1=paraestimateRobustreg(Phi_new,sampy_new,lmb=1)\n",
    "\n",
    "x=np.linspace(-2,2,100)\n",
    "y=np.linspace(-20,40,100)\n",
    "f=theta_rr_case1[0][0]+theta_rr_case1[1][0]*x+theta_rr_case1[2][0]*np.power(x,2)+theta_rr_case1[3][0]*np.power(x,3)+theta_rr_case1[4][0]*np.power(x,4)+theta_rr_case1[5][0]*np.power(x,5)\n",
    "fig,ax=plt.subplots()\n",
    "ax.scatter(data1['polyx'],data1['polyy'],c='r',marker='o',label='samples')\n",
    "ax.legend()\n",
    "ax.set(xlabel='x')\n",
    "ax.plot(x,f,c='green')\n",
    "plt.show()\n",
    "f_rr=theta_rr_case1[0][0]+theta_rr_case1[1][0]*polyx+theta_rr_case1[2][0]*np.power(polyx,2)+theta_rr_case1[3][0]*np.power(polyx,3)+theta_rr_case1[4][0]*np.power(polyx,4)+theta_rr_case1[5][0]*np.power(polyx,5)\n",
    "mse_rr=meansquareerror(polyy,f_rr.T)\n",
    "print mse_rr"
   ]
  },
  {
   "cell_type": "code",
   "execution_count": 64,
   "metadata": {},
   "outputs": [
    {
     "name": "stdout",
     "output_type": "stream",
     "text": [
      "[ 1 47  9 10 26 11 42 20 21 13 19 44 48 34 41 21 20  8 29 15 12 26 36 20\n",
      "  3]\n",
      "[[ 1.00000000e+00  1.00000000e+00  1.00000000e+00  1.00000000e+00\n",
      "   1.00000000e+00  1.00000000e+00  1.00000000e+00  1.00000000e+00\n",
      "   1.00000000e+00  1.00000000e+00  1.00000000e+00  1.00000000e+00\n",
      "   1.00000000e+00  1.00000000e+00  1.00000000e+00  1.00000000e+00\n",
      "   1.00000000e+00  1.00000000e+00  1.00000000e+00  1.00000000e+00\n",
      "   1.00000000e+00  1.00000000e+00  1.00000000e+00  1.00000000e+00\n",
      "   1.00000000e+00]\n",
      " [ 9.37639823e-01  1.04972477e-01  7.54510855e-01  1.06393532e+00\n",
      "   4.40826907e-01  1.56086716e+00 -1.32787735e+00 -4.56758258e-01\n",
      "  -7.36044654e-01 -7.49171795e-01 -5.51702074e-01 -1.03710660e+00\n",
      "   2.72422954e-01 -5.43354753e-01  1.81130910e+00 -7.36044654e-01\n",
      "  -4.56758258e-01 -1.55716341e+00  8.69182655e-01 -1.26324901e+00\n",
      "   1.49433277e+00  4.40826907e-01 -1.07176633e+00 -4.56758258e-01\n",
      "  -1.61368873e+00]\n",
      " [ 8.79168437e-01  1.10192210e-02  5.69286630e-01  1.13195836e+00\n",
      "   1.94328362e-01  2.43630629e+00  1.76325826e+00  2.08628106e-01\n",
      "   5.41761733e-01  5.61258378e-01  3.04375178e-01  1.07559009e+00\n",
      "   7.42142657e-02  2.95234387e-01  3.28084067e+00  5.41761733e-01\n",
      "   2.08628106e-01  2.42475790e+00  7.55478488e-01  1.59579806e+00\n",
      "   2.23303042e+00  1.94328362e-01  1.14868306e+00  2.08628106e-01\n",
      "   2.60399131e+00]\n",
      " [ 8.24343337e-01  1.15671492e-03  4.29532942e-01  1.20433047e+00\n",
      "   8.56651708e-02  3.80275047e+00 -2.34139070e+00 -9.52926105e-02\n",
      "  -3.98760827e-01 -4.20478946e-01 -1.67924417e-01 -1.11550158e+00\n",
      "   2.02176695e-02 -1.60417008e-01  5.94261658e+00 -3.98760827e-01\n",
      "  -9.52926105e-02 -3.77574428e+00  6.56648798e-01 -2.01589031e+00\n",
      "   3.33689053e+00  8.56651708e-02 -1.23111982e+00 -9.52926105e-02\n",
      "  -4.20203142e+00]\n",
      " [ 7.72937141e-01  1.21423230e-04  3.24087267e-01  1.28132972e+00\n",
      "   3.77635123e-02  5.93558832e+00  3.10907968e+00  4.35256868e-02\n",
      "   2.93505775e-01  3.15010967e-01  9.26442493e-02  1.15689405e+00\n",
      "   5.50775723e-03  8.71633435e-02  1.07639155e+01  2.93505775e-01\n",
      "   4.35256868e-02  5.87945085e+00  5.70747746e-01  2.54657143e+00\n",
      "   4.98642486e+00  3.77635123e-02  1.31947277e+00  4.35256868e-02\n",
      "   6.78077074e+00]\n",
      " [ 7.24736644e-01  1.27460973e-05  2.44527361e-01  1.36325195e+00\n",
      "   1.66471723e-02  9.26466488e+00 -4.12847648e+00 -1.98807169e-02\n",
      "  -2.16033357e-01 -2.35997331e-01 -5.11120245e-02 -1.19982245e+00\n",
      "   1.50043949e-03 -4.73606169e-02  1.94967782e+01 -2.16033357e-01\n",
      "  -1.98807169e-02 -9.15526576e+00  4.96084041e-01 -3.21695384e+00\n",
      "   7.45137806e+00  1.66471723e-02 -1.41416648e+00 -1.98807169e-02\n",
      "  -1.09420533e+01]]\n"
     ]
    },
    {
     "data": {
      "image/png": "[encoded data removed]",
      "text/plain": [
       "<Figure size 432x288 with 1 Axes>"
      ]
     },
     "metadata": {
      "needs_background": "light"
     },
     "output_type": "display_data"
    },
    {
     "name": "stdout",
     "output_type": "stream",
     "text": [
      "14.106458329613808\n"
     ]
    }
   ],
   "source": [
    "#RR\n",
    "sampx_new,sampy_new,Phi_new=randomlist(sampx,sampy,50,50)\n",
    "#print sampx_new\n",
    "#print sampy_new\n",
    "print Phi_new\n",
    "theta_rr_case1=paraestimateRobustreg(Phi_new,sampy_new,lmb=1)\n",
    "\n",
    "x=np.linspace(-2,2,100)\n",
    "y=np.linspace(-20,40,100)\n",
    "f=theta_rr_case1[0][0]+theta_rr_case1[1][0]*x+theta_rr_case1[2][0]*np.power(x,2)+theta_rr_case1[3][0]*np.power(x,3)+theta_rr_case1[4][0]*np.power(x,4)+theta_rr_case1[5][0]*np.power(x,5)\n",
    "fig,ax=plt.subplots()\n",
    "ax.scatter(data1['polyx'],data1['polyy'],c='r',marker='o',label='samples')\n",
    "ax.legend()\n",
    "ax.set(xlabel='x')\n",
    "ax.plot(x,f,c='green')\n",
    "plt.show()\n",
    "f_rr=theta_rr_case1[0][0]+theta_rr_case1[1][0]*polyx+theta_rr_case1[2][0]*np.power(polyx,2)+theta_rr_case1[3][0]*np.power(polyx,3)+theta_rr_case1[4][0]*np.power(polyx,4)+theta_rr_case1[5][0]*np.power(polyx,5)\n",
    "mse_rr=meansquareerror(polyy,f_rr.T)\n",
    "print mse_rr"
   ]
  },
  {
   "cell_type": "code",
   "execution_count": 67,
   "metadata": {},
   "outputs": [
    {
     "name": "stdout",
     "output_type": "stream",
     "text": [
      "[43 22 48 13 23 24 11 20 44 24 13 12 11  0 18 46 19  2  8 34 41 22 35 26\n",
      "  6 29 25 13 33 47  0  7 34 42 20  1 23]\n",
      "[[ 1.00000000e+00  1.00000000e+00  1.00000000e+00  1.00000000e+00\n",
      "   1.00000000e+00  1.00000000e+00  1.00000000e+00  1.00000000e+00\n",
      "   1.00000000e+00  1.00000000e+00  1.00000000e+00  1.00000000e+00\n",
      "   1.00000000e+00  1.00000000e+00  1.00000000e+00  1.00000000e+00\n",
      "   1.00000000e+00  1.00000000e+00  1.00000000e+00  1.00000000e+00\n",
      "   1.00000000e+00  1.00000000e+00  1.00000000e+00  1.00000000e+00\n",
      "   1.00000000e+00  1.00000000e+00  1.00000000e+00  1.00000000e+00\n",
      "   1.00000000e+00  1.00000000e+00  1.00000000e+00  1.00000000e+00\n",
      "   1.00000000e+00  1.00000000e+00  1.00000000e+00  1.00000000e+00\n",
      "   1.00000000e+00]\n",
      " [-1.63461874e+00  1.29749965e+00  2.72422954e-01 -7.49171795e-01\n",
      "  -9.23400945e-01  4.00309651e-01  1.56086716e+00 -4.56758258e-01\n",
      "  -1.03710660e+00  4.00309651e-01 -7.49171795e-01  1.49433277e+00\n",
      "   1.56086716e+00 -1.31701448e+00  1.53266188e+00 -3.25334386e-01\n",
      "  -5.51702074e-01 -1.08750007e+00 -1.55716341e+00 -5.43354753e-01\n",
      "   1.81130910e+00  1.29749965e+00 -1.63329075e-01  4.40826907e-01\n",
      "   2.61778087e-01  8.69182655e-01  4.31015808e-03 -7.49171795e-01\n",
      "   1.74614486e+00  1.04972477e-01 -1.31701448e+00 -2.95683772e-01\n",
      "  -5.43354753e-01 -1.32787735e+00 -4.56758258e-01  9.37639823e-01\n",
      "  -9.23400945e-01]\n",
      " [ 2.67197841e+00  1.68350534e+00  7.42142657e-02  5.61258378e-01\n",
      "   8.52669306e-01  1.60247817e-01  2.43630629e+00  2.08628106e-01\n",
      "   1.07559009e+00  1.60247817e-01  5.61258378e-01  2.23303042e+00\n",
      "   2.43630629e+00  1.73452714e+00  2.34905245e+00  1.05842463e-01\n",
      "   3.04375178e-01  1.18265640e+00  2.42475790e+00  2.95234387e-01\n",
      "   3.28084067e+00  1.68350534e+00  2.66763868e-02  1.94328362e-01\n",
      "   6.85277671e-02  7.55478488e-01  1.85774627e-05  5.61258378e-01\n",
      "   3.04902187e+00  1.10192210e-02  1.73452714e+00  8.74288933e-02\n",
      "   2.95234387e-01  1.76325826e+00  2.08628106e-01  8.79168437e-01\n",
      "   8.52669306e-01]\n",
      " [-4.36766598e+00  2.18434759e+00  2.02176695e-02 -4.20478946e-01\n",
      "  -7.87355643e-01  6.41487477e-02  3.80275047e+00 -9.52926105e-02\n",
      "  -1.11550158e+00  6.41487477e-02 -4.20478946e-01  3.33689053e+00\n",
      "   3.80275047e+00 -2.28439736e+00  3.60030316e+00 -3.44341927e-02\n",
      "  -1.67924417e-01 -1.28613892e+00 -3.77574428e+00 -1.60417008e-01\n",
      "   5.94261658e+00  2.18434759e+00 -4.35702958e-03  8.56651708e-02\n",
      "   1.79390678e-02  6.56648798e-01  8.00718010e-08 -4.20478946e-01\n",
      "   5.32403386e+00  1.15671492e-03 -2.28439736e+00 -2.58513050e-02\n",
      "  -1.60417008e-01 -2.34139070e+00 -9.52926105e-02  8.24343337e-01\n",
      "  -7.87355643e-01]\n",
      " [ 7.13946865e+00  2.83419023e+00  5.50775723e-03  3.15010967e-01\n",
      "   7.27044946e-01  2.56793628e-02  5.93558832e+00  4.35256868e-02\n",
      "   1.15689405e+00  2.56793628e-02  3.15010967e-01  4.98642486e+00\n",
      "   5.93558832e+00  3.00858440e+00  5.51804743e+00  1.12026269e-02\n",
      "   9.26442493e-02  1.39867617e+00  5.87945085e+00  8.71633435e-02\n",
      "   1.07639155e+01  2.83419023e+00  7.11629612e-04  3.77635123e-02\n",
      "   4.69605486e-03  5.70747746e-01  3.45122121e-10  3.15010967e-01\n",
      "   9.29653436e+00  1.21423230e-04  3.00858440e+00  7.64381138e-03\n",
      "   8.71633435e-02  3.10907968e+00  4.35256868e-02  7.72937141e-01\n",
      "   7.27044946e-01]\n",
      " [-1.16703092e+01  3.67736082e+00  1.50043949e-03 -2.35997331e-01\n",
      "  -6.71353990e-01  1.02796968e-02  9.26466488e+00 -1.98807169e-02\n",
      "  -1.19982245e+00  1.02796968e-02 -2.35997331e-01  7.45137806e+00\n",
      "   9.26466488e+00 -3.96234922e+00  8.45730097e+00 -3.64459976e-03\n",
      "  -5.11120245e-02 -1.52106043e+00 -9.15526576e+00 -4.73606169e-02\n",
      "   1.94967782e+01  3.67736082e+00 -1.16229806e-04  1.66471723e-02\n",
      "   1.22932426e-03  4.96084041e-01  1.48753090e-12 -2.35997331e-01\n",
      "   1.62330957e+01  1.27460973e-05 -3.96234922e+00 -2.26015098e-03\n",
      "  -4.73606169e-02 -4.12847648e+00 -1.98807169e-02  7.24736644e-01\n",
      "  -6.71353990e-01]]\n"
     ]
    },
    {
     "data": {
      "image/png": "[encoded data removed]",
      "text/plain": [
       "<Figure size 432x288 with 1 Axes>"
      ]
     },
     "metadata": {
      "needs_background": "light"
     },
     "output_type": "display_data"
    },
    {
     "name": "stdout",
     "output_type": "stream",
     "text": [
      "1.8312223770389613\n",
      "100\n"
     ]
    }
   ],
   "source": [
    "#RR\n",
    "sampx_new,sampy_new,Phi_new=randomlist(sampx,sampy,75,50)\n",
    "#print sampx_new\n",
    "#print sampy_new\n",
    "print Phi_new\n",
    "theta_rr_case1=paraestimateRobustreg(Phi_new,sampy_new,lmb=1)\n",
    "\n",
    "x=np.linspace(-2,2,100)\n",
    "y=np.linspace(-20,40,100)\n",
    "f=theta_rr_case1[0][0]+theta_rr_case1[1][0]*x+theta_rr_case1[2][0]*np.power(x,2)+theta_rr_case1[3][0]*np.power(x,3)+theta_rr_case1[4][0]*np.power(x,4)+theta_rr_case1[5][0]*np.power(x,5)\n",
    "fig,ax=plt.subplots()\n",
    "ax.scatter(data1['polyx'],data1['polyy'],c='r',marker='o',label='samples')\n",
    "ax.legend()\n",
    "ax.set(xlabel='x')\n",
    "ax.plot(x,f,c='green')\n",
    "plt.show()\n",
    "f_rr=theta_rr_case1[0][0]+theta_rr_case1[1][0]*polyx+theta_rr_case1[2][0]*np.power(polyx,2)+theta_rr_case1[3][0]*np.power(polyx,3)+theta_rr_case1[4][0]*np.power(polyx,4)+theta_rr_case1[5][0]*np.power(polyx,5)\n",
    "mse_rr=meansquareerror(polyy,f_rr.T)\n",
    "print mse_rr\n",
    "print len(polyy)"
   ]
  },
  {
   "cell_type": "code",
   "execution_count": 68,
   "metadata": {},
   "outputs": [
    {
     "name": "stdout",
     "output_type": "stream",
     "text": [
      "[11 16 13 32  0]\n",
      "(6, 6)\n",
      "(6, 1)\n",
      "(100, 1)\n",
      "17.211195077540776\n"
     ]
    },
    {
     "data": {
      "image/png": "[encoded data removed]",
      "text/plain": [
       "<Figure size 432x288 with 1 Axes>"
      ]
     },
     "metadata": {
      "needs_background": "light"
     },
     "output_type": "display_data"
    }
   ],
   "source": [
    "#BR\n",
    "sampx_new,sampy_new,Phi_new=randomlist(sampx,sampy,10,50)\n",
    "SIGMA=esitmatesigma(Phi_new,alpha=1,sigma_square=5)\n",
    "mju=estimatemju(sampy_new,Phi_new,SIGMA,sigma_square=5)\n",
    "print SIGMA.shape\n",
    "print mju.shape\n",
    "sigmapredict=np.zeros((100,1))\n",
    "for i in range(100):\n",
    "    sigmapredict[i][0]=gaussianpredictedsigma(SIGMA,polyx[0][i])\n",
    "print sigmapredict.shape\n",
    "\n",
    "\n",
    "f_BR_case1=mju[0][0]+mju[1][0]*polyx+mju[2][0]*np.power(polyx,2)+mju[3][0]*np.power(polyx,3)+mju[4][0]*np.power(polyx,4)+mju[5][0]*np.power(polyx,5)\n",
    "mse_BR_case1=meansquareerror(polyy,f_BR_case1.T)\n",
    "print mse_BR_case1\n",
    "\n",
    "f_plus=np.zeros((1,len(polyy)))\n",
    "f_sub=np.zeros((1,len(polyy)))\n",
    "for i in range(len(polyy)):\n",
    "    f_plus[0][i]=f_BR_case1[0][i]+sigmapredict.T[0][i]\n",
    "    f_sub[0][i]=f_BR_case1[0][i]-sigmapredict.T[0][i]\n",
    "\n",
    "f_plus=f_plus.squeeze()\n",
    "f_sub=f_sub.squeeze()\n",
    "\n",
    "\n",
    " \n",
    "\n",
    "x=np.linspace(-2,2,100)\n",
    "y=np.linspace(-20,40,100)\n",
    "f=mju[0][0]+mju[1][0]*x+mju[2][0]*np.power(x,2)+mju[3][0]*np.power(x,3)+mju[4][0]*np.power(x,4)+mju[5][0]*np.power(x,5)\n",
    "fig,ax=plt.subplots()\n",
    "ax.scatter(data1['polyx'],data1['polyy'],c='r',marker='o',label='samples')\n",
    "ax.legend()\n",
    "ax.set(xlabel='x')\n",
    "ax.plot(x,f,c='green')\n",
    "ax.plot(x,f_plus,c='blue')\n",
    "ax.plot(x,f_sub,c='brown')\n",
    "plt.show()"
   ]
  },
  {
   "cell_type": "code",
   "execution_count": 74,
   "metadata": {},
   "outputs": [
    {
     "name": "stdout",
     "output_type": "stream",
     "text": [
      "[19 14 24  8 17 35 46  8 43 35 43  2]\n",
      "(6, 6)\n",
      "(6, 1)\n",
      "(100, 1)\n",
      "8.262447752826247\n"
     ]
    },
    {
     "data": {
      "image/png": "[encoded data removed]",
      "text/plain": [
       "<Figure size 432x288 with 1 Axes>"
      ]
     },
     "metadata": {
      "needs_background": "light"
     },
     "output_type": "display_data"
    }
   ],
   "source": [
    "#BR\n",
    "sampx_new,sampy_new,Phi_new=randomlist(sampx,sampy,25,50)\n",
    "SIGMA=esitmatesigma(Phi_new,alpha=1,sigma_square=5)\n",
    "mju=estimatemju(sampy_new,Phi_new,SIGMA,sigma_square=5)\n",
    "print SIGMA.shape\n",
    "print mju.shape\n",
    "sigmapredict=np.zeros((100,1))\n",
    "for i in range(100):\n",
    "    sigmapredict[i][0]=gaussianpredictedsigma(SIGMA,polyx[0][i])\n",
    "print sigmapredict.shape\n",
    "\n",
    "\n",
    "f_BR_case1=mju[0][0]+mju[1][0]*polyx+mju[2][0]*np.power(polyx,2)+mju[3][0]*np.power(polyx,3)+mju[4][0]*np.power(polyx,4)+mju[5][0]*np.power(polyx,5)\n",
    "mse_BR_case1=meansquareerror(polyy,f_BR_case1.T)\n",
    "print mse_BR_case1\n",
    "\n",
    "f_plus=np.zeros((1,len(polyy)))\n",
    "f_sub=np.zeros((1,len(polyy)))\n",
    "for i in range(len(polyy)):\n",
    "    f_plus[0][i]=f_BR_case1[0][i]+sigmapredict.T[0][i]\n",
    "    f_sub[0][i]=f_BR_case1[0][i]-sigmapredict.T[0][i]\n",
    "\n",
    "f_plus=f_plus.squeeze()\n",
    "f_sub=f_sub.squeeze()\n",
    "\n",
    "\n",
    " \n",
    "\n",
    "x=np.linspace(-2,2,100)\n",
    "y=np.linspace(-20,40,100)\n",
    "f=mju[0][0]+mju[1][0]*x+mju[2][0]*np.power(x,2)+mju[3][0]*np.power(x,3)+mju[4][0]*np.power(x,4)+mju[5][0]*np.power(x,5)\n",
    "fig,ax=plt.subplots()\n",
    "ax.scatter(data1['polyx'],data1['polyy'],c='r',marker='o',label='samples')\n",
    "ax.legend()\n",
    "ax.set(xlabel='x')\n",
    "ax.plot(x,f,c='green')\n",
    "ax.plot(x,f_plus,c='blue')\n",
    "ax.plot(x,f_sub,c='brown')\n",
    "plt.show()"
   ]
  },
  {
   "cell_type": "code",
   "execution_count": 77,
   "metadata": {},
   "outputs": [
    {
     "name": "stdout",
     "output_type": "stream",
     "text": [
      "[32  4 19 10 21 31 19 11 22  4 27 42 39 47 34 28 46 44 23 13 47  0 10 11\n",
      " 24]\n",
      "(6, 6)\n",
      "(6, 1)\n",
      "(100, 1)\n",
      "1.8531260214933516\n"
     ]
    },
    {
     "data": {
      "image/png": "[encoded data removed]",
      "text/plain": [
       "<Figure size 432x288 with 1 Axes>"
      ]
     },
     "metadata": {
      "needs_background": "light"
     },
     "output_type": "display_data"
    }
   ],
   "source": [
    "#BR\n",
    "sampx_new,sampy_new,Phi_new=randomlist(sampx,sampy,50,50)\n",
    "SIGMA=esitmatesigma(Phi_new,alpha=1,sigma_square=5)\n",
    "mju=estimatemju(sampy_new,Phi_new,SIGMA,sigma_square=5)\n",
    "print SIGMA.shape\n",
    "print mju.shape\n",
    "sigmapredict=np.zeros((100,1))\n",
    "for i in range(100):\n",
    "    sigmapredict[i][0]=gaussianpredictedsigma(SIGMA,polyx[0][i])\n",
    "print sigmapredict.shape\n",
    "\n",
    "\n",
    "f_BR_case1=mju[0][0]+mju[1][0]*polyx+mju[2][0]*np.power(polyx,2)+mju[3][0]*np.power(polyx,3)+mju[4][0]*np.power(polyx,4)+mju[5][0]*np.power(polyx,5)\n",
    "mse_BR_case1=meansquareerror(polyy,f_BR_case1.T)\n",
    "print mse_BR_case1\n",
    "\n",
    "f_plus=np.zeros((1,len(polyy)))\n",
    "f_sub=np.zeros((1,len(polyy)))\n",
    "for i in range(len(polyy)):\n",
    "    f_plus[0][i]=f_BR_case1[0][i]+sigmapredict.T[0][i]\n",
    "    f_sub[0][i]=f_BR_case1[0][i]-sigmapredict.T[0][i]\n",
    "\n",
    "f_plus=f_plus.squeeze()\n",
    "f_sub=f_sub.squeeze()\n",
    "\n",
    "\n",
    " \n",
    "\n",
    "x=np.linspace(-2,2,100)\n",
    "y=np.linspace(-20,40,100)\n",
    "f=mju[0][0]+mju[1][0]*x+mju[2][0]*np.power(x,2)+mju[3][0]*np.power(x,3)+mju[4][0]*np.power(x,4)+mju[5][0]*np.power(x,5)\n",
    "fig,ax=plt.subplots()\n",
    "ax.scatter(data1['polyx'],data1['polyy'],c='r',marker='o',label='samples')\n",
    "ax.legend()\n",
    "ax.set(xlabel='x')\n",
    "ax.plot(x,f,c='green')\n",
    "ax.plot(x,f_plus,c='blue')\n",
    "ax.plot(x,f_sub,c='brown')\n",
    "plt.show()"
   ]
  },
  {
   "cell_type": "code",
   "execution_count": 80,
   "metadata": {},
   "outputs": [
    {
     "name": "stdout",
     "output_type": "stream",
     "text": [
      "[37 42 13 38  9 47  2 11 40 47 27 42 28 46 47  6  7 19  5 32  0 37 25  5\n",
      "  5 18 38 44  4 25 34  0 41 25 36 33 13]\n",
      "(6, 6)\n",
      "(6, 1)\n",
      "(100, 1)\n",
      "1.194226639272435\n"
     ]
    },
    {
     "data": {
      "image/png": "[encoded data removed]",
      "text/plain": [
       "<Figure size 432x288 with 1 Axes>"
      ]
     },
     "metadata": {
      "needs_background": "light"
     },
     "output_type": "display_data"
    }
   ],
   "source": [
    "#BR\n",
    "sampx_new,sampy_new,Phi_new=randomlist(sampx,sampy,75,50)\n",
    "SIGMA=esitmatesigma(Phi_new,alpha=1,sigma_square=5)\n",
    "mju=estimatemju(sampy_new,Phi_new,SIGMA,sigma_square=5)\n",
    "print SIGMA.shape\n",
    "print mju.shape\n",
    "sigmapredict=np.zeros((100,1))\n",
    "for i in range(100):\n",
    "    sigmapredict[i][0]=gaussianpredictedsigma(SIGMA,polyx[0][i])\n",
    "print sigmapredict.shape\n",
    "\n",
    "\n",
    "f_BR_case1=mju[0][0]+mju[1][0]*polyx+mju[2][0]*np.power(polyx,2)+mju[3][0]*np.power(polyx,3)+mju[4][0]*np.power(polyx,4)+mju[5][0]*np.power(polyx,5)\n",
    "mse_BR_case1=meansquareerror(polyy,f_BR_case1.T)\n",
    "print mse_BR_case1\n",
    "\n",
    "f_plus=np.zeros((1,len(polyy)))\n",
    "f_sub=np.zeros((1,len(polyy)))\n",
    "for i in range(len(polyy)):\n",
    "    f_plus[0][i]=f_BR_case1[0][i]+sigmapredict.T[0][i]\n",
    "    f_sub[0][i]=f_BR_case1[0][i]-sigmapredict.T[0][i]\n",
    "\n",
    "f_plus=f_plus.squeeze()\n",
    "f_sub=f_sub.squeeze()\n",
    "\n",
    "\n",
    " \n",
    "\n",
    "x=np.linspace(-2,2,100)\n",
    "y=np.linspace(-20,40,100)\n",
    "f=mju[0][0]+mju[1][0]*x+mju[2][0]*np.power(x,2)+mju[3][0]*np.power(x,3)+mju[4][0]*np.power(x,4)+mju[5][0]*np.power(x,5)\n",
    "fig,ax=plt.subplots()\n",
    "ax.scatter(data1['polyx'],data1['polyy'],c='r',marker='o',label='samples')\n",
    "ax.legend()\n",
    "ax.set(xlabel='x')\n",
    "ax.plot(x,f,c='green')\n",
    "ax.plot(x,f_plus,c='blue')\n",
    "ax.plot(x,f_sub,c='brown')\n",
    "plt.show()"
   ]
  },
  {
   "cell_type": "code",
   "execution_count": 81,
   "metadata": {},
   "outputs": [
    {
     "name": "stdout",
     "output_type": "stream",
     "text": [
      "(1, 50)\n",
      "(50, 1)\n"
     ]
    }
   ],
   "source": [
    "#part4\n",
    "sampxp4=sampx\n",
    "sampyp4=sampy\n",
    "sampyp4[25][0]=500\n",
    "print sampxp4.shape\n",
    "print sampyp4.shape"
   ]
  },
  {
   "cell_type": "code",
   "execution_count": 82,
   "metadata": {},
   "outputs": [
    {
     "name": "stdout",
     "output_type": "stream",
     "text": [
      "472.460750929855\n"
     ]
    },
    {
     "data": {
      "image/png": "[encoded data removed]",
      "text/plain": [
       "<Figure size 432x288 with 1 Axes>"
      ]
     },
     "metadata": {
      "needs_background": "light"
     },
     "output_type": "display_data"
    }
   ],
   "source": [
    "theta_real_case2=paraestimate(Phi,sampyp4)\n",
    "f_ls_4=theta_real_case2[0][0]+theta_real_case2[1][0]*polyx+theta_real_case2[2][0]*np.power(polyx,2)+theta_real_case2[3][0]*np.power(polyx,3)+theta_real_case2[4][0]*np.power(polyx,4)+theta_real_case2[5][0]*np.power(polyx,5)\n",
    "mse_ls_4=meansquareerror(polyy,f_ls_4.T)\n",
    "print mse_ls_4\n",
    "x=np.linspace(-2,2,100)\n",
    "y=np.linspace(-20,40,100)\n",
    "f=theta_real_case2[0][0]+theta_real_case2[1][0]*x+theta_real_case2[2][0]*np.power(x,2)+theta_real_case2[3][0]*np.power(x,3)+theta_real_case2[4][0]*np.power(x,4)+theta_real_case2[5][0]*np.power(x,5)\n",
    "fig,ax=plt.subplots()\n",
    "ax.scatter(data1['polyx'],data1['polyy'],c='r',marker='o',label='samples')\n",
    "ax.legend()\n",
    "ax.set(xlabel='x')\n",
    "ax.plot(x,f,c='green')\n",
    "plt.show()"
   ]
  },
  {
   "cell_type": "code",
   "execution_count": 83,
   "metadata": {},
   "outputs": [
    {
     "data": {
      "image/png": "[encoded data removed]",
      "text/plain": [
       "<Figure size 432x288 with 1 Axes>"
      ]
     },
     "metadata": {
      "needs_background": "light"
     },
     "output_type": "display_data"
    },
    {
     "name": "stdout",
     "output_type": "stream",
     "text": [
      "307.9249034926328\n"
     ]
    }
   ],
   "source": [
    "theta_real_reg_case2=paraestimateReg(Phi,sampyp4,lmb=1)\n",
    "x=np.linspace(-2,2,100)\n",
    "y=np.linspace(-20,40,100)\n",
    "f=theta_real_reg_case2[0][0]+theta_real_reg_case2[1][0]*x+theta_real_reg_case2[2][0]*np.power(x,2)+theta_real_reg_case2[3][0]*np.power(x,3)+theta_real_reg_case2[4][0]*np.power(x,4)+theta_real_reg_case2[5][0]*np.power(x,5)\n",
    "fig,ax=plt.subplots()\n",
    "ax.scatter(data1['polyx'],data1['polyy'],c='r',marker='o',label='samples')\n",
    "ax.legend()\n",
    "ax.set(xlabel='x')\n",
    "ax.plot(x,f,c='green')\n",
    "plt.show()\n",
    "f_lr_p4=theta_real_reg_case2[0][0]+theta_real_reg_case2[1][0]*polyx+theta_real_reg_case2[2][0]*np.power(polyx,2)+theta_real_reg_case2[3][0]*np.power(polyx,3)+theta_real_reg_case2[4][0]*np.power(polyx,4)+theta_real_reg_case2[5][0]*np.power(polyx,5)\n",
    "mse_lr_p4=meansquareerror(polyy,f_lr_p4.T)\n",
    "print mse_lr_p4"
   ]
  },
  {
   "cell_type": "code",
   "execution_count": 84,
   "metadata": {},
   "outputs": [
    {
     "name": "stdout",
     "output_type": "stream",
     "text": [
      "[[   50.            -7.13846373    59.56833439   -15.02897815\n",
      "    120.96530399   -34.17811531   -50.             7.13846373\n",
      "    -59.56833439    15.02897815  -120.96530399    34.17811531]\n",
      " [   -7.13846373    59.56833439   -15.02897815   120.96530399\n",
      "    -34.17811531   297.39820191     7.13846373   -59.56833439\n",
      "     15.02897815  -120.96530399    34.17811531  -297.39820191]\n",
      " [   59.56833439   -15.02897815   120.96530399   -34.17811531\n",
      "    297.39820191   -97.89296838   -59.56833439    15.02897815\n",
      "   -120.96530399    34.17811531  -297.39820191    97.89296838]\n",
      " [  -15.02897815   120.96530399   -34.17811531   297.39820191\n",
      "    -97.89296838   821.47877846    15.02897815  -120.96530399\n",
      "     34.17811531  -297.39820191    97.89296838  -821.47877846]\n",
      " [  120.96530399   -34.17811531   297.39820191   -97.89296838\n",
      "    821.47877846  -339.00343069  -120.96530399    34.17811531\n",
      "   -297.39820191    97.89296838  -821.47877846   339.00343069]\n",
      " [  -34.17811531   297.39820191   -97.89296838   821.47877846\n",
      "   -339.00343069  2464.58543787    34.17811531  -297.39820191\n",
      "     97.89296838  -821.47877846   339.00343069 -2464.58543787]\n",
      " [  -50.             7.13846373   -59.56833439    15.02897815\n",
      "   -120.96530399    34.17811531    50.            -7.13846373\n",
      "     59.56833439   -15.02897815   120.96530399   -34.17811531]\n",
      " [    7.13846373   -59.56833439    15.02897815  -120.96530399\n",
      "     34.17811531  -297.39820191    -7.13846373    59.56833439\n",
      "    -15.02897815   120.96530399   -34.17811531   297.39820191]\n",
      " [  -59.56833439    15.02897815  -120.96530399    34.17811531\n",
      "   -297.39820191    97.89296838    59.56833439   -15.02897815\n",
      "    120.96530399   -34.17811531   297.39820191   -97.89296838]\n",
      " [   15.02897815  -120.96530399    34.17811531  -297.39820191\n",
      "     97.89296838  -821.47877846   -15.02897815   120.96530399\n",
      "    -34.17811531   297.39820191   -97.89296838   821.47877846]\n",
      " [ -120.96530399    34.17811531  -297.39820191    97.89296838\n",
      "   -821.47877846   339.00343069   120.96530399   -34.17811531\n",
      "    297.39820191   -97.89296838   821.47877846  -339.00343069]\n",
      " [   34.17811531  -297.39820191    97.89296838  -821.47877846\n",
      "    339.00343069 -2464.58543787   -34.17811531   297.39820191\n",
      "    -97.89296838   821.47877846  -339.00343069  2464.58543787]]\n",
      "[[  638.53139721]\n",
      " [ -244.39280176]\n",
      " [  272.14006656]\n",
      " [ -691.05091751]\n",
      " [  733.5707362 ]\n",
      " [-2083.69697842]\n",
      " [ -638.53139721]\n",
      " [  244.39280176]\n",
      " [ -272.14006656]\n",
      " [  691.05091751]\n",
      " [ -733.5707362 ]\n",
      " [ 2083.69697842]]\n",
      "[[ -637.53139721]\n",
      " [  245.39280176]\n",
      " [ -271.14006656]\n",
      " [  692.05091751]\n",
      " [ -732.5707362 ]\n",
      " [ 2084.69697842]\n",
      " [  639.53139721]\n",
      " [ -243.39280176]\n",
      " [  273.14006656]\n",
      " [ -690.05091751]\n",
      " [  734.5707362 ]\n",
      " [-2082.69697842]]\n"
     ]
    },
    {
     "data": {
      "image/png": "[encoded data removed]",
      "text/plain": [
       "<Figure size 432x288 with 1 Axes>"
      ]
     },
     "metadata": {
      "needs_background": "light"
     },
     "output_type": "display_data"
    },
    {
     "name": "stdout",
     "output_type": "stream",
     "text": [
      "465.0057798662911\n"
     ]
    }
   ],
   "source": [
    "theta_lasso_case2=paraestimateLasso(Phi,sampyp4,lmb=1)\n",
    "\n",
    "x=np.linspace(-2,2,100)\n",
    "y=np.linspace(-20,40,100)\n",
    "f=theta_lasso_case2[0][0]+theta_lasso_case2[1][0]*x+theta_lasso_case2[2][0]*np.power(x,2)+theta_lasso_case2[3][0]*np.power(x,3)+theta_lasso_case2[4][0]*np.power(x,4)+theta_lasso_case2[5][0]*np.power(x,5)\n",
    "fig,ax=plt.subplots()\n",
    "ax.scatter(data1['polyx'],data1['polyy'],c='r',marker='o',label='samples')\n",
    "ax.legend()\n",
    "ax.set(xlabel='x')\n",
    "ax.plot(x,f,c='green')\n",
    "plt.show()\n",
    "f_lasso_p4=theta_lasso_case2[0][0]+theta_lasso_case2[1][0]*polyx+theta_lasso_case2[2][0]*np.power(polyx,2)+theta_lasso_case2[3][0]*np.power(polyx,3)+theta_lasso_case2[4][0]*np.power(polyx,4)+theta_lasso_case2[5][0]*np.power(polyx,5)\n",
    "mse_lasso_p4=meansquareerror(polyy,f_lasso_p4.T)\n",
    "print mse_lasso_p4"
   ]
  },
  {
   "cell_type": "code",
   "execution_count": 85,
   "metadata": {},
   "outputs": [
    {
     "data": {
      "image/png": "[encoded data removed]",
      "text/plain": [
       "<Figure size 432x288 with 1 Axes>"
      ]
     },
     "metadata": {
      "needs_background": "light"
     },
     "output_type": "display_data"
    },
    {
     "name": "stdout",
     "output_type": "stream",
     "text": [
      "0.7616618477672707\n"
     ]
    }
   ],
   "source": [
    "theta_rr_case2=paraestimateRobustreg(Phi,sampyp4,lmb=1)\n",
    "\n",
    "x=np.linspace(-2,2,100)\n",
    "y=np.linspace(-20,40,100)\n",
    "f=theta_rr_case2[0][0]+theta_rr_case2[1][0]*x+theta_rr_case2[2][0]*np.power(x,2)+theta_rr_case2[3][0]*np.power(x,3)+theta_rr_case2[4][0]*np.power(x,4)+theta_rr_case2[5][0]*np.power(x,5)\n",
    "fig,ax=plt.subplots()\n",
    "ax.scatter(data1['polyx'],data1['polyy'],c='r',marker='o',label='samples')\n",
    "ax.legend()\n",
    "ax.set(xlabel='x')\n",
    "ax.plot(x,f,c='green')\n",
    "plt.show()\n",
    "f_rr_p4=theta_rr_case2[0][0]+theta_rr_case2[1][0]*polyx+theta_rr_case2[2][0]*np.power(polyx,2)+theta_rr_case2[3][0]*np.power(polyx,3)+theta_rr_case2[4][0]*np.power(polyx,4)+theta_rr_case2[5][0]*np.power(polyx,5)\n",
    "mse_rr_p4=meansquareerror(polyy,f_rr_p4.T)\n",
    "print mse_rr_p4"
   ]
  },
  {
   "cell_type": "code",
   "execution_count": 86,
   "metadata": {},
   "outputs": [
    {
     "name": "stdout",
     "output_type": "stream",
     "text": [
      "(100, 1)\n",
      "133.0217481849858\n"
     ]
    },
    {
     "data": {
      "image/png": "[encoded data removed]",
      "text/plain": [
       "<Figure size 432x288 with 1 Axes>"
      ]
     },
     "metadata": {
      "needs_background": "light"
     },
     "output_type": "display_data"
    }
   ],
   "source": [
    "#BR\n",
    "\n",
    "SIGMA=esitmatesigma(Phi,alpha=1,sigma_square=5)\n",
    "mju_p4=estimatemju(sampyp4,Phi,SIGMA,sigma_square=5)\n",
    "sigmapredict=np.zeros((100,1))\n",
    "for i in range(100):\n",
    "    sigmapredict[i][0]=gaussianpredictedsigma(SIGMA,polyx[0][i])\n",
    "print sigmapredict.shape\n",
    "\n",
    "\n",
    "f_BR_case2=mju_p4[0][0]+mju_p4[1][0]*polyx+mju_p4[2][0]*np.power(polyx,2)+mju_p4[3][0]*np.power(polyx,3)+mju_p4[4][0]*np.power(polyx,4)+mju_p4[5][0]*np.power(polyx,5)\n",
    "mse_BR_case2=meansquareerror(polyy,f_BR_case2.T)\n",
    "print mse_BR_case2\n",
    "\n",
    "f_plus=np.zeros((1,len(polyy)))\n",
    "f_sub=np.zeros((1,len(polyy)))\n",
    "for i in range(len(polyy)):\n",
    "    f_plus[0][i]=f_BR_case2[0][i]+sigmapredict.T[0][i]\n",
    "    f_sub[0][i]=f_BR_case2[0][i]-sigmapredict.T[0][i]\n",
    "\n",
    "f_plus=f_plus.squeeze()\n",
    "f_sub=f_sub.squeeze()\n",
    "\n",
    "\n",
    " \n",
    "\n",
    "x=np.linspace(-2,2,100)\n",
    "y=np.linspace(-20,40,100)\n",
    "f=mju_p4[0][0]+mju_p4[1][0]*x+mju_p4[2][0]*np.power(x,2)+mju_p4[3][0]*np.power(x,3)+mju_p4[4][0]*np.power(x,4)+mju_p4[5][0]*np.power(x,5)\n",
    "fig,ax=plt.subplots()\n",
    "ax.scatter(data1['polyx'],data1['polyy'],c='r',marker='o',label='samples')\n",
    "ax.legend()\n",
    "ax.set(xlabel='x')\n",
    "ax.plot(x,f,c='green')\n",
    "ax.plot(x,f_plus,c='blue')\n",
    "ax.plot(x,f_sub,c='brown')\n",
    "plt.show()"
   ]
  },
  {
   "cell_type": "code",
   "execution_count": 90,
   "metadata": {},
   "outputs": [
    {
     "name": "stdout",
     "output_type": "stream",
     "text": [
      "-2.405230446884796\n",
      "(11, 50)\n",
      "7.983106593183047\n"
     ]
    },
    {
     "data": {
      "image/png": "[encoded data removed]",
      "text/plain": [
       "<Figure size 432x288 with 1 Axes>"
      ]
     },
     "metadata": {
      "needs_background": "light"
     },
     "output_type": "display_data"
    }
   ],
   "source": [
    "##Part5\n",
    "#for 10th polynominal\n",
    "data1=sio.loadmat('PA_1_matlab/poly_data.mat')\n",
    "sampx=data1['sampx']\n",
    "sampy=data1['sampy']\n",
    "polyy=data1['polyy']\n",
    "polyx=data1['polyx']\n",
    "thtrue=data1['thtrue']\n",
    "print sampy[25][0]\n",
    "def tenpolyfunc(sampx):\n",
    "    m=len(sampx[0])\n",
    "    X=np.zeros((11,m))\n",
    "    for j in range(m):\n",
    "        for i in range(11):\n",
    "            X[i][j]=np.power(sampx[0][j],i)\n",
    "    print X.shape\n",
    "    return X\n",
    "tenPhi=tenpolyfunc(sampx)\n",
    "theta_real_case2=paraestimate(tenPhi,sampy)\n",
    "f_ls_5=theta_real_case2[0][0]+theta_real_case2[1][0]*polyx+theta_real_case2[2][0]*np.power(polyx,2)+theta_real_case2[3][0]*np.power(polyx,3)+theta_real_case2[4][0]*np.power(polyx,4)+theta_real_case2[5][0]*np.power(polyx,5)+theta_real_case2[6][0]*np.power(polyx,6)+theta_real_case2[7][0]*np.power(polyx,7)+theta_real_case2[8][0]*np.power(polyx,8)+theta_real_case2[9][0]*np.power(polyx,9)+theta_real_case2[10][0]*np.power(polyx,10)\n",
    "mse_ls_5=meansquareerror(polyy,f_ls_5.T)\n",
    "print mse_ls_5\n",
    "x=np.linspace(-2,2,100)\n",
    "y=np.linspace(-20,40,100)\n",
    "f=theta_real_case2[0][0]+theta_real_case2[1][0]*x+theta_real_case2[2][0]*np.power(x,2)+theta_real_case2[3][0]*np.power(x,3)+theta_real_case2[4][0]*np.power(x,4)+theta_real_case2[5][0]*np.power(x,5)+theta_real_case2[6][0]*np.power(x,6)+theta_real_case2[7][0]*np.power(x,7)+theta_real_case2[8][0]*np.power(x,8)+theta_real_case2[9][0]*np.power(x,9)+theta_real_case2[10][0]*np.power(x,10)\n",
    "fig,ax=plt.subplots()\n",
    "ax.scatter(data1['sampx'],data1['sampy'],c='r',marker='o',label='samples')\n",
    "ax.legend()\n",
    "ax.set(xlabel='x')\n",
    "ax.plot(x,f,c='green')\n",
    "plt.show()"
   ]
  },
  {
   "cell_type": "code",
   "execution_count": 91,
   "metadata": {},
   "outputs": [
    {
     "name": "stdout",
     "output_type": "stream",
     "text": [
      "6.548096165261825\n"
     ]
    },
    {
     "data": {
      "image/png": "[encoded data removed]",
      "text/plain": [
       "<Figure size 432x288 with 1 Axes>"
      ]
     },
     "metadata": {
      "needs_background": "light"
     },
     "output_type": "display_data"
    }
   ],
   "source": [
    "##LR\n",
    "def paraestimateReg(Phi,sampy,lmb=1):\n",
    "    A=np.linalg.inv(np.dot(Phi,Phi.T)+lmb*np.eye(11))\n",
    "    theta_ls=np.dot(np.dot(A,Phi),sampy)\n",
    "    return theta_ls\n",
    "theta_real_case2=paraestimateReg(tenPhi,sampy)\n",
    "f_ls_5=theta_real_case2[0][0]+theta_real_case2[1][0]*polyx+theta_real_case2[2][0]*np.power(polyx,2)+theta_real_case2[3][0]*np.power(polyx,3)+theta_real_case2[4][0]*np.power(polyx,4)+theta_real_case2[5][0]*np.power(polyx,5)+theta_real_case2[6][0]*np.power(polyx,6)+theta_real_case2[7][0]*np.power(polyx,7)+theta_real_case2[8][0]*np.power(polyx,8)+theta_real_case2[9][0]*np.power(polyx,9)+theta_real_case2[10][0]*np.power(polyx,10)\n",
    "mse_ls_5=meansquareerror(polyy,f_ls_5.T)\n",
    "print mse_ls_5\n",
    "x=np.linspace(-2,2,100)\n",
    "y=np.linspace(-20,40,100)\n",
    "f=theta_real_case2[0][0]+theta_real_case2[1][0]*x+theta_real_case2[2][0]*np.power(x,2)+theta_real_case2[3][0]*np.power(x,3)+theta_real_case2[4][0]*np.power(x,4)+theta_real_case2[5][0]*np.power(x,5)+theta_real_case2[6][0]*np.power(x,6)+theta_real_case2[7][0]*np.power(x,7)+theta_real_case2[8][0]*np.power(x,8)+theta_real_case2[9][0]*np.power(x,9)+theta_real_case2[10][0]*np.power(x,10)\n",
    "fig,ax=plt.subplots()\n",
    "ax.scatter(data1['sampx'],data1['sampy'],c='r',marker='o',label='samples')\n",
    "ax.legend()\n",
    "ax.set(xlabel='x')\n",
    "ax.plot(x,f,c='green')\n",
    "plt.show()"
   ]
  },
  {
   "cell_type": "code",
   "execution_count": 92,
   "metadata": {},
   "outputs": [
    {
     "name": "stdout",
     "output_type": "stream",
     "text": [
      "[[ 5.00000000e+01 -7.13846373e+00  5.95683344e+01 -1.50289781e+01\n",
      "   1.20965304e+02 -3.41781153e+01  2.97398202e+02 -9.78929684e+01\n",
      "   8.21478778e+02 -3.39003431e+02  2.46458544e+03 -5.00000000e+01\n",
      "   7.13846373e+00 -5.95683344e+01  1.50289781e+01 -1.20965304e+02\n",
      "   3.41781153e+01 -2.97398202e+02  9.78929684e+01 -8.21478778e+02\n",
      "   3.39003431e+02 -2.46458544e+03]\n",
      " [-7.13846373e+00  5.95683344e+01 -1.50289781e+01  1.20965304e+02\n",
      "  -3.41781153e+01  2.97398202e+02 -9.78929684e+01  8.21478778e+02\n",
      "  -3.39003431e+02  2.46458544e+03 -1.30357158e+03  7.13846373e+00\n",
      "  -5.95683344e+01  1.50289781e+01 -1.20965304e+02  3.41781153e+01\n",
      "  -2.97398202e+02  9.78929684e+01 -8.21478778e+02  3.39003431e+02\n",
      "  -2.46458544e+03  1.30357158e+03]\n",
      " [ 5.95683344e+01 -1.50289781e+01  1.20965304e+02 -3.41781153e+01\n",
      "   2.97398202e+02 -9.78929684e+01  8.21478778e+02 -3.39003431e+02\n",
      "   2.46458544e+03 -1.30357158e+03  7.86304987e+03 -5.95683344e+01\n",
      "   1.50289781e+01 -1.20965304e+02  3.41781153e+01 -2.97398202e+02\n",
      "   9.78929684e+01 -8.21478778e+02  3.39003431e+02 -2.46458544e+03\n",
      "   1.30357158e+03 -7.86304987e+03]\n",
      " [-1.50289781e+01  1.20965304e+02 -3.41781153e+01  2.97398202e+02\n",
      "  -9.78929684e+01  8.21478778e+02 -3.39003431e+02  2.46458544e+03\n",
      "  -1.30357158e+03  7.86304987e+03 -5.24146635e+03  1.50289781e+01\n",
      "  -1.20965304e+02  3.41781153e+01 -2.97398202e+02  9.78929684e+01\n",
      "  -8.21478778e+02  3.39003431e+02 -2.46458544e+03  1.30357158e+03\n",
      "  -7.86304987e+03  5.24146635e+03]\n",
      " [ 1.20965304e+02 -3.41781153e+01  2.97398202e+02 -9.78929684e+01\n",
      "   8.21478778e+02 -3.39003431e+02  2.46458544e+03 -1.30357158e+03\n",
      "   7.86304987e+03 -5.24146635e+03  2.62867690e+04 -1.20965304e+02\n",
      "   3.41781153e+01 -2.97398202e+02  9.78929684e+01 -8.21478778e+02\n",
      "   3.39003431e+02 -2.46458544e+03  1.30357158e+03 -7.86304987e+03\n",
      "   5.24146635e+03 -2.62867690e+04]\n",
      " [-3.41781153e+01  2.97398202e+02 -9.78929684e+01  8.21478778e+02\n",
      "  -3.39003431e+02  2.46458544e+03 -1.30357158e+03  7.86304987e+03\n",
      "  -5.24146635e+03  2.62867690e+04 -2.13957871e+04  3.41781153e+01\n",
      "  -2.97398202e+02  9.78929684e+01 -8.21478778e+02  3.39003431e+02\n",
      "  -2.46458544e+03  1.30357158e+03 -7.86304987e+03  5.24146635e+03\n",
      "  -2.62867690e+04  2.13957871e+04]\n",
      " [ 2.97398202e+02 -9.78929684e+01  8.21478778e+02 -3.39003431e+02\n",
      "   2.46458544e+03 -1.30357158e+03  7.86304987e+03 -5.24146635e+03\n",
      "   2.62867690e+04 -2.13957871e+04  9.10952853e+04 -2.97398202e+02\n",
      "   9.78929684e+01 -8.21478778e+02  3.39003431e+02 -2.46458544e+03\n",
      "   1.30357158e+03 -7.86304987e+03  5.24146635e+03 -2.62867690e+04\n",
      "   2.13957871e+04 -9.10952853e+04]\n",
      " [-9.78929684e+01  8.21478778e+02 -3.39003431e+02  2.46458544e+03\n",
      "  -1.30357158e+03  7.86304987e+03 -5.24146635e+03  2.62867690e+04\n",
      "  -2.13957871e+04  9.10952853e+04 -8.75635602e+04  9.78929684e+01\n",
      "  -8.21478778e+02  3.39003431e+02 -2.46458544e+03  1.30357158e+03\n",
      "  -7.86304987e+03  5.24146635e+03 -2.62867690e+04  2.13957871e+04\n",
      "  -9.10952853e+04  8.75635602e+04]\n",
      " [ 8.21478778e+02 -3.39003431e+02  2.46458544e+03 -1.30357158e+03\n",
      "   7.86304987e+03 -5.24146635e+03  2.62867690e+04 -2.13957871e+04\n",
      "   9.10952853e+04 -8.75635602e+04  3.24583998e+05 -8.21478778e+02\n",
      "   3.39003431e+02 -2.46458544e+03  1.30357158e+03 -7.86304987e+03\n",
      "   5.24146635e+03 -2.62867690e+04  2.13957871e+04 -9.10952853e+04\n",
      "   8.75635602e+04 -3.24583998e+05]\n",
      " [-3.39003431e+02  2.46458544e+03 -1.30357158e+03  7.86304987e+03\n",
      "  -5.24146635e+03  2.62867690e+04 -2.13957871e+04  9.10952853e+04\n",
      "  -8.75635602e+04  3.24583998e+05 -3.57522994e+05  3.39003431e+02\n",
      "  -2.46458544e+03  1.30357158e+03 -7.86304987e+03  5.24146635e+03\n",
      "  -2.62867690e+04  2.13957871e+04 -9.10952853e+04  8.75635602e+04\n",
      "  -3.24583998e+05  3.57522994e+05]\n",
      " [ 2.46458544e+03 -1.30357158e+03  7.86304987e+03 -5.24146635e+03\n",
      "   2.62867690e+04 -2.13957871e+04  9.10952853e+04 -8.75635602e+04\n",
      "   3.24583998e+05 -3.57522994e+05  1.18170532e+06 -2.46458544e+03\n",
      "   1.30357158e+03 -7.86304987e+03  5.24146635e+03 -2.62867690e+04\n",
      "   2.13957871e+04 -9.10952853e+04  8.75635602e+04 -3.24583998e+05\n",
      "   3.57522994e+05 -1.18170532e+06]\n",
      " [-5.00000000e+01  7.13846373e+00 -5.95683344e+01  1.50289781e+01\n",
      "  -1.20965304e+02  3.41781153e+01 -2.97398202e+02  9.78929684e+01\n",
      "  -8.21478778e+02  3.39003431e+02 -2.46458544e+03  5.00000000e+01\n",
      "  -7.13846373e+00  5.95683344e+01 -1.50289781e+01  1.20965304e+02\n",
      "  -3.41781153e+01  2.97398202e+02 -9.78929684e+01  8.21478778e+02\n",
      "  -3.39003431e+02  2.46458544e+03]\n",
      " [ 7.13846373e+00 -5.95683344e+01  1.50289781e+01 -1.20965304e+02\n",
      "   3.41781153e+01 -2.97398202e+02  9.78929684e+01 -8.21478778e+02\n",
      "   3.39003431e+02 -2.46458544e+03  1.30357158e+03 -7.13846373e+00\n",
      "   5.95683344e+01 -1.50289781e+01  1.20965304e+02 -3.41781153e+01\n",
      "   2.97398202e+02 -9.78929684e+01  8.21478778e+02 -3.39003431e+02\n",
      "   2.46458544e+03 -1.30357158e+03]\n",
      " [-5.95683344e+01  1.50289781e+01 -1.20965304e+02  3.41781153e+01\n",
      "  -2.97398202e+02  9.78929684e+01 -8.21478778e+02  3.39003431e+02\n",
      "  -2.46458544e+03  1.30357158e+03 -7.86304987e+03  5.95683344e+01\n",
      "  -1.50289781e+01  1.20965304e+02 -3.41781153e+01  2.97398202e+02\n",
      "  -9.78929684e+01  8.21478778e+02 -3.39003431e+02  2.46458544e+03\n",
      "  -1.30357158e+03  7.86304987e+03]\n",
      " [ 1.50289781e+01 -1.20965304e+02  3.41781153e+01 -2.97398202e+02\n",
      "   9.78929684e+01 -8.21478778e+02  3.39003431e+02 -2.46458544e+03\n",
      "   1.30357158e+03 -7.86304987e+03  5.24146635e+03 -1.50289781e+01\n",
      "   1.20965304e+02 -3.41781153e+01  2.97398202e+02 -9.78929684e+01\n",
      "   8.21478778e+02 -3.39003431e+02  2.46458544e+03 -1.30357158e+03\n",
      "   7.86304987e+03 -5.24146635e+03]\n",
      " [-1.20965304e+02  3.41781153e+01 -2.97398202e+02  9.78929684e+01\n",
      "  -8.21478778e+02  3.39003431e+02 -2.46458544e+03  1.30357158e+03\n",
      "  -7.86304987e+03  5.24146635e+03 -2.62867690e+04  1.20965304e+02\n",
      "  -3.41781153e+01  2.97398202e+02 -9.78929684e+01  8.21478778e+02\n",
      "  -3.39003431e+02  2.46458544e+03 -1.30357158e+03  7.86304987e+03\n",
      "  -5.24146635e+03  2.62867690e+04]\n",
      " [ 3.41781153e+01 -2.97398202e+02  9.78929684e+01 -8.21478778e+02\n",
      "   3.39003431e+02 -2.46458544e+03  1.30357158e+03 -7.86304987e+03\n",
      "   5.24146635e+03 -2.62867690e+04  2.13957871e+04 -3.41781153e+01\n",
      "   2.97398202e+02 -9.78929684e+01  8.21478778e+02 -3.39003431e+02\n",
      "   2.46458544e+03 -1.30357158e+03  7.86304987e+03 -5.24146635e+03\n",
      "   2.62867690e+04 -2.13957871e+04]\n",
      " [-2.97398202e+02  9.78929684e+01 -8.21478778e+02  3.39003431e+02\n",
      "  -2.46458544e+03  1.30357158e+03 -7.86304987e+03  5.24146635e+03\n",
      "  -2.62867690e+04  2.13957871e+04 -9.10952853e+04  2.97398202e+02\n",
      "  -9.78929684e+01  8.21478778e+02 -3.39003431e+02  2.46458544e+03\n",
      "  -1.30357158e+03  7.86304987e+03 -5.24146635e+03  2.62867690e+04\n",
      "  -2.13957871e+04  9.10952853e+04]\n",
      " [ 9.78929684e+01 -8.21478778e+02  3.39003431e+02 -2.46458544e+03\n",
      "   1.30357158e+03 -7.86304987e+03  5.24146635e+03 -2.62867690e+04\n",
      "   2.13957871e+04 -9.10952853e+04  8.75635602e+04 -9.78929684e+01\n",
      "   8.21478778e+02 -3.39003431e+02  2.46458544e+03 -1.30357158e+03\n",
      "   7.86304987e+03 -5.24146635e+03  2.62867690e+04 -2.13957871e+04\n",
      "   9.10952853e+04 -8.75635602e+04]\n",
      " [-8.21478778e+02  3.39003431e+02 -2.46458544e+03  1.30357158e+03\n",
      "  -7.86304987e+03  5.24146635e+03 -2.62867690e+04  2.13957871e+04\n",
      "  -9.10952853e+04  8.75635602e+04 -3.24583998e+05  8.21478778e+02\n",
      "  -3.39003431e+02  2.46458544e+03 -1.30357158e+03  7.86304987e+03\n",
      "  -5.24146635e+03  2.62867690e+04 -2.13957871e+04  9.10952853e+04\n",
      "  -8.75635602e+04  3.24583998e+05]\n",
      " [ 3.39003431e+02 -2.46458544e+03  1.30357158e+03 -7.86304987e+03\n",
      "   5.24146635e+03 -2.62867690e+04  2.13957871e+04 -9.10952853e+04\n",
      "   8.75635602e+04 -3.24583998e+05  3.57522994e+05 -3.39003431e+02\n",
      "   2.46458544e+03 -1.30357158e+03  7.86304987e+03 -5.24146635e+03\n",
      "   2.62867690e+04 -2.13957871e+04  9.10952853e+04 -8.75635602e+04\n",
      "   3.24583998e+05 -3.57522994e+05]\n",
      " [-2.46458544e+03  1.30357158e+03 -7.86304987e+03  5.24146635e+03\n",
      "  -2.62867690e+04  2.13957871e+04 -9.10952853e+04  8.75635602e+04\n",
      "  -3.24583998e+05  3.57522994e+05 -1.18170532e+06  2.46458544e+03\n",
      "  -1.30357158e+03  7.86304987e+03 -5.24146635e+03  2.62867690e+04\n",
      "  -2.13957871e+04  9.10952853e+04 -8.75635602e+04  3.24583998e+05\n",
      "  -3.57522994e+05  1.18170532e+06]]\n",
      "[[   136.12616677]\n",
      " [  -246.55824773]\n",
      " [   272.13073315]\n",
      " [  -691.05095774]\n",
      " [   733.57073603]\n",
      " [ -2083.69697842]\n",
      " [  2295.51999086]\n",
      " [ -6708.64255258]\n",
      " [  7864.91160935]\n",
      " [-22684.95138988]\n",
      " [ 28521.10871194]\n",
      " [  -136.12616677]\n",
      " [   246.55824773]\n",
      " [  -272.13073315]\n",
      " [   691.05095774]\n",
      " [  -733.57073603]\n",
      " [  2083.69697842]\n",
      " [ -2295.51999086]\n",
      " [  6708.64255258]\n",
      " [ -7864.91160935]\n",
      " [ 22684.95138988]\n",
      " [-28521.10871194]]\n",
      "[[  -135.12616677]\n",
      " [   247.55824773]\n",
      " [  -271.13073315]\n",
      " [   692.05095774]\n",
      " [  -732.57073603]\n",
      " [  2084.69697842]\n",
      " [ -2294.51999086]\n",
      " [  6709.64255258]\n",
      " [ -7863.91160935]\n",
      " [ 22685.95138988]\n",
      " [-28520.10871194]\n",
      " [   137.12616677]\n",
      " [  -245.55824773]\n",
      " [   273.13073315]\n",
      " [  -690.05095774]\n",
      " [   734.57073603]\n",
      " [ -2082.69697842]\n",
      " [  2296.51999086]\n",
      " [ -6707.64255258]\n",
      " [  7865.91160935]\n",
      " [-22683.95138988]\n",
      " [ 28522.10871194]]\n",
      "6.13423189244335\n"
     ]
    },
    {
     "data": {
      "image/png": "[encoded data removed]",
      "text/plain": [
       "<Figure size 432x288 with 1 Axes>"
      ]
     },
     "metadata": {
      "needs_background": "light"
     },
     "output_type": "display_data"
    }
   ],
   "source": [
    "##Lasso\n",
    "\n",
    "def paraestimateLassop5(Phi,sampy,lmb=1):\n",
    "    H=np.hstack((np.vstack((np.dot(Phi,Phi.T),np.dot(-Phi,Phi.T))),np.vstack((np.dot(-Phi,Phi.T),np.dot(Phi,Phi.T)))))\n",
    "    fa=np.vstack((np.dot(Phi,sampy),-np.dot(Phi,sampy)))\n",
    "    f=lmb*np.ones((22,1))-fa\n",
    "    x_ans=np.zeros((22,1))\n",
    "    fun=lambda x: float(0.5*np.dot((np.dot(x.T,H)),x)+np.dot(f.T,x))\n",
    "    cons=({'type': 'ineq', 'fun': lambda x: x})\n",
    "    x_ans_true=opt.minimize(fun,x_ans,constraints=cons,method=\"SLSQP\")# these 3 lines use Opt way to get the min of function\n",
    "    \n",
    "    print H\n",
    "    print fa\n",
    "    print f\n",
    "    theta_plus=x_ans_true.x[0:11]\n",
    "    theta_sub=x_ans_true.x[11:22]\n",
    "    theta=theta_plus-theta_sub\n",
    "    theta=np.expand_dims(theta, axis=1)\n",
    "    return theta\n",
    "\n",
    "theta_real_case2=paraestimateLassop5(tenPhi,sampy,lmb=1)\n",
    "f_ls_5=theta_real_case2[0][0]+theta_real_case2[1][0]*polyx+theta_real_case2[2][0]*np.power(polyx,2)+theta_real_case2[3][0]*np.power(polyx,3)+theta_real_case2[4][0]*np.power(polyx,4)+theta_real_case2[5][0]*np.power(polyx,5)+theta_real_case2[6][0]*np.power(polyx,6)+theta_real_case2[7][0]*np.power(polyx,7)+theta_real_case2[8][0]*np.power(polyx,8)+theta_real_case2[9][0]*np.power(polyx,9)+theta_real_case2[10][0]*np.power(polyx,10)\n",
    "mse_ls_5=meansquareerror(polyy,f_ls_5.T)\n",
    "print mse_ls_5\n",
    "x=np.linspace(-2,2,100)\n",
    "y=np.linspace(-20,40,100)\n",
    "f=theta_real_case2[0][0]+theta_real_case2[1][0]*x+theta_real_case2[2][0]*np.power(x,2)+theta_real_case2[3][0]*np.power(x,3)+theta_real_case2[4][0]*np.power(x,4)+theta_real_case2[5][0]*np.power(x,5)+theta_real_case2[6][0]*np.power(x,6)+theta_real_case2[7][0]*np.power(x,7)+theta_real_case2[8][0]*np.power(x,8)+theta_real_case2[9][0]*np.power(x,9)+theta_real_case2[10][0]*np.power(x,10)\n",
    "fig,ax=plt.subplots()\n",
    "ax.scatter(data1['polyx'],data1['polyy'],c='r',marker='o',label='samples')\n",
    "ax.legend()\n",
    "ax.set(xlabel='x')\n",
    "ax.plot(x,f,c='green')\n",
    "plt.show()"
   ]
  },
  {
   "cell_type": "code",
   "execution_count": 221,
   "metadata": {},
   "outputs": [
    {
     "name": "stdout",
     "output_type": "stream",
     "text": [
      "5.432504804365465\n"
     ]
    },
    {
     "data": {
      "image/png": "[encoded data removed]",
      "text/plain": [
       "<Figure size 432x288 with 1 Axes>"
      ]
     },
     "metadata": {
      "needs_background": "light"
     },
     "output_type": "display_data"
    }
   ],
   "source": [
    "theta_real_case2=paraestimateRobustreg(tenPhi,sampy,lmb=1)\n",
    "f_ls_5=theta_real_case2[0][0]+theta_real_case2[1][0]*polyx+theta_real_case2[2][0]*np.power(polyx,2)+theta_real_case2[3][0]*np.power(polyx,3)+theta_real_case2[4][0]*np.power(polyx,4)+theta_real_case2[5][0]*np.power(polyx,5)+theta_real_case2[6][0]*np.power(polyx,6)+theta_real_case2[7][0]*np.power(polyx,7)+theta_real_case2[8][0]*np.power(polyx,8)+theta_real_case2[9][0]*np.power(polyx,9)+theta_real_case2[10][0]*np.power(polyx,10)\n",
    "mse_ls_5=meansquareerror(polyy,f_ls_5.T)\n",
    "print mse_ls_5\n",
    "x=np.linspace(-2,2,100)\n",
    "y=np.linspace(-20,40,100)\n",
    "f=theta_real_case2[0][0]+theta_real_case2[1][0]*x+theta_real_case2[2][0]*np.power(x,2)+theta_real_case2[3][0]*np.power(x,3)+theta_real_case2[4][0]*np.power(x,4)+theta_real_case2[5][0]*np.power(x,5)+theta_real_case2[6][0]*np.power(x,6)+theta_real_case2[7][0]*np.power(x,7)+theta_real_case2[8][0]*np.power(x,8)+theta_real_case2[9][0]*np.power(x,9)+theta_real_case2[10][0]*np.power(x,10)\n",
    "fig,ax=plt.subplots()\n",
    "ax.scatter(data1['polyx'],data1['polyy'],c='r',marker='o',label='samples')\n",
    "ax.legend()\n",
    "ax.set(xlabel='x')\n",
    "ax.plot(x,f,c='green')\n",
    "plt.show()"
   ]
  },
  {
   "cell_type": "code",
   "execution_count": 93,
   "metadata": {},
   "outputs": [
    {
     "name": "stdout",
     "output_type": "stream",
     "text": [
      "(11, 11)\n",
      "(11, 1)\n",
      "(100, 1)\n",
      "3.043253600622846\n"
     ]
    },
    {
     "data": {
      "image/png": "[encoded data removed]",
      "text/plain": [
       "<Figure size 432x288 with 1 Axes>"
      ]
     },
     "metadata": {
      "needs_background": "light"
     },
     "output_type": "display_data"
    }
   ],
   "source": [
    "def esitmatesigma(Phi,alpha=1,sigma_square=5):\n",
    "    temp=(1/float(sigma_square))*np.dot(Phi,Phi.T)\n",
    "    m=len(Phi)\n",
    "    SIGMA=np.linalg.inv(temp+(1/float(alpha))*np.eye(m))\n",
    "    return SIGMA\n",
    "\n",
    "def estimatemju(sampy,Phi,SIGMA,sigma_square=5):\n",
    "    mju=(1/float(sigma_square))*np.dot(np.dot(SIGMA,Phi),sampy)\n",
    "    return mju\n",
    "\n",
    "def gaussianpredictedsigma(SIGMA,polyx_l):\n",
    "    polyphi=np.zeros((1,11))\n",
    "    for i in range(11):\n",
    "        polyphi[0][i]=np.power(polyx_l,i)\n",
    "    res=np.dot(np.dot(polyphi,SIGMA),polyphi.T)\n",
    "    return res\n",
    "\n",
    "SIGMA=esitmatesigma(tenPhi,alpha=1,sigma_square=5)\n",
    "mju=estimatemju(sampy,tenPhi,SIGMA,sigma_square=5)\n",
    "print SIGMA.shape\n",
    "print mju.shape\n",
    "sigmapredict=np.zeros((100,1))\n",
    "for i in range(100):\n",
    "    sigmapredict[i][0]=gaussianpredictedsigma(SIGMA,polyx[0][i])\n",
    "print sigmapredict.shape\n",
    "f_BR_case1=mju[0][0]+mju[1][0]*polyx+mju[2][0]*np.power(polyx,2)+mju[3][0]*np.power(polyx,3)+mju[4][0]*np.power(polyx,4)+mju[5][0]*np.power(polyx,5)+mju[6][0]*np.power(polyx,6)+mju[7][0]*np.power(polyx,7)+mju[8][0]*np.power(polyx,8)+mju[9][0]*np.power(polyx,9)+mju[10][0]*np.power(polyx,10)\n",
    "mse_BR_case1=meansquareerror(polyy,f_BR_case1.T)\n",
    "print mse_BR_case1\n",
    "\n",
    "f_plus=np.zeros((1,len(polyy)))\n",
    "f_sub=np.zeros((1,len(polyy)))\n",
    "for i in range(len(polyy)):\n",
    "    f_plus[0][i]=f_BR_case1[0][i]+sigmapredict.T[0][i]\n",
    "    f_sub[0][i]=f_BR_case1[0][i]-sigmapredict.T[0][i]\n",
    "\n",
    "f_plus=f_plus.squeeze()\n",
    "f_sub=f_sub.squeeze()\n",
    "\n",
    "\n",
    " \n",
    "\n",
    "x=np.linspace(-2,2,100)\n",
    "y=np.linspace(-20,40,100)\n",
    "f=mju[0][0]+mju[1][0]*x+mju[2][0]*np.power(x,2)+mju[3][0]*np.power(x,3)+mju[4][0]*np.power(x,4)+mju[5][0]*np.power(x,5)+mju[6][0]*np.power(x,6)+mju[7][0]*np.power(x,7)+mju[8][0]*np.power(x,8)+mju[9][0]*np.power(x,9)+mju[10][0]*np.power(x,10)\n",
    "fig,ax=plt.subplots()\n",
    "ax.scatter(data1['polyx'],data1['polyy'],c='r',marker='o',label='samples')\n",
    "ax.legend()\n",
    "ax.set(xlabel='x')\n",
    "ax.plot(x,f,c='green')\n",
    "ax.plot(x,f_plus,c='blue')\n",
    "ax.plot(x,f_sub,c='brown')\n",
    "plt.show()"
   ]
  },
  {
   "cell_type": "code",
   "execution_count": 95,
   "metadata": {},
   "outputs": [
    {
     "name": "stdout",
     "output_type": "stream",
     "text": [
      "(9, 600)\n",
      "(600, 1)\n",
      "(9, 400)\n",
      "(400, 1)\n",
      "(1, 1)\n"
     ]
    }
   ],
   "source": []
  },
  {
   "cell_type": "code",
   "execution_count": 97,
   "metadata": {},
   "outputs": [
    {
     "name": "stdout",
     "output_type": "stream",
     "text": [
      "[[ 1.71840538  1.71435392  1.73471488 ... -1.1168872  -1.12653584\n",
      "  -1.11876743]\n",
      " [ 0.63550837  0.56798578  0.60446373 ... -1.11178376 -1.10236248\n",
      "  -1.10643402]\n",
      " [-0.53764695 -0.54446318 -0.90091259 ... -0.6308237  -0.62259792\n",
      "  -0.49482174]\n",
      " ...\n",
      " [ 0.84563072  0.94763762  1.22829541 ... -0.88884166 -0.94822055\n",
      "  -0.9716274 ]\n",
      " [ 1.08367608  1.01472573  1.09587867 ... -1.03400009 -1.01395503\n",
      "  -1.0210064 ]\n",
      " [-1.98763845 -2.04531886 -2.0284462  ...  1.22249187  1.33951875\n",
      "   1.25987542]]\n"
     ]
    }
   ],
   "source": [
    "\n",
    "\n"
   ]
  },
  {
   "cell_type": "code",
   "execution_count": null,
   "metadata": {},
   "outputs": [],
   "source": []
  }
 ],
 "metadata": {
  "kernelspec": {
   "display_name": "Python 2",
   "language": "python",
   "name": "python2"
  },
  "language_info": {
   "codemirror_mode": {
    "name": "ipython",
    "version": 2
   },
   "file_extension": ".py",
   "mimetype": "text/x-python",
   "name": "python",
   "nbconvert_exporter": "python",
   "pygments_lexer": "ipython2",
   "version": "2.7.15"
  }
 },
 "nbformat": 4,
 "nbformat_minor": 2
}
