{
 "cells": [
  {
   "cell_type": "code",
   "execution_count": 25,
   "metadata": {},
   "outputs": [],
   "source": [
    "import matplotlib.pyplot as plt\n",
    "import numpy as np\n",
    "import keras\n",
    "from keras.models import Sequential\n",
    "from keras.layers import Dense, Activation, Conv2D, Flatten, BatchNormalization, MaxPool2D,Dropout\n",
    "from data_utils import *\n",
    "from keras.datasets import cifar10\n",
    "\n",
    "plt.rcParams['figure.figsize'] = (10.0, 8.0) # set default size of plots\n",
    "plt.rcParams['image.interpolation'] = 'nearest'\n",
    "plt.rcParams['image.cmap'] = 'gray'\n",
    "\n",
    "import tensorflow as tf\n",
    "from keras.backend.tensorflow_backend import set_session\n",
    "config = tf.ConfigProto()\n",
    "config.gpu_options.per_process_gpu_memory_fraction = 0.3\n",
    "set_session(tf.Session(config=config))###the configuration of Keras"
   ]
  },
  {
   "cell_type": "code",
   "execution_count": 26,
   "metadata": {},
   "outputs": [],
   "source": [
    "def complex_cnn(classes, input_shape):\n",
    "    \"\"\"\n",
    "    * 7x7 layer Conv layer with 32 filters\n",
    "    * BN Layer\n",
    "    * ReLu Activation Layer\n",
    "    * 2x2 Max Polling Layer\n",
    "    * 7x7 layer Conv layer with 64 filters\n",
    "    * BN Layer\n",
    "    * ReLu Activation Layer\n",
    "    * 2x2 Max Polling Layer\n",
    "    * Dense Layer with 1024 output units.\n",
    "    * BN Layer\n",
    "    * ReLU\n",
    "    * Dense Layer with 10 outputs.\n",
    "    \"\"\"\n",
    "    complex_model = Sequential()\n",
    "    complex_model.add(Conv2D(filters=32,\n",
    "                             kernel_size=7,\n",
    "                             padding='same',\n",
    "                             input_shape=input_shape,\n",
    "                             ))\n",
    "    complex_model.add(Dropout(rate=0.2))\n",
    "    complex_model.add(BatchNormalization())\n",
    "    complex_model.add(Activation('relu'))\n",
    "    complex_model.add(MaxPool2D(padding='same'))\n",
    "    #cov1 and pooling1\n",
    "    complex_model.add(Conv2D(filters=64,\n",
    "                             kernel_size=7,\n",
    "                             padding='same',\n",
    "                             input_shape=input_shape,\n",
    "                             ))\n",
    "    complex_model.add(Dropout(rate=0.2))\n",
    "    complex_model.add(BatchNormalization())\n",
    "    complex_model.add(Activation('relu'))\n",
    "    complex_model.add(MaxPool2D(padding='same'))\n",
    "    \n",
    "    complex_model.add(Flatten())\n",
    "    complex_model.add(Dense(1024))\n",
    "    complex_model.add(BatchNormalization())\n",
    "    complex_model.add(Activation('relu'))\n",
    "    complex_model.add(Dense(classes))\n",
    "    complex_model.add(Activation('softmax'))\n",
    "    return complex_model"
   ]
  },
  {
   "cell_type": "code",
   "execution_count": 27,
   "metadata": {},
   "outputs": [
    {
     "name": "stdout",
     "output_type": "stream",
     "text": [
      "('CIFAR10 Training data shape:', (50000, 32, 32, 3))\n",
      "('CIFAR10 Training label shape', (50000, 1))\n",
      "('CIFAR10 Test data shape', (10000, 32, 32, 3))\n",
      "('CIFAR10 Test label shape', (10000, 1))\n"
     ]
    }
   ],
   "source": [
    "class CIFAR10Data(object):\n",
    "    def __init__(self):\n",
    "        (self.x_train, self.y_train), (self.x_test, self.y_test) = cifar10.load_data()\n",
    "        self.classes = ['plane', 'car', 'bird', 'cat', 'deer', 'dog', 'frog', 'horse', 'ship', 'truck']\n",
    "        print('CIFAR10 Training data shape:', self.x_train.shape)\n",
    "        print('CIFAR10 Training label shape', self.y_train.shape)\n",
    "        print('CIFAR10 Test data shape', self.x_test.shape)\n",
    "        print('CIFAR10 Test label shape', self.y_test.shape)\n",
    "\n",
    "    def get_stretch_data(self, subtract_mean=True):\n",
    "        \"\"\"\n",
    "        reshape X each image to row vector, and transform Y to one_hot label.\n",
    "        :param subtract_mean:Indicate whether subtract mean image.\n",
    "        :return: x_train, one_hot_y_train, x_test, one_hot_y_test\n",
    "        \"\"\"\n",
    "        num_classes = len(self.classes)\n",
    "        x_train = np.reshape(self.x_train, (self.x_train.shape[0], -1)).astype('float16')\n",
    "        y_train = keras.utils.to_categorical(self.y_train, num_classes)\n",
    "\n",
    "        x_test = np.reshape(self.x_test, (self.x_test.shape[0], -1)).astype('float16')\n",
    "        y_test = keras.utils.to_categorical(self.y_test, num_classes)\n",
    "\n",
    "        if subtract_mean:\n",
    "            mean_image = np.mean(x_train, axis=0).astype('uint8')\n",
    "            x_train -= mean_image\n",
    "            x_test -= mean_image\n",
    "            # print(x_mean[:10])\n",
    "            # plt.figure(figsize=(4, 4))\n",
    "            # plt.imshow(x_mean.reshape((32, 32, 3)))\n",
    "            # plt.show()\n",
    "\n",
    "        return x_train, y_train, x_test, y_test\n",
    "\n",
    "    def get_data(self, subtract_mean=True, output_shape=None):\n",
    "\n",
    "        num_classes = len(self.classes)\n",
    "        x_train = self.x_train\n",
    "        x_test = self.x_test\n",
    "        x_train = x_train.astype('float')\n",
    "        y_train = keras.utils.to_categorical(self.y_train, num_classes)\n",
    "\n",
    "        x_test = x_test.astype('float')\n",
    "        y_test = keras.utils.to_categorical(self.y_test, num_classes)\n",
    "\n",
    "        if subtract_mean:\n",
    "            mean_image = np.mean(x_train, axis=0)\n",
    "            x_train -= mean_image\n",
    "            x_test -= mean_image\n",
    "        return x_train, y_train, x_test, y_test\n",
    "    \n",
    "from keras.datasets import cifar10\n",
    "cifar10_data = CIFAR10Data()\n",
    "x_train, y_train, x_test, y_test = cifar10_data.get_data(subtract_mean=True)"
   ]
  },
  {
   "cell_type": "code",
   "execution_count": 28,
   "metadata": {},
   "outputs": [
    {
     "name": "stdout",
     "output_type": "stream",
     "text": [
      "(50000, 32, 32, 3)\n"
     ]
    }
   ],
   "source": [
    "print x_train.shape"
   ]
  },
  {
   "cell_type": "code",
   "execution_count": null,
   "metadata": {},
   "outputs": [],
   "source": []
  },
  {
   "cell_type": "code",
   "execution_count": null,
   "metadata": {},
   "outputs": [],
   "source": []
  },
  {
   "cell_type": "code",
   "execution_count": 29,
   "metadata": {},
   "outputs": [
    {
     "name": "stdout",
     "output_type": "stream",
     "text": [
      "_________________________________________________________________\n",
      "Layer (type)                 Output Shape              Param #   \n",
      "=================================================================\n",
      "conv2d_5 (Conv2D)            (None, 32, 32, 32)        4736      \n",
      "_________________________________________________________________\n",
      "dropout_5 (Dropout)          (None, 32, 32, 32)        0         \n",
      "_________________________________________________________________\n",
      "batch_normalization_7 (Batch (None, 32, 32, 32)        128       \n",
      "_________________________________________________________________\n",
      "activation_9 (Activation)    (None, 32, 32, 32)        0         \n",
      "_________________________________________________________________\n",
      "max_pooling2d_5 (MaxPooling2 (None, 16, 16, 32)        0         \n",
      "_________________________________________________________________\n",
      "conv2d_6 (Conv2D)            (None, 16, 16, 64)        100416    \n",
      "_________________________________________________________________\n",
      "dropout_6 (Dropout)          (None, 16, 16, 64)        0         \n",
      "_________________________________________________________________\n",
      "batch_normalization_8 (Batch (None, 16, 16, 64)        256       \n",
      "_________________________________________________________________\n",
      "activation_10 (Activation)   (None, 16, 16, 64)        0         \n",
      "_________________________________________________________________\n",
      "max_pooling2d_6 (MaxPooling2 (None, 8, 8, 64)          0         \n",
      "_________________________________________________________________\n",
      "flatten_3 (Flatten)          (None, 4096)              0         \n",
      "_________________________________________________________________\n",
      "dense_5 (Dense)              (None, 1024)              4195328   \n",
      "_________________________________________________________________\n",
      "batch_normalization_9 (Batch (None, 1024)              4096      \n",
      "_________________________________________________________________\n",
      "activation_11 (Activation)   (None, 1024)              0         \n",
      "_________________________________________________________________\n",
      "dense_6 (Dense)              (None, 10)                10250     \n",
      "_________________________________________________________________\n",
      "activation_12 (Activation)   (None, 10)                0         \n",
      "=================================================================\n",
      "Total params: 4,315,210\n",
      "Trainable params: 4,312,970\n",
      "Non-trainable params: 2,240\n",
      "_________________________________________________________________\n"
     ]
    }
   ],
   "source": [
    "complex_model = complex_cnn(classes=10, input_shape=x_train.shape[1:])\n",
    "complex_model.compile(optimizer=keras.optimizers.RMSprop(lr=1e-3),\n",
    "                      loss=keras.losses.categorical_crossentropy,\n",
    "                      metrics=['accuracy'],\n",
    "                      )\n",
    "complex_model.summary()"
   ]
  },
  {
   "cell_type": "code",
   "execution_count": 51,
   "metadata": {},
   "outputs": [
    {
     "name": "stdout",
     "output_type": "stream",
     "text": [
      "Train on 49000 samples, validate on 1000 samples\n",
      "Epoch 1/5\n",
      "49000/49000 [==============================] - 249s 5ms/step - loss: 1.3773 - acc: 0.5235 - val_loss: 1.3106 - val_acc: 0.5610\n",
      "Epoch 2/5\n",
      "49000/49000 [==============================] - 462s 9ms/step - loss: 0.9589 - acc: 0.6653 - val_loss: 1.1927 - val_acc: 0.5730\n",
      "Epoch 3/5\n",
      "49000/49000 [==============================] - 248s 5ms/step - loss: 0.7606 - acc: 0.7317 - val_loss: 1.1043 - val_acc: 0.6330\n",
      "Epoch 4/5\n",
      "49000/49000 [==============================] - 248s 5ms/step - loss: 0.6161 - acc: 0.7842 - val_loss: 1.0923 - val_acc: 0.6410\n",
      "Epoch 5/5\n",
      "49000/49000 [==============================] - 250s 5ms/step - loss: 0.4841 - acc: 0.8303 - val_loss: 1.1950 - val_acc: 0.6330\n"
     ]
    }
   ],
   "source": [
    "##49000 for train 1000 for validation\n",
    "history = complex_model.fit(x_train, y_train, batch_size=64, epochs=5, validation_split=0.02)\n"
   ]
  },
  {
   "cell_type": "code",
   "execution_count": 52,
   "metadata": {},
   "outputs": [
    {
     "name": "stdout",
     "output_type": "stream",
     "text": [
      "10000/10000 [==============================] - 12s 1ms/step\n",
      "evaluate loss :1.200404 acc:0.633400\n"
     ]
    }
   ],
   "source": [
    "loss, acc = complex_model.evaluate(x_test, y_test)\n",
    "print('evaluate loss :%f acc:%f' % (loss, acc))"
   ]
  },
  {
   "cell_type": "code",
   "execution_count": 30,
   "metadata": {},
   "outputs": [
    {
     "name": "stdout",
     "output_type": "stream",
     "text": [
      "('PCA runtime:', 1.1489500999450684)\n"
     ]
    },
    {
     "ename": "ValueError",
     "evalue": "Error when checking input: expected conv2d_5_input to have 4 dimensions, but got array with shape (50000, 40)",
     "output_type": "error",
     "traceback": [
      "\u001b[0;31m---------------------------------------------------------------------------\u001b[0m",
      "\u001b[0;31mValueError\u001b[0m                                Traceback (most recent call last)",
      "\u001b[0;32m<ipython-input-30-99c4f23fed0a>\u001b[0m in \u001b[0;36m<module>\u001b[0;34m()\u001b[0m\n\u001b[1;32m     11\u001b[0m \u001b[0;32mprint\u001b[0m\u001b[0;34m(\u001b[0m\u001b[0;34m'PCA runtime:'\u001b[0m\u001b[0;34m,\u001b[0m \u001b[0mto\u001b[0m\u001b[0;34m)\u001b[0m\u001b[0;34m\u001b[0m\u001b[0m\n\u001b[1;32m     12\u001b[0m \u001b[0;34m\u001b[0m\u001b[0m\n\u001b[0;32m---> 13\u001b[0;31m \u001b[0mhistory\u001b[0m \u001b[0;34m=\u001b[0m \u001b[0mcomplex_model\u001b[0m\u001b[0;34m.\u001b[0m\u001b[0mfit\u001b[0m\u001b[0;34m(\u001b[0m\u001b[0mtrain_X_pca\u001b[0m\u001b[0;34m,\u001b[0m \u001b[0my_train\u001b[0m\u001b[0;34m,\u001b[0m \u001b[0mbatch_size\u001b[0m\u001b[0;34m=\u001b[0m\u001b[0;36m64\u001b[0m\u001b[0;34m,\u001b[0m \u001b[0mepochs\u001b[0m\u001b[0;34m=\u001b[0m\u001b[0;36m5\u001b[0m\u001b[0;34m,\u001b[0m \u001b[0mvalidation_split\u001b[0m\u001b[0;34m=\u001b[0m\u001b[0;36m0.02\u001b[0m\u001b[0;34m)\u001b[0m\u001b[0;34m\u001b[0m\u001b[0m\n\u001b[0m\u001b[1;32m     14\u001b[0m \u001b[0;34m\u001b[0m\u001b[0m\n\u001b[1;32m     15\u001b[0m \u001b[0;34m\u001b[0m\u001b[0m\n",
      "\u001b[0;32m/Users/zhiyuzhang/anaconda2/lib/python2.7/site-packages/keras/engine/training.pyc\u001b[0m in \u001b[0;36mfit\u001b[0;34m(self, x, y, batch_size, epochs, verbose, callbacks, validation_split, validation_data, shuffle, class_weight, sample_weight, initial_epoch, steps_per_epoch, validation_steps, **kwargs)\u001b[0m\n\u001b[1;32m    953\u001b[0m             \u001b[0msample_weight\u001b[0m\u001b[0;34m=\u001b[0m\u001b[0msample_weight\u001b[0m\u001b[0;34m,\u001b[0m\u001b[0;34m\u001b[0m\u001b[0m\n\u001b[1;32m    954\u001b[0m             \u001b[0mclass_weight\u001b[0m\u001b[0;34m=\u001b[0m\u001b[0mclass_weight\u001b[0m\u001b[0;34m,\u001b[0m\u001b[0;34m\u001b[0m\u001b[0m\n\u001b[0;32m--> 955\u001b[0;31m             batch_size=batch_size)\n\u001b[0m\u001b[1;32m    956\u001b[0m         \u001b[0;31m# Prepare validation data.\u001b[0m\u001b[0;34m\u001b[0m\u001b[0;34m\u001b[0m\u001b[0m\n\u001b[1;32m    957\u001b[0m         \u001b[0mdo_validation\u001b[0m \u001b[0;34m=\u001b[0m \u001b[0mFalse\u001b[0m\u001b[0;34m\u001b[0m\u001b[0m\n",
      "\u001b[0;32m/Users/zhiyuzhang/anaconda2/lib/python2.7/site-packages/keras/engine/training.pyc\u001b[0m in \u001b[0;36m_standardize_user_data\u001b[0;34m(self, x, y, sample_weight, class_weight, check_array_lengths, batch_size)\u001b[0m\n\u001b[1;32m    752\u001b[0m             \u001b[0mfeed_input_shapes\u001b[0m\u001b[0;34m,\u001b[0m\u001b[0;34m\u001b[0m\u001b[0m\n\u001b[1;32m    753\u001b[0m             \u001b[0mcheck_batch_axis\u001b[0m\u001b[0;34m=\u001b[0m\u001b[0mFalse\u001b[0m\u001b[0;34m,\u001b[0m  \u001b[0;31m# Don't enforce the batch size.\u001b[0m\u001b[0;34m\u001b[0m\u001b[0m\n\u001b[0;32m--> 754\u001b[0;31m             exception_prefix='input')\n\u001b[0m\u001b[1;32m    755\u001b[0m \u001b[0;34m\u001b[0m\u001b[0m\n\u001b[1;32m    756\u001b[0m         \u001b[0;32mif\u001b[0m \u001b[0my\u001b[0m \u001b[0;32mis\u001b[0m \u001b[0;32mnot\u001b[0m \u001b[0mNone\u001b[0m\u001b[0;34m:\u001b[0m\u001b[0;34m\u001b[0m\u001b[0m\n",
      "\u001b[0;32m/Users/zhiyuzhang/anaconda2/lib/python2.7/site-packages/keras/engine/training_utils.pyc\u001b[0m in \u001b[0;36mstandardize_input_data\u001b[0;34m(data, names, shapes, check_batch_axis, exception_prefix)\u001b[0m\n\u001b[1;32m    124\u001b[0m                         \u001b[0;34m': expected '\u001b[0m \u001b[0;34m+\u001b[0m \u001b[0mnames\u001b[0m\u001b[0;34m[\u001b[0m\u001b[0mi\u001b[0m\u001b[0;34m]\u001b[0m \u001b[0;34m+\u001b[0m \u001b[0;34m' to have '\u001b[0m \u001b[0;34m+\u001b[0m\u001b[0;34m\u001b[0m\u001b[0m\n\u001b[1;32m    125\u001b[0m                         \u001b[0mstr\u001b[0m\u001b[0;34m(\u001b[0m\u001b[0mlen\u001b[0m\u001b[0;34m(\u001b[0m\u001b[0mshape\u001b[0m\u001b[0;34m)\u001b[0m\u001b[0;34m)\u001b[0m \u001b[0;34m+\u001b[0m \u001b[0;34m' dimensions, but got array '\u001b[0m\u001b[0;34m\u001b[0m\u001b[0m\n\u001b[0;32m--> 126\u001b[0;31m                         'with shape ' + str(data_shape))\n\u001b[0m\u001b[1;32m    127\u001b[0m                 \u001b[0;32mif\u001b[0m \u001b[0;32mnot\u001b[0m \u001b[0mcheck_batch_axis\u001b[0m\u001b[0;34m:\u001b[0m\u001b[0;34m\u001b[0m\u001b[0m\n\u001b[1;32m    128\u001b[0m                     \u001b[0mdata_shape\u001b[0m \u001b[0;34m=\u001b[0m \u001b[0mdata_shape\u001b[0m\u001b[0;34m[\u001b[0m\u001b[0;36m1\u001b[0m\u001b[0;34m:\u001b[0m\u001b[0;34m]\u001b[0m\u001b[0;34m\u001b[0m\u001b[0m\n",
      "\u001b[0;31mValueError\u001b[0m: Error when checking input: expected conv2d_5_input to have 4 dimensions, but got array with shape (50000, 40)"
     ]
    }
   ],
   "source": []
  },
  {
   "cell_type": "code",
   "execution_count": null,
   "metadata": {},
   "outputs": [],
   "source": []
  }
 ],
 "metadata": {
  "kernelspec": {
   "display_name": "Python 2",
   "language": "python",
   "name": "python2"
  },
  "language_info": {
   "codemirror_mode": {
    "name": "ipython",
    "version": 2
   },
   "file_extension": ".py",
   "mimetype": "text/x-python",
   "name": "python",
   "nbconvert_exporter": "python",
   "pygments_lexer": "ipython2",
   "version": "2.7.15"
  }
 },
 "nbformat": 4,
 "nbformat_minor": 2
}
